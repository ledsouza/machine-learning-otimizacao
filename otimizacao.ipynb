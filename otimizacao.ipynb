{
 "cells": [
  {
   "cell_type": "markdown",
   "metadata": {},
   "source": [
    "## Dicionário de dados\n"
   ]
  },
  {
   "cell_type": "markdown",
   "metadata": {},
   "source": [
    "- '**receita_cliente**': Renda do cliente em R$\n",
    "- '**anuidade_emprestimo**': Valor anual da taxa de juros do empréstimo em $\n",
    "- '**anos_casa_propria**': Idade da propriedade do cliente em anos\n",
    "- '**telefone_trab**': Acessibilidade do número de telefone comercial (1 indica Sim e 0 indica Não)\n",
    "- '**avaliacao_cidade**': Classificação da cidade do cliente: 3 para excelente, 2 para bom e 1 para médio.\n",
    "- '**score_1**': Pontuação originada de uma fonte externa. Este é um escore normalizado.\n",
    "- '**score_2**': Pontuação originada de uma fonte externa. Este é um escore normalizado.\n",
    "- '**score_3**': Pontuação originada de uma fonte externa. Este é um escore normalizado.\n",
    "- '**score_social**': Quantidade de amigos/familiares do cliente que não cumpriram com pagamentos de empréstimos nos últimos 60 dias.\n",
    "- '**troca_telefone**': Quantidade de dias antes do pedido de empréstimo em que o cliente mudou seu número de telefone.\n",
    "- '**inadimplente**': 1 indica que o cliente não honrou com o pagamento do empréstimo, e 0 indica o contrário.\n"
   ]
  },
  {
   "cell_type": "markdown",
   "metadata": {},
   "source": [
    "## Carregando os dados\n"
   ]
  },
  {
   "cell_type": "code",
   "execution_count": 3,
   "metadata": {},
   "outputs": [
    {
     "data": {
      "text/html": [
       "<div>\n",
       "<style scoped>\n",
       "    .dataframe tbody tr th:only-of-type {\n",
       "        vertical-align: middle;\n",
       "    }\n",
       "\n",
       "    .dataframe tbody tr th {\n",
       "        vertical-align: top;\n",
       "    }\n",
       "\n",
       "    .dataframe thead th {\n",
       "        text-align: right;\n",
       "    }\n",
       "</style>\n",
       "<table border=\"1\" class=\"dataframe\">\n",
       "  <thead>\n",
       "    <tr style=\"text-align: right;\">\n",
       "      <th></th>\n",
       "      <th>receita_cliente</th>\n",
       "      <th>anuidade_emprestimo</th>\n",
       "      <th>anos_casa_propria</th>\n",
       "      <th>telefone_trab</th>\n",
       "      <th>avaliacao_cidade</th>\n",
       "      <th>score_1</th>\n",
       "      <th>score_2</th>\n",
       "      <th>score_3</th>\n",
       "      <th>score_social</th>\n",
       "      <th>troca_telefone</th>\n",
       "      <th>inadimplente</th>\n",
       "    </tr>\n",
       "  </thead>\n",
       "  <tbody>\n",
       "    <tr>\n",
       "      <th>0</th>\n",
       "      <td>16855.246324</td>\n",
       "      <td>2997.000000</td>\n",
       "      <td>12.157324</td>\n",
       "      <td>0</td>\n",
       "      <td>2.0</td>\n",
       "      <td>0.501213</td>\n",
       "      <td>0.003109</td>\n",
       "      <td>0.513171</td>\n",
       "      <td>0.117428</td>\n",
       "      <td>243.0</td>\n",
       "      <td>1</td>\n",
       "    </tr>\n",
       "    <tr>\n",
       "      <th>1</th>\n",
       "      <td>13500.000000</td>\n",
       "      <td>2776.050000</td>\n",
       "      <td>12.157324</td>\n",
       "      <td>0</td>\n",
       "      <td>2.0</td>\n",
       "      <td>0.501213</td>\n",
       "      <td>0.269730</td>\n",
       "      <td>0.513171</td>\n",
       "      <td>0.097900</td>\n",
       "      <td>617.0</td>\n",
       "      <td>0</td>\n",
       "    </tr>\n",
       "    <tr>\n",
       "      <th>2</th>\n",
       "      <td>11250.000000</td>\n",
       "      <td>2722.188351</td>\n",
       "      <td>12.157324</td>\n",
       "      <td>0</td>\n",
       "      <td>3.0</td>\n",
       "      <td>0.701396</td>\n",
       "      <td>0.518625</td>\n",
       "      <td>0.700184</td>\n",
       "      <td>0.118600</td>\n",
       "      <td>9.0</td>\n",
       "      <td>0</td>\n",
       "    </tr>\n",
       "    <tr>\n",
       "      <th>3</th>\n",
       "      <td>27000.000000</td>\n",
       "      <td>6750.000000</td>\n",
       "      <td>3.000000</td>\n",
       "      <td>0</td>\n",
       "      <td>2.0</td>\n",
       "      <td>0.501213</td>\n",
       "      <td>0.649571</td>\n",
       "      <td>0.513171</td>\n",
       "      <td>0.047400</td>\n",
       "      <td>300.0</td>\n",
       "      <td>0</td>\n",
       "    </tr>\n",
       "    <tr>\n",
       "      <th>4</th>\n",
       "      <td>22500.000000</td>\n",
       "      <td>3097.800000</td>\n",
       "      <td>12.157324</td>\n",
       "      <td>0</td>\n",
       "      <td>2.0</td>\n",
       "      <td>0.440744</td>\n",
       "      <td>0.509677</td>\n",
       "      <td>0.513171</td>\n",
       "      <td>0.014400</td>\n",
       "      <td>2913.0</td>\n",
       "      <td>1</td>\n",
       "    </tr>\n",
       "  </tbody>\n",
       "</table>\n",
       "</div>"
      ],
      "text/plain": [
       "   receita_cliente  anuidade_emprestimo  anos_casa_propria  telefone_trab  \\\n",
       "0     16855.246324          2997.000000          12.157324              0   \n",
       "1     13500.000000          2776.050000          12.157324              0   \n",
       "2     11250.000000          2722.188351          12.157324              0   \n",
       "3     27000.000000          6750.000000           3.000000              0   \n",
       "4     22500.000000          3097.800000          12.157324              0   \n",
       "\n",
       "   avaliacao_cidade   score_1   score_2   score_3  score_social  \\\n",
       "0               2.0  0.501213  0.003109  0.513171      0.117428   \n",
       "1               2.0  0.501213  0.269730  0.513171      0.097900   \n",
       "2               3.0  0.701396  0.518625  0.700184      0.118600   \n",
       "3               2.0  0.501213  0.649571  0.513171      0.047400   \n",
       "4               2.0  0.440744  0.509677  0.513171      0.014400   \n",
       "\n",
       "   troca_telefone  inadimplente  \n",
       "0           243.0             1  \n",
       "1           617.0             0  \n",
       "2             9.0             0  \n",
       "3           300.0             0  \n",
       "4          2913.0             1  "
      ]
     },
     "execution_count": 3,
     "metadata": {},
     "output_type": "execute_result"
    }
   ],
   "source": [
    "import pandas as pd\n",
    "\n",
    "dados = pd.read_csv(\n",
    "    \"https://3070-classificacao-otimizacao.s3.us-east-2.amazonaws.com/dados_inadimplencia.csv\"\n",
    ")\n",
    "dados.head()"
   ]
  },
  {
   "cell_type": "code",
   "execution_count": 4,
   "metadata": {},
   "outputs": [
    {
     "name": "stdout",
     "output_type": "stream",
     "text": [
      "<class 'pandas.core.frame.DataFrame'>\n",
      "RangeIndex: 14578 entries, 0 to 14577\n",
      "Data columns (total 11 columns):\n",
      " #   Column               Non-Null Count  Dtype  \n",
      "---  ------               --------------  -----  \n",
      " 0   receita_cliente      14578 non-null  float64\n",
      " 1   anuidade_emprestimo  14578 non-null  float64\n",
      " 2   anos_casa_propria    14578 non-null  float64\n",
      " 3   telefone_trab        14578 non-null  int64  \n",
      " 4   avaliacao_cidade     14578 non-null  float64\n",
      " 5   score_1              14578 non-null  float64\n",
      " 6   score_2              14578 non-null  float64\n",
      " 7   score_3              14578 non-null  float64\n",
      " 8   score_social         14578 non-null  float64\n",
      " 9   troca_telefone       14578 non-null  float64\n",
      " 10  inadimplente         14578 non-null  int64  \n",
      "dtypes: float64(9), int64(2)\n",
      "memory usage: 1.2 MB\n"
     ]
    }
   ],
   "source": [
    "dados.info()"
   ]
  },
  {
   "cell_type": "code",
   "execution_count": 5,
   "metadata": {},
   "outputs": [
    {
     "data": {
      "text/plain": [
       "inadimplente\n",
       "0    67.649883\n",
       "1    32.350117\n",
       "Name: proportion, dtype: float64"
      ]
     },
     "execution_count": 5,
     "metadata": {},
     "output_type": "execute_result"
    }
   ],
   "source": [
    "dados[\"inadimplente\"].value_counts(normalize=True) * 100"
   ]
  },
  {
   "cell_type": "markdown",
   "metadata": {},
   "source": [
    "## Dividindo os dados em treino e teste\n"
   ]
  },
  {
   "cell_type": "code",
   "execution_count": 6,
   "metadata": {},
   "outputs": [],
   "source": [
    "from sklearn.model_selection import train_test_split\n",
    "\n",
    "SEED = 42\n",
    "\n",
    "x = dados.drop(\"inadimplente\", axis=1)\n",
    "y = dados[\"inadimplente\"]\n",
    "\n",
    "x_treino, x_teste, y_treino, y_teste = train_test_split(\n",
    "    x, y, test_size=0.33, stratify=y\n",
    ")"
   ]
  },
  {
   "cell_type": "markdown",
   "metadata": {},
   "source": [
    "## Criando os modelos\n"
   ]
  },
  {
   "cell_type": "code",
   "execution_count": 7,
   "metadata": {},
   "outputs": [
    {
     "name": "stdout",
     "output_type": "stream",
     "text": [
      "Recall Decision Tree: 0.13881748071979436\n"
     ]
    }
   ],
   "source": [
    "from sklearn.tree import DecisionTreeClassifier\n",
    "from sklearn.metrics import recall_score\n",
    "\n",
    "modelo_decision_tree = DecisionTreeClassifier(max_depth=3, random_state=SEED)\n",
    "modelo_decision_tree.fit(x_treino, y_treino)\n",
    "y_pred = modelo_decision_tree.predict(x_teste)\n",
    "print(f\"Recall Decision Tree: {recall_score(y_teste, y_pred)}\")"
   ]
  },
  {
   "cell_type": "code",
   "execution_count": 8,
   "metadata": {},
   "outputs": [
    {
     "name": "stdout",
     "output_type": "stream",
     "text": [
      "Recall Logistic Regression: 0.22043701799485863\n"
     ]
    }
   ],
   "source": [
    "from sklearn.linear_model import LogisticRegression\n",
    "from sklearn.preprocessing import StandardScaler\n",
    "from sklearn.pipeline import make_pipeline\n",
    "\n",
    "regression_pipeline = make_pipeline(StandardScaler(), LogisticRegression())\n",
    "regression_pipeline.fit(x_treino, y_treino)\n",
    "y_pred = regression_pipeline.predict(x_teste)\n",
    "print(f\"Recall Logistic Regression: {recall_score(y_teste, y_pred)}\")"
   ]
  },
  {
   "cell_type": "markdown",
   "metadata": {},
   "source": [
    "## GridSearchCV\n"
   ]
  },
  {
   "cell_type": "markdown",
   "metadata": {},
   "source": [
    "### Decision Tree\n"
   ]
  },
  {
   "cell_type": "code",
   "execution_count": 9,
   "metadata": {},
   "outputs": [
    {
     "data": {
      "text/html": [
       "<style>#sk-container-id-1 {\n",
       "  /* Definition of color scheme common for light and dark mode */\n",
       "  --sklearn-color-text: black;\n",
       "  --sklearn-color-line: gray;\n",
       "  /* Definition of color scheme for unfitted estimators */\n",
       "  --sklearn-color-unfitted-level-0: #fff5e6;\n",
       "  --sklearn-color-unfitted-level-1: #f6e4d2;\n",
       "  --sklearn-color-unfitted-level-2: #ffe0b3;\n",
       "  --sklearn-color-unfitted-level-3: chocolate;\n",
       "  /* Definition of color scheme for fitted estimators */\n",
       "  --sklearn-color-fitted-level-0: #f0f8ff;\n",
       "  --sklearn-color-fitted-level-1: #d4ebff;\n",
       "  --sklearn-color-fitted-level-2: #b3dbfd;\n",
       "  --sklearn-color-fitted-level-3: cornflowerblue;\n",
       "\n",
       "  /* Specific color for light theme */\n",
       "  --sklearn-color-text-on-default-background: var(--sg-text-color, var(--theme-code-foreground, var(--jp-content-font-color1, black)));\n",
       "  --sklearn-color-background: var(--sg-background-color, var(--theme-background, var(--jp-layout-color0, white)));\n",
       "  --sklearn-color-border-box: var(--sg-text-color, var(--theme-code-foreground, var(--jp-content-font-color1, black)));\n",
       "  --sklearn-color-icon: #696969;\n",
       "\n",
       "  @media (prefers-color-scheme: dark) {\n",
       "    /* Redefinition of color scheme for dark theme */\n",
       "    --sklearn-color-text-on-default-background: var(--sg-text-color, var(--theme-code-foreground, var(--jp-content-font-color1, white)));\n",
       "    --sklearn-color-background: var(--sg-background-color, var(--theme-background, var(--jp-layout-color0, #111)));\n",
       "    --sklearn-color-border-box: var(--sg-text-color, var(--theme-code-foreground, var(--jp-content-font-color1, white)));\n",
       "    --sklearn-color-icon: #878787;\n",
       "  }\n",
       "}\n",
       "\n",
       "#sk-container-id-1 {\n",
       "  color: var(--sklearn-color-text);\n",
       "}\n",
       "\n",
       "#sk-container-id-1 pre {\n",
       "  padding: 0;\n",
       "}\n",
       "\n",
       "#sk-container-id-1 input.sk-hidden--visually {\n",
       "  border: 0;\n",
       "  clip: rect(1px 1px 1px 1px);\n",
       "  clip: rect(1px, 1px, 1px, 1px);\n",
       "  height: 1px;\n",
       "  margin: -1px;\n",
       "  overflow: hidden;\n",
       "  padding: 0;\n",
       "  position: absolute;\n",
       "  width: 1px;\n",
       "}\n",
       "\n",
       "#sk-container-id-1 div.sk-dashed-wrapped {\n",
       "  border: 1px dashed var(--sklearn-color-line);\n",
       "  margin: 0 0.4em 0.5em 0.4em;\n",
       "  box-sizing: border-box;\n",
       "  padding-bottom: 0.4em;\n",
       "  background-color: var(--sklearn-color-background);\n",
       "}\n",
       "\n",
       "#sk-container-id-1 div.sk-container {\n",
       "  /* jupyter's `normalize.less` sets `[hidden] { display: none; }`\n",
       "     but bootstrap.min.css set `[hidden] { display: none !important; }`\n",
       "     so we also need the `!important` here to be able to override the\n",
       "     default hidden behavior on the sphinx rendered scikit-learn.org.\n",
       "     See: https://github.com/scikit-learn/scikit-learn/issues/21755 */\n",
       "  display: inline-block !important;\n",
       "  position: relative;\n",
       "}\n",
       "\n",
       "#sk-container-id-1 div.sk-text-repr-fallback {\n",
       "  display: none;\n",
       "}\n",
       "\n",
       "div.sk-parallel-item,\n",
       "div.sk-serial,\n",
       "div.sk-item {\n",
       "  /* draw centered vertical line to link estimators */\n",
       "  background-image: linear-gradient(var(--sklearn-color-text-on-default-background), var(--sklearn-color-text-on-default-background));\n",
       "  background-size: 2px 100%;\n",
       "  background-repeat: no-repeat;\n",
       "  background-position: center center;\n",
       "}\n",
       "\n",
       "/* Parallel-specific style estimator block */\n",
       "\n",
       "#sk-container-id-1 div.sk-parallel-item::after {\n",
       "  content: \"\";\n",
       "  width: 100%;\n",
       "  border-bottom: 2px solid var(--sklearn-color-text-on-default-background);\n",
       "  flex-grow: 1;\n",
       "}\n",
       "\n",
       "#sk-container-id-1 div.sk-parallel {\n",
       "  display: flex;\n",
       "  align-items: stretch;\n",
       "  justify-content: center;\n",
       "  background-color: var(--sklearn-color-background);\n",
       "  position: relative;\n",
       "}\n",
       "\n",
       "#sk-container-id-1 div.sk-parallel-item {\n",
       "  display: flex;\n",
       "  flex-direction: column;\n",
       "}\n",
       "\n",
       "#sk-container-id-1 div.sk-parallel-item:first-child::after {\n",
       "  align-self: flex-end;\n",
       "  width: 50%;\n",
       "}\n",
       "\n",
       "#sk-container-id-1 div.sk-parallel-item:last-child::after {\n",
       "  align-self: flex-start;\n",
       "  width: 50%;\n",
       "}\n",
       "\n",
       "#sk-container-id-1 div.sk-parallel-item:only-child::after {\n",
       "  width: 0;\n",
       "}\n",
       "\n",
       "/* Serial-specific style estimator block */\n",
       "\n",
       "#sk-container-id-1 div.sk-serial {\n",
       "  display: flex;\n",
       "  flex-direction: column;\n",
       "  align-items: center;\n",
       "  background-color: var(--sklearn-color-background);\n",
       "  padding-right: 1em;\n",
       "  padding-left: 1em;\n",
       "}\n",
       "\n",
       "\n",
       "/* Toggleable style: style used for estimator/Pipeline/ColumnTransformer box that is\n",
       "clickable and can be expanded/collapsed.\n",
       "- Pipeline and ColumnTransformer use this feature and define the default style\n",
       "- Estimators will overwrite some part of the style using the `sk-estimator` class\n",
       "*/\n",
       "\n",
       "/* Pipeline and ColumnTransformer style (default) */\n",
       "\n",
       "#sk-container-id-1 div.sk-toggleable {\n",
       "  /* Default theme specific background. It is overwritten whether we have a\n",
       "  specific estimator or a Pipeline/ColumnTransformer */\n",
       "  background-color: var(--sklearn-color-background);\n",
       "}\n",
       "\n",
       "/* Toggleable label */\n",
       "#sk-container-id-1 label.sk-toggleable__label {\n",
       "  cursor: pointer;\n",
       "  display: block;\n",
       "  width: 100%;\n",
       "  margin-bottom: 0;\n",
       "  padding: 0.5em;\n",
       "  box-sizing: border-box;\n",
       "  text-align: center;\n",
       "}\n",
       "\n",
       "#sk-container-id-1 label.sk-toggleable__label-arrow:before {\n",
       "  /* Arrow on the left of the label */\n",
       "  content: \"▸\";\n",
       "  float: left;\n",
       "  margin-right: 0.25em;\n",
       "  color: var(--sklearn-color-icon);\n",
       "}\n",
       "\n",
       "#sk-container-id-1 label.sk-toggleable__label-arrow:hover:before {\n",
       "  color: var(--sklearn-color-text);\n",
       "}\n",
       "\n",
       "/* Toggleable content - dropdown */\n",
       "\n",
       "#sk-container-id-1 div.sk-toggleable__content {\n",
       "  max-height: 0;\n",
       "  max-width: 0;\n",
       "  overflow: hidden;\n",
       "  text-align: left;\n",
       "  /* unfitted */\n",
       "  background-color: var(--sklearn-color-unfitted-level-0);\n",
       "}\n",
       "\n",
       "#sk-container-id-1 div.sk-toggleable__content.fitted {\n",
       "  /* fitted */\n",
       "  background-color: var(--sklearn-color-fitted-level-0);\n",
       "}\n",
       "\n",
       "#sk-container-id-1 div.sk-toggleable__content pre {\n",
       "  margin: 0.2em;\n",
       "  border-radius: 0.25em;\n",
       "  color: var(--sklearn-color-text);\n",
       "  /* unfitted */\n",
       "  background-color: var(--sklearn-color-unfitted-level-0);\n",
       "}\n",
       "\n",
       "#sk-container-id-1 div.sk-toggleable__content.fitted pre {\n",
       "  /* unfitted */\n",
       "  background-color: var(--sklearn-color-fitted-level-0);\n",
       "}\n",
       "\n",
       "#sk-container-id-1 input.sk-toggleable__control:checked~div.sk-toggleable__content {\n",
       "  /* Expand drop-down */\n",
       "  max-height: 200px;\n",
       "  max-width: 100%;\n",
       "  overflow: auto;\n",
       "}\n",
       "\n",
       "#sk-container-id-1 input.sk-toggleable__control:checked~label.sk-toggleable__label-arrow:before {\n",
       "  content: \"▾\";\n",
       "}\n",
       "\n",
       "/* Pipeline/ColumnTransformer-specific style */\n",
       "\n",
       "#sk-container-id-1 div.sk-label input.sk-toggleable__control:checked~label.sk-toggleable__label {\n",
       "  color: var(--sklearn-color-text);\n",
       "  background-color: var(--sklearn-color-unfitted-level-2);\n",
       "}\n",
       "\n",
       "#sk-container-id-1 div.sk-label.fitted input.sk-toggleable__control:checked~label.sk-toggleable__label {\n",
       "  background-color: var(--sklearn-color-fitted-level-2);\n",
       "}\n",
       "\n",
       "/* Estimator-specific style */\n",
       "\n",
       "/* Colorize estimator box */\n",
       "#sk-container-id-1 div.sk-estimator input.sk-toggleable__control:checked~label.sk-toggleable__label {\n",
       "  /* unfitted */\n",
       "  background-color: var(--sklearn-color-unfitted-level-2);\n",
       "}\n",
       "\n",
       "#sk-container-id-1 div.sk-estimator.fitted input.sk-toggleable__control:checked~label.sk-toggleable__label {\n",
       "  /* fitted */\n",
       "  background-color: var(--sklearn-color-fitted-level-2);\n",
       "}\n",
       "\n",
       "#sk-container-id-1 div.sk-label label.sk-toggleable__label,\n",
       "#sk-container-id-1 div.sk-label label {\n",
       "  /* The background is the default theme color */\n",
       "  color: var(--sklearn-color-text-on-default-background);\n",
       "}\n",
       "\n",
       "/* On hover, darken the color of the background */\n",
       "#sk-container-id-1 div.sk-label:hover label.sk-toggleable__label {\n",
       "  color: var(--sklearn-color-text);\n",
       "  background-color: var(--sklearn-color-unfitted-level-2);\n",
       "}\n",
       "\n",
       "/* Label box, darken color on hover, fitted */\n",
       "#sk-container-id-1 div.sk-label.fitted:hover label.sk-toggleable__label.fitted {\n",
       "  color: var(--sklearn-color-text);\n",
       "  background-color: var(--sklearn-color-fitted-level-2);\n",
       "}\n",
       "\n",
       "/* Estimator label */\n",
       "\n",
       "#sk-container-id-1 div.sk-label label {\n",
       "  font-family: monospace;\n",
       "  font-weight: bold;\n",
       "  display: inline-block;\n",
       "  line-height: 1.2em;\n",
       "}\n",
       "\n",
       "#sk-container-id-1 div.sk-label-container {\n",
       "  text-align: center;\n",
       "}\n",
       "\n",
       "/* Estimator-specific */\n",
       "#sk-container-id-1 div.sk-estimator {\n",
       "  font-family: monospace;\n",
       "  border: 1px dotted var(--sklearn-color-border-box);\n",
       "  border-radius: 0.25em;\n",
       "  box-sizing: border-box;\n",
       "  margin-bottom: 0.5em;\n",
       "  /* unfitted */\n",
       "  background-color: var(--sklearn-color-unfitted-level-0);\n",
       "}\n",
       "\n",
       "#sk-container-id-1 div.sk-estimator.fitted {\n",
       "  /* fitted */\n",
       "  background-color: var(--sklearn-color-fitted-level-0);\n",
       "}\n",
       "\n",
       "/* on hover */\n",
       "#sk-container-id-1 div.sk-estimator:hover {\n",
       "  /* unfitted */\n",
       "  background-color: var(--sklearn-color-unfitted-level-2);\n",
       "}\n",
       "\n",
       "#sk-container-id-1 div.sk-estimator.fitted:hover {\n",
       "  /* fitted */\n",
       "  background-color: var(--sklearn-color-fitted-level-2);\n",
       "}\n",
       "\n",
       "/* Specification for estimator info (e.g. \"i\" and \"?\") */\n",
       "\n",
       "/* Common style for \"i\" and \"?\" */\n",
       "\n",
       ".sk-estimator-doc-link,\n",
       "a:link.sk-estimator-doc-link,\n",
       "a:visited.sk-estimator-doc-link {\n",
       "  float: right;\n",
       "  font-size: smaller;\n",
       "  line-height: 1em;\n",
       "  font-family: monospace;\n",
       "  background-color: var(--sklearn-color-background);\n",
       "  border-radius: 1em;\n",
       "  height: 1em;\n",
       "  width: 1em;\n",
       "  text-decoration: none !important;\n",
       "  margin-left: 1ex;\n",
       "  /* unfitted */\n",
       "  border: var(--sklearn-color-unfitted-level-1) 1pt solid;\n",
       "  color: var(--sklearn-color-unfitted-level-1);\n",
       "}\n",
       "\n",
       ".sk-estimator-doc-link.fitted,\n",
       "a:link.sk-estimator-doc-link.fitted,\n",
       "a:visited.sk-estimator-doc-link.fitted {\n",
       "  /* fitted */\n",
       "  border: var(--sklearn-color-fitted-level-1) 1pt solid;\n",
       "  color: var(--sklearn-color-fitted-level-1);\n",
       "}\n",
       "\n",
       "/* On hover */\n",
       "div.sk-estimator:hover .sk-estimator-doc-link:hover,\n",
       ".sk-estimator-doc-link:hover,\n",
       "div.sk-label-container:hover .sk-estimator-doc-link:hover,\n",
       ".sk-estimator-doc-link:hover {\n",
       "  /* unfitted */\n",
       "  background-color: var(--sklearn-color-unfitted-level-3);\n",
       "  color: var(--sklearn-color-background);\n",
       "  text-decoration: none;\n",
       "}\n",
       "\n",
       "div.sk-estimator.fitted:hover .sk-estimator-doc-link.fitted:hover,\n",
       ".sk-estimator-doc-link.fitted:hover,\n",
       "div.sk-label-container:hover .sk-estimator-doc-link.fitted:hover,\n",
       ".sk-estimator-doc-link.fitted:hover {\n",
       "  /* fitted */\n",
       "  background-color: var(--sklearn-color-fitted-level-3);\n",
       "  color: var(--sklearn-color-background);\n",
       "  text-decoration: none;\n",
       "}\n",
       "\n",
       "/* Span, style for the box shown on hovering the info icon */\n",
       ".sk-estimator-doc-link span {\n",
       "  display: none;\n",
       "  z-index: 9999;\n",
       "  position: relative;\n",
       "  font-weight: normal;\n",
       "  right: .2ex;\n",
       "  padding: .5ex;\n",
       "  margin: .5ex;\n",
       "  width: min-content;\n",
       "  min-width: 20ex;\n",
       "  max-width: 50ex;\n",
       "  color: var(--sklearn-color-text);\n",
       "  box-shadow: 2pt 2pt 4pt #999;\n",
       "  /* unfitted */\n",
       "  background: var(--sklearn-color-unfitted-level-0);\n",
       "  border: .5pt solid var(--sklearn-color-unfitted-level-3);\n",
       "}\n",
       "\n",
       ".sk-estimator-doc-link.fitted span {\n",
       "  /* fitted */\n",
       "  background: var(--sklearn-color-fitted-level-0);\n",
       "  border: var(--sklearn-color-fitted-level-3);\n",
       "}\n",
       "\n",
       ".sk-estimator-doc-link:hover span {\n",
       "  display: block;\n",
       "}\n",
       "\n",
       "/* \"?\"-specific style due to the `<a>` HTML tag */\n",
       "\n",
       "#sk-container-id-1 a.estimator_doc_link {\n",
       "  float: right;\n",
       "  font-size: 1rem;\n",
       "  line-height: 1em;\n",
       "  font-family: monospace;\n",
       "  background-color: var(--sklearn-color-background);\n",
       "  border-radius: 1rem;\n",
       "  height: 1rem;\n",
       "  width: 1rem;\n",
       "  text-decoration: none;\n",
       "  /* unfitted */\n",
       "  color: var(--sklearn-color-unfitted-level-1);\n",
       "  border: var(--sklearn-color-unfitted-level-1) 1pt solid;\n",
       "}\n",
       "\n",
       "#sk-container-id-1 a.estimator_doc_link.fitted {\n",
       "  /* fitted */\n",
       "  border: var(--sklearn-color-fitted-level-1) 1pt solid;\n",
       "  color: var(--sklearn-color-fitted-level-1);\n",
       "}\n",
       "\n",
       "/* On hover */\n",
       "#sk-container-id-1 a.estimator_doc_link:hover {\n",
       "  /* unfitted */\n",
       "  background-color: var(--sklearn-color-unfitted-level-3);\n",
       "  color: var(--sklearn-color-background);\n",
       "  text-decoration: none;\n",
       "}\n",
       "\n",
       "#sk-container-id-1 a.estimator_doc_link.fitted:hover {\n",
       "  /* fitted */\n",
       "  background-color: var(--sklearn-color-fitted-level-3);\n",
       "}\n",
       "</style><div id=\"sk-container-id-1\" class=\"sk-top-container\"><div class=\"sk-text-repr-fallback\"><pre>GridSearchCV(cv=StratifiedKFold(n_splits=5, random_state=42, shuffle=True),\n",
       "             estimator=DecisionTreeClassifier(max_depth=3, random_state=42),\n",
       "             n_jobs=-1,\n",
       "             param_grid={&#x27;criterion&#x27;: [&#x27;gini&#x27;, &#x27;entropy&#x27;],\n",
       "                         &#x27;max_depth&#x27;: array([ 6,  8, 10, 12]),\n",
       "                         &#x27;max_features&#x27;: [&#x27;sqrt&#x27;, &#x27;log2&#x27;],\n",
       "                         &#x27;min_samples_leaf&#x27;: array([ 5, 10, 15, 20]),\n",
       "                         &#x27;min_samples_split&#x27;: array([ 5, 10, 15, 20]),\n",
       "                         &#x27;splitter&#x27;: [&#x27;best&#x27;, &#x27;random&#x27;]},\n",
       "             scoring=&#x27;recall&#x27;)</pre><b>In a Jupyter environment, please rerun this cell to show the HTML representation or trust the notebook. <br />On GitHub, the HTML representation is unable to render, please try loading this page with nbviewer.org.</b></div><div class=\"sk-container\" hidden><div class=\"sk-item sk-dashed-wrapped\"><div class=\"sk-label-container\"><div class=\"sk-label fitted sk-toggleable\"><input class=\"sk-toggleable__control sk-hidden--visually\" id=\"sk-estimator-id-1\" type=\"checkbox\" ><label for=\"sk-estimator-id-1\" class=\"sk-toggleable__label fitted sk-toggleable__label-arrow fitted\">&nbsp;&nbsp;GridSearchCV<a class=\"sk-estimator-doc-link fitted\" rel=\"noreferrer\" target=\"_blank\" href=\"https://scikit-learn.org/1.4/modules/generated/sklearn.model_selection.GridSearchCV.html\">?<span>Documentation for GridSearchCV</span></a><span class=\"sk-estimator-doc-link fitted\">i<span>Fitted</span></span></label><div class=\"sk-toggleable__content fitted\"><pre>GridSearchCV(cv=StratifiedKFold(n_splits=5, random_state=42, shuffle=True),\n",
       "             estimator=DecisionTreeClassifier(max_depth=3, random_state=42),\n",
       "             n_jobs=-1,\n",
       "             param_grid={&#x27;criterion&#x27;: [&#x27;gini&#x27;, &#x27;entropy&#x27;],\n",
       "                         &#x27;max_depth&#x27;: array([ 6,  8, 10, 12]),\n",
       "                         &#x27;max_features&#x27;: [&#x27;sqrt&#x27;, &#x27;log2&#x27;],\n",
       "                         &#x27;min_samples_leaf&#x27;: array([ 5, 10, 15, 20]),\n",
       "                         &#x27;min_samples_split&#x27;: array([ 5, 10, 15, 20]),\n",
       "                         &#x27;splitter&#x27;: [&#x27;best&#x27;, &#x27;random&#x27;]},\n",
       "             scoring=&#x27;recall&#x27;)</pre></div> </div></div><div class=\"sk-parallel\"><div class=\"sk-parallel-item\"><div class=\"sk-item\"><div class=\"sk-label-container\"><div class=\"sk-label fitted sk-toggleable\"><input class=\"sk-toggleable__control sk-hidden--visually\" id=\"sk-estimator-id-2\" type=\"checkbox\" ><label for=\"sk-estimator-id-2\" class=\"sk-toggleable__label fitted sk-toggleable__label-arrow fitted\">estimator: DecisionTreeClassifier</label><div class=\"sk-toggleable__content fitted\"><pre>DecisionTreeClassifier(max_depth=3, random_state=42)</pre></div> </div></div><div class=\"sk-serial\"><div class=\"sk-item\"><div class=\"sk-estimator fitted sk-toggleable\"><input class=\"sk-toggleable__control sk-hidden--visually\" id=\"sk-estimator-id-3\" type=\"checkbox\" ><label for=\"sk-estimator-id-3\" class=\"sk-toggleable__label fitted sk-toggleable__label-arrow fitted\">&nbsp;DecisionTreeClassifier<a class=\"sk-estimator-doc-link fitted\" rel=\"noreferrer\" target=\"_blank\" href=\"https://scikit-learn.org/1.4/modules/generated/sklearn.tree.DecisionTreeClassifier.html\">?<span>Documentation for DecisionTreeClassifier</span></a></label><div class=\"sk-toggleable__content fitted\"><pre>DecisionTreeClassifier(max_depth=3, random_state=42)</pre></div> </div></div></div></div></div></div></div></div></div>"
      ],
      "text/plain": [
       "GridSearchCV(cv=StratifiedKFold(n_splits=5, random_state=42, shuffle=True),\n",
       "             estimator=DecisionTreeClassifier(max_depth=3, random_state=42),\n",
       "             n_jobs=-1,\n",
       "             param_grid={'criterion': ['gini', 'entropy'],\n",
       "                         'max_depth': array([ 6,  8, 10, 12]),\n",
       "                         'max_features': ['sqrt', 'log2'],\n",
       "                         'min_samples_leaf': array([ 5, 10, 15, 20]),\n",
       "                         'min_samples_split': array([ 5, 10, 15, 20]),\n",
       "                         'splitter': ['best', 'random']},\n",
       "             scoring='recall')"
      ]
     },
     "execution_count": 9,
     "metadata": {},
     "output_type": "execute_result"
    }
   ],
   "source": [
    "import numpy as np\n",
    "from sklearn.model_selection import GridSearchCV, StratifiedKFold\n",
    "\n",
    "param_grid_dt = {\n",
    "    \"criterion\": [\"gini\", \"entropy\"],\n",
    "    \"max_depth\": np.linspace(6, 12, 4, dtype=int),\n",
    "    \"min_samples_split\": np.linspace(5, 20, 4, dtype=int),\n",
    "    \"min_samples_leaf\": np.linspace(5, 20, 4, dtype=int),\n",
    "    \"max_features\": [\"sqrt\", \"log2\"],\n",
    "    \"splitter\": [\"best\", \"random\"],\n",
    "}\n",
    "\n",
    "\n",
    "decision_tree = DecisionTreeClassifier(max_depth=3, random_state=SEED)\n",
    "cv = StratifiedKFold(shuffle=True, random_state=SEED)\n",
    "\n",
    "tree_search_cv = GridSearchCV(\n",
    "    decision_tree, param_grid=param_grid_dt, cv=cv, scoring=\"recall\", n_jobs=-1\n",
    ")\n",
    "\n",
    "tree_search_cv.fit(x_treino, y_treino)"
   ]
  },
  {
   "cell_type": "code",
   "execution_count": 10,
   "metadata": {},
   "outputs": [
    {
     "data": {
      "text/plain": [
       "{'criterion': 'gini',\n",
       " 'max_depth': 12,\n",
       " 'max_features': 'sqrt',\n",
       " 'min_samples_leaf': 15,\n",
       " 'min_samples_split': 5,\n",
       " 'splitter': 'best'}"
      ]
     },
     "execution_count": 10,
     "metadata": {},
     "output_type": "execute_result"
    }
   ],
   "source": [
    "tree_search_cv.best_params_"
   ]
  },
  {
   "cell_type": "code",
   "execution_count": 11,
   "metadata": {},
   "outputs": [
    {
     "data": {
      "text/html": [
       "<div>\n",
       "<style scoped>\n",
       "    .dataframe tbody tr th:only-of-type {\n",
       "        vertical-align: middle;\n",
       "    }\n",
       "\n",
       "    .dataframe tbody tr th {\n",
       "        vertical-align: top;\n",
       "    }\n",
       "\n",
       "    .dataframe thead th {\n",
       "        text-align: right;\n",
       "    }\n",
       "</style>\n",
       "<table border=\"1\" class=\"dataframe\">\n",
       "  <thead>\n",
       "    <tr style=\"text-align: right;\">\n",
       "      <th></th>\n",
       "      <th>mean_fit_time</th>\n",
       "      <th>std_fit_time</th>\n",
       "      <th>mean_score_time</th>\n",
       "      <th>std_score_time</th>\n",
       "      <th>param_criterion</th>\n",
       "      <th>param_max_depth</th>\n",
       "      <th>param_max_features</th>\n",
       "      <th>param_min_samples_leaf</th>\n",
       "      <th>param_min_samples_split</th>\n",
       "      <th>param_splitter</th>\n",
       "      <th>params</th>\n",
       "      <th>split0_test_score</th>\n",
       "      <th>split1_test_score</th>\n",
       "      <th>split2_test_score</th>\n",
       "      <th>split3_test_score</th>\n",
       "      <th>split4_test_score</th>\n",
       "      <th>mean_test_score</th>\n",
       "      <th>std_test_score</th>\n",
       "      <th>rank_test_score</th>\n",
       "    </tr>\n",
       "  </thead>\n",
       "  <tbody>\n",
       "    <tr>\n",
       "      <th>0</th>\n",
       "      <td>0.009628</td>\n",
       "      <td>0.002852</td>\n",
       "      <td>0.006375</td>\n",
       "      <td>0.007193</td>\n",
       "      <td>gini</td>\n",
       "      <td>6</td>\n",
       "      <td>sqrt</td>\n",
       "      <td>5</td>\n",
       "      <td>5</td>\n",
       "      <td>best</td>\n",
       "      <td>{'criterion': 'gini', 'max_depth': 6, 'max_fea...</td>\n",
       "      <td>0.254747</td>\n",
       "      <td>0.286392</td>\n",
       "      <td>0.330696</td>\n",
       "      <td>0.153481</td>\n",
       "      <td>0.128165</td>\n",
       "      <td>0.230696</td>\n",
       "      <td>0.077660</td>\n",
       "      <td>135</td>\n",
       "    </tr>\n",
       "    <tr>\n",
       "      <th>1</th>\n",
       "      <td>0.003601</td>\n",
       "      <td>0.001195</td>\n",
       "      <td>0.002790</td>\n",
       "      <td>0.001414</td>\n",
       "      <td>gini</td>\n",
       "      <td>6</td>\n",
       "      <td>sqrt</td>\n",
       "      <td>5</td>\n",
       "      <td>5</td>\n",
       "      <td>random</td>\n",
       "      <td>{'criterion': 'gini', 'max_depth': 6, 'max_fea...</td>\n",
       "      <td>0.080696</td>\n",
       "      <td>0.166139</td>\n",
       "      <td>0.151899</td>\n",
       "      <td>0.196203</td>\n",
       "      <td>0.159810</td>\n",
       "      <td>0.150949</td>\n",
       "      <td>0.038193</td>\n",
       "      <td>489</td>\n",
       "    </tr>\n",
       "    <tr>\n",
       "      <th>2</th>\n",
       "      <td>0.010566</td>\n",
       "      <td>0.000231</td>\n",
       "      <td>0.001914</td>\n",
       "      <td>0.000105</td>\n",
       "      <td>gini</td>\n",
       "      <td>6</td>\n",
       "      <td>sqrt</td>\n",
       "      <td>5</td>\n",
       "      <td>10</td>\n",
       "      <td>best</td>\n",
       "      <td>{'criterion': 'gini', 'max_depth': 6, 'max_fea...</td>\n",
       "      <td>0.254747</td>\n",
       "      <td>0.286392</td>\n",
       "      <td>0.330696</td>\n",
       "      <td>0.153481</td>\n",
       "      <td>0.128165</td>\n",
       "      <td>0.230696</td>\n",
       "      <td>0.077660</td>\n",
       "      <td>135</td>\n",
       "    </tr>\n",
       "  </tbody>\n",
       "</table>\n",
       "</div>"
      ],
      "text/plain": [
       "   mean_fit_time  std_fit_time  mean_score_time  std_score_time  \\\n",
       "0       0.009628      0.002852         0.006375        0.007193   \n",
       "1       0.003601      0.001195         0.002790        0.001414   \n",
       "2       0.010566      0.000231         0.001914        0.000105   \n",
       "\n",
       "  param_criterion param_max_depth param_max_features param_min_samples_leaf  \\\n",
       "0            gini               6               sqrt                      5   \n",
       "1            gini               6               sqrt                      5   \n",
       "2            gini               6               sqrt                      5   \n",
       "\n",
       "  param_min_samples_split param_splitter  \\\n",
       "0                       5           best   \n",
       "1                       5         random   \n",
       "2                      10           best   \n",
       "\n",
       "                                              params  split0_test_score  \\\n",
       "0  {'criterion': 'gini', 'max_depth': 6, 'max_fea...           0.254747   \n",
       "1  {'criterion': 'gini', 'max_depth': 6, 'max_fea...           0.080696   \n",
       "2  {'criterion': 'gini', 'max_depth': 6, 'max_fea...           0.254747   \n",
       "\n",
       "   split1_test_score  split2_test_score  split3_test_score  split4_test_score  \\\n",
       "0           0.286392           0.330696           0.153481           0.128165   \n",
       "1           0.166139           0.151899           0.196203           0.159810   \n",
       "2           0.286392           0.330696           0.153481           0.128165   \n",
       "\n",
       "   mean_test_score  std_test_score  rank_test_score  \n",
       "0         0.230696        0.077660              135  \n",
       "1         0.150949        0.038193              489  \n",
       "2         0.230696        0.077660              135  "
      ]
     },
     "execution_count": 11,
     "metadata": {},
     "output_type": "execute_result"
    }
   ],
   "source": [
    "df_tree_search_cv = pd.DataFrame(tree_search_cv.cv_results_)\n",
    "df_tree_search_cv.head(3)"
   ]
  },
  {
   "cell_type": "code",
   "execution_count": 12,
   "metadata": {},
   "outputs": [
    {
     "data": {
      "text/plain": [
       "mean_fit_time                                                       0.014933\n",
       "std_fit_time                                                        0.005219\n",
       "mean_score_time                                                     0.002205\n",
       "std_score_time                                                      0.001073\n",
       "param_criterion                                                         gini\n",
       "param_max_depth                                                           12\n",
       "param_max_features                                                      sqrt\n",
       "param_min_samples_leaf                                                    15\n",
       "param_min_samples_split                                                    5\n",
       "param_splitter                                                          best\n",
       "params                     {'criterion': 'gini', 'max_depth': 12, 'max_fe...\n",
       "split0_test_score                                                   0.313291\n",
       "split1_test_score                                                   0.302215\n",
       "split2_test_score                                                   0.344937\n",
       "split3_test_score                                                   0.283228\n",
       "split4_test_score                                                   0.268987\n",
       "mean_test_score                                                     0.302532\n",
       "std_test_score                                                      0.026122\n",
       "rank_test_score                                                            1\n",
       "Name: 208, dtype: object"
      ]
     },
     "execution_count": 12,
     "metadata": {},
     "output_type": "execute_result"
    }
   ],
   "source": [
    "df_tree_search_cv.loc[tree_search_cv.best_index_]"
   ]
  },
  {
   "cell_type": "markdown",
   "metadata": {},
   "source": [
    "### Análise visual\n"
   ]
  },
  {
   "cell_type": "code",
   "execution_count": 13,
   "metadata": {},
   "outputs": [
    {
     "data": {
      "application/vnd.plotly.v1+json": {
       "config": {
        "plotlyServerURL": "https://plot.ly"
       },
       "data": [
        {
         "hovertemplate": "param_max_depth=%{x}<br>mean_test_score=%{y}<extra></extra>",
         "legendgroup": "",
         "marker": {
          "color": "#636efa",
          "symbol": "circle"
         },
         "mode": "markers",
         "name": "",
         "orientation": "v",
         "showlegend": false,
         "type": "scatter",
         "x": [
          6,
          6,
          6,
          6,
          6,
          6,
          6,
          6,
          6,
          6,
          6,
          6,
          6,
          6,
          6,
          6,
          6,
          6,
          6,
          6,
          6,
          6,
          6,
          6,
          6,
          6,
          6,
          6,
          6,
          6,
          6,
          6,
          6,
          6,
          6,
          6,
          6,
          6,
          6,
          6,
          6,
          6,
          6,
          6,
          6,
          6,
          6,
          6,
          6,
          6,
          6,
          6,
          6,
          6,
          6,
          6,
          6,
          6,
          6,
          6,
          6,
          6,
          6,
          6,
          8,
          8,
          8,
          8,
          8,
          8,
          8,
          8,
          8,
          8,
          8,
          8,
          8,
          8,
          8,
          8,
          8,
          8,
          8,
          8,
          8,
          8,
          8,
          8,
          8,
          8,
          8,
          8,
          8,
          8,
          8,
          8,
          8,
          8,
          8,
          8,
          8,
          8,
          8,
          8,
          8,
          8,
          8,
          8,
          8,
          8,
          8,
          8,
          8,
          8,
          8,
          8,
          8,
          8,
          8,
          8,
          8,
          8,
          8,
          8,
          8,
          8,
          8,
          8,
          10,
          10,
          10,
          10,
          10,
          10,
          10,
          10,
          10,
          10,
          10,
          10,
          10,
          10,
          10,
          10,
          10,
          10,
          10,
          10,
          10,
          10,
          10,
          10,
          10,
          10,
          10,
          10,
          10,
          10,
          10,
          10,
          10,
          10,
          10,
          10,
          10,
          10,
          10,
          10,
          10,
          10,
          10,
          10,
          10,
          10,
          10,
          10,
          10,
          10,
          10,
          10,
          10,
          10,
          10,
          10,
          10,
          10,
          10,
          10,
          10,
          10,
          10,
          10,
          12,
          12,
          12,
          12,
          12,
          12,
          12,
          12,
          12,
          12,
          12,
          12,
          12,
          12,
          12,
          12,
          12,
          12,
          12,
          12,
          12,
          12,
          12,
          12,
          12,
          12,
          12,
          12,
          12,
          12,
          12,
          12,
          12,
          12,
          12,
          12,
          12,
          12,
          12,
          12,
          12,
          12,
          12,
          12,
          12,
          12,
          12,
          12,
          12,
          12,
          12,
          12,
          12,
          12,
          12,
          12,
          12,
          12,
          12,
          12,
          12,
          12,
          12,
          12,
          6,
          6,
          6,
          6,
          6,
          6,
          6,
          6,
          6,
          6,
          6,
          6,
          6,
          6,
          6,
          6,
          6,
          6,
          6,
          6,
          6,
          6,
          6,
          6,
          6,
          6,
          6,
          6,
          6,
          6,
          6,
          6,
          6,
          6,
          6,
          6,
          6,
          6,
          6,
          6,
          6,
          6,
          6,
          6,
          6,
          6,
          6,
          6,
          6,
          6,
          6,
          6,
          6,
          6,
          6,
          6,
          6,
          6,
          6,
          6,
          6,
          6,
          6,
          6,
          8,
          8,
          8,
          8,
          8,
          8,
          8,
          8,
          8,
          8,
          8,
          8,
          8,
          8,
          8,
          8,
          8,
          8,
          8,
          8,
          8,
          8,
          8,
          8,
          8,
          8,
          8,
          8,
          8,
          8,
          8,
          8,
          8,
          8,
          8,
          8,
          8,
          8,
          8,
          8,
          8,
          8,
          8,
          8,
          8,
          8,
          8,
          8,
          8,
          8,
          8,
          8,
          8,
          8,
          8,
          8,
          8,
          8,
          8,
          8,
          8,
          8,
          8,
          8,
          10,
          10,
          10,
          10,
          10,
          10,
          10,
          10,
          10,
          10,
          10,
          10,
          10,
          10,
          10,
          10,
          10,
          10,
          10,
          10,
          10,
          10,
          10,
          10,
          10,
          10,
          10,
          10,
          10,
          10,
          10,
          10,
          10,
          10,
          10,
          10,
          10,
          10,
          10,
          10,
          10,
          10,
          10,
          10,
          10,
          10,
          10,
          10,
          10,
          10,
          10,
          10,
          10,
          10,
          10,
          10,
          10,
          10,
          10,
          10,
          10,
          10,
          10,
          10,
          12,
          12,
          12,
          12,
          12,
          12,
          12,
          12,
          12,
          12,
          12,
          12,
          12,
          12,
          12,
          12,
          12,
          12,
          12,
          12,
          12,
          12,
          12,
          12,
          12,
          12,
          12,
          12,
          12,
          12,
          12,
          12,
          12,
          12,
          12,
          12,
          12,
          12,
          12,
          12,
          12,
          12,
          12,
          12,
          12,
          12,
          12,
          12,
          12,
          12,
          12,
          12,
          12,
          12,
          12,
          12,
          12,
          12,
          12,
          12,
          12,
          12,
          12,
          12
         ],
         "xaxis": "x",
         "y": [
          0.23069620253164555,
          0.1509493670886076,
          0.23069620253164555,
          0.1509493670886076,
          0.22563291139240507,
          0.17531645569620252,
          0.2316455696202532,
          0.16993670886075948,
          0.20632911392405062,
          0.1458860759493671,
          0.20632911392405062,
          0.1458860759493671,
          0.20632911392405062,
          0.1458860759493671,
          0.20632911392405062,
          0.1458860759493671,
          0.23259493670886075,
          0.15126582278481013,
          0.23259493670886075,
          0.15126582278481013,
          0.23259493670886075,
          0.15126582278481013,
          0.23259493670886075,
          0.15126582278481013,
          0.22436708860759494,
          0.1642405063291139,
          0.22436708860759494,
          0.1642405063291139,
          0.22436708860759494,
          0.1642405063291139,
          0.22436708860759494,
          0.1642405063291139,
          0.23069620253164555,
          0.1509493670886076,
          0.23069620253164555,
          0.1509493670886076,
          0.22563291139240507,
          0.17531645569620252,
          0.2316455696202532,
          0.16993670886075948,
          0.20632911392405062,
          0.1458860759493671,
          0.20632911392405062,
          0.1458860759493671,
          0.20632911392405062,
          0.1458860759493671,
          0.20632911392405062,
          0.1458860759493671,
          0.23259493670886075,
          0.15126582278481013,
          0.23259493670886075,
          0.15126582278481013,
          0.23259493670886075,
          0.15126582278481013,
          0.23259493670886075,
          0.15126582278481013,
          0.22436708860759494,
          0.1642405063291139,
          0.22436708860759494,
          0.1642405063291139,
          0.22436708860759494,
          0.1642405063291139,
          0.22436708860759494,
          0.1642405063291139,
          0.15348101265822783,
          0.18765822784810127,
          0.15348101265822783,
          0.18765822784810127,
          0.2610759493670886,
          0.18860759493670887,
          0.28544303797468357,
          0.16487341772151898,
          0.2642405063291139,
          0.15854430379746837,
          0.2642405063291139,
          0.15854430379746837,
          0.2642405063291139,
          0.15854430379746837,
          0.2642405063291139,
          0.15854430379746837,
          0.24778481012658227,
          0.18322784810126583,
          0.24778481012658227,
          0.18322784810126583,
          0.24778481012658227,
          0.18322784810126583,
          0.24778481012658227,
          0.18322784810126583,
          0.21772151898734177,
          0.18006329113924052,
          0.21772151898734177,
          0.18006329113924052,
          0.21772151898734177,
          0.18006329113924052,
          0.21772151898734177,
          0.18006329113924052,
          0.15348101265822783,
          0.18765822784810127,
          0.15348101265822783,
          0.18765822784810127,
          0.2610759493670886,
          0.18860759493670887,
          0.28544303797468357,
          0.16487341772151898,
          0.2642405063291139,
          0.15854430379746837,
          0.2642405063291139,
          0.15854430379746837,
          0.2642405063291139,
          0.15854430379746837,
          0.2642405063291139,
          0.15854430379746837,
          0.24778481012658227,
          0.18322784810126583,
          0.24778481012658227,
          0.18322784810126583,
          0.24778481012658227,
          0.18322784810126583,
          0.24778481012658227,
          0.18322784810126583,
          0.21772151898734177,
          0.18006329113924052,
          0.21772151898734177,
          0.18006329113924052,
          0.21772151898734177,
          0.18006329113924052,
          0.21772151898734177,
          0.18006329113924052,
          0.23670886075949368,
          0.2037974683544304,
          0.23670886075949368,
          0.2037974683544304,
          0.225,
          0.18544303797468356,
          0.27563291139240503,
          0.19050632911392404,
          0.22721518987341774,
          0.17563291139240506,
          0.22721518987341774,
          0.17563291139240506,
          0.22721518987341774,
          0.17563291139240506,
          0.22721518987341774,
          0.17563291139240506,
          0.2221518987341772,
          0.1550632911392405,
          0.2221518987341772,
          0.1550632911392405,
          0.2221518987341772,
          0.1550632911392405,
          0.2221518987341772,
          0.1550632911392405,
          0.21772151898734177,
          0.16139240506329117,
          0.21772151898734177,
          0.16139240506329117,
          0.21772151898734177,
          0.16139240506329117,
          0.21772151898734177,
          0.16139240506329117,
          0.23670886075949368,
          0.2037974683544304,
          0.23670886075949368,
          0.2037974683544304,
          0.225,
          0.18544303797468356,
          0.27563291139240503,
          0.19050632911392404,
          0.22721518987341774,
          0.17563291139240506,
          0.22721518987341774,
          0.17563291139240506,
          0.22721518987341774,
          0.17563291139240506,
          0.22721518987341774,
          0.17563291139240506,
          0.2221518987341772,
          0.1550632911392405,
          0.2221518987341772,
          0.1550632911392405,
          0.2221518987341772,
          0.1550632911392405,
          0.2221518987341772,
          0.1550632911392405,
          0.21772151898734177,
          0.16139240506329117,
          0.21772151898734177,
          0.16139240506329117,
          0.21772151898734177,
          0.16139240506329117,
          0.21772151898734177,
          0.16139240506329117,
          0.25316455696202533,
          0.18544303797468356,
          0.25316455696202533,
          0.18544303797468356,
          0.26613924050632914,
          0.17626582278481012,
          0.2680379746835443,
          0.20822784810126582,
          0.23544303797468355,
          0.1768987341772152,
          0.23544303797468355,
          0.1768987341772152,
          0.23544303797468355,
          0.1768987341772152,
          0.23544303797468355,
          0.1768987341772152,
          0.30253164556962026,
          0.16740506329113924,
          0.30253164556962026,
          0.16740506329113924,
          0.30253164556962026,
          0.16740506329113924,
          0.30253164556962026,
          0.16740506329113924,
          0.20822784810126582,
          0.16740506329113924,
          0.20822784810126582,
          0.16740506329113924,
          0.20822784810126582,
          0.16740506329113924,
          0.20822784810126582,
          0.16740506329113924,
          0.25316455696202533,
          0.18544303797468356,
          0.25316455696202533,
          0.18544303797468356,
          0.26613924050632914,
          0.17626582278481012,
          0.2680379746835443,
          0.20822784810126582,
          0.23544303797468355,
          0.1768987341772152,
          0.23544303797468355,
          0.1768987341772152,
          0.23544303797468355,
          0.1768987341772152,
          0.23544303797468355,
          0.1768987341772152,
          0.30253164556962026,
          0.16740506329113924,
          0.30253164556962026,
          0.16740506329113924,
          0.30253164556962026,
          0.16740506329113924,
          0.30253164556962026,
          0.16740506329113924,
          0.20822784810126582,
          0.16740506329113924,
          0.20822784810126582,
          0.16740506329113924,
          0.20822784810126582,
          0.16740506329113924,
          0.20822784810126582,
          0.16740506329113924,
          0.17373417721518986,
          0.1509493670886076,
          0.17373417721518986,
          0.1509493670886076,
          0.1889240506329114,
          0.1699367088607595,
          0.1879746835443038,
          0.16677215189873418,
          0.175,
          0.14746835443037973,
          0.175,
          0.14746835443037973,
          0.175,
          0.14746835443037973,
          0.175,
          0.14746835443037973,
          0.18702531645569617,
          0.15126582278481013,
          0.18702531645569617,
          0.15126582278481013,
          0.18702531645569617,
          0.15126582278481013,
          0.18702531645569617,
          0.15126582278481013,
          0.17468354430379746,
          0.1642405063291139,
          0.17468354430379746,
          0.1642405063291139,
          0.17468354430379746,
          0.1642405063291139,
          0.17468354430379746,
          0.1642405063291139,
          0.17373417721518986,
          0.1509493670886076,
          0.17373417721518986,
          0.1509493670886076,
          0.1889240506329114,
          0.1699367088607595,
          0.1879746835443038,
          0.16677215189873418,
          0.175,
          0.14746835443037973,
          0.175,
          0.14746835443037973,
          0.175,
          0.14746835443037973,
          0.175,
          0.14746835443037973,
          0.18702531645569617,
          0.15126582278481013,
          0.18702531645569617,
          0.15126582278481013,
          0.18702531645569617,
          0.15126582278481013,
          0.18702531645569617,
          0.15126582278481013,
          0.17468354430379746,
          0.1642405063291139,
          0.17468354430379746,
          0.1642405063291139,
          0.17468354430379746,
          0.1642405063291139,
          0.17468354430379746,
          0.1642405063291139,
          0.19272151898734177,
          0.18829113924050633,
          0.19272151898734177,
          0.18829113924050633,
          0.21867088607594937,
          0.17341772151898732,
          0.2794303797468355,
          0.16835443037974684,
          0.2806962025316456,
          0.15854430379746837,
          0.2806962025316456,
          0.15854430379746837,
          0.2806962025316456,
          0.15854430379746837,
          0.2806962025316456,
          0.15854430379746837,
          0.245253164556962,
          0.18322784810126583,
          0.245253164556962,
          0.18322784810126583,
          0.245253164556962,
          0.18322784810126583,
          0.245253164556962,
          0.18322784810126583,
          0.2484177215189874,
          0.17468354430379748,
          0.2484177215189874,
          0.17468354430379748,
          0.2484177215189874,
          0.17468354430379748,
          0.2484177215189874,
          0.17468354430379748,
          0.19272151898734177,
          0.18829113924050633,
          0.19272151898734177,
          0.18829113924050633,
          0.21867088607594937,
          0.17341772151898732,
          0.2794303797468355,
          0.16835443037974684,
          0.2806962025316456,
          0.15854430379746837,
          0.2806962025316456,
          0.15854430379746837,
          0.2806962025316456,
          0.15854430379746837,
          0.2806962025316456,
          0.15854430379746837,
          0.245253164556962,
          0.18322784810126583,
          0.245253164556962,
          0.18322784810126583,
          0.245253164556962,
          0.18322784810126583,
          0.245253164556962,
          0.18322784810126583,
          0.2484177215189874,
          0.17468354430379748,
          0.2484177215189874,
          0.17468354430379748,
          0.2484177215189874,
          0.17468354430379748,
          0.2484177215189874,
          0.17468354430379748,
          0.23765822784810128,
          0.1939873417721519,
          0.23765822784810128,
          0.1939873417721519,
          0.2683544303797468,
          0.1879746835443038,
          0.2617088607594936,
          0.1892405063291139,
          0.22658227848101262,
          0.17563291139240506,
          0.22658227848101262,
          0.17563291139240506,
          0.22658227848101262,
          0.17563291139240506,
          0.22658227848101262,
          0.17563291139240506,
          0.2759493670886076,
          0.1550632911392405,
          0.2759493670886076,
          0.1550632911392405,
          0.2759493670886076,
          0.1550632911392405,
          0.2759493670886076,
          0.1550632911392405,
          0.2379746835443038,
          0.15379746835443037,
          0.2379746835443038,
          0.15379746835443037,
          0.2379746835443038,
          0.15379746835443037,
          0.2379746835443038,
          0.15379746835443037,
          0.23765822784810128,
          0.1939873417721519,
          0.23765822784810128,
          0.1939873417721519,
          0.2683544303797468,
          0.1879746835443038,
          0.2617088607594936,
          0.1892405063291139,
          0.22658227848101262,
          0.17563291139240506,
          0.22658227848101262,
          0.17563291139240506,
          0.22658227848101262,
          0.17563291139240506,
          0.22658227848101262,
          0.17563291139240506,
          0.2759493670886076,
          0.1550632911392405,
          0.2759493670886076,
          0.1550632911392405,
          0.2759493670886076,
          0.1550632911392405,
          0.2759493670886076,
          0.1550632911392405,
          0.2379746835443038,
          0.15379746835443037,
          0.2379746835443038,
          0.15379746835443037,
          0.2379746835443038,
          0.15379746835443037,
          0.2379746835443038,
          0.15379746835443037,
          0.2708860759493671,
          0.18892405063291137,
          0.2708860759493671,
          0.18892405063291137,
          0.2528481012658228,
          0.16550632911392404,
          0.2863924050632911,
          0.195253164556962,
          0.275,
          0.18227848101265823,
          0.275,
          0.18227848101265823,
          0.275,
          0.18227848101265823,
          0.275,
          0.18227848101265823,
          0.22943037974683547,
          0.16772151898734178,
          0.22943037974683547,
          0.16772151898734178,
          0.22943037974683547,
          0.16772151898734178,
          0.22943037974683547,
          0.16772151898734178,
          0.2379746835443038,
          0.15348101265822786,
          0.2379746835443038,
          0.15348101265822786,
          0.2379746835443038,
          0.15348101265822786,
          0.2379746835443038,
          0.15348101265822786,
          0.2708860759493671,
          0.18892405063291137,
          0.2708860759493671,
          0.18892405063291137,
          0.2528481012658228,
          0.16550632911392404,
          0.2863924050632911,
          0.195253164556962,
          0.275,
          0.18227848101265823,
          0.275,
          0.18227848101265823,
          0.275,
          0.18227848101265823,
          0.275,
          0.18227848101265823,
          0.22943037974683547,
          0.16772151898734178,
          0.22943037974683547,
          0.16772151898734178,
          0.22943037974683547,
          0.16772151898734178,
          0.22943037974683547,
          0.16772151898734178,
          0.2379746835443038,
          0.15348101265822786,
          0.2379746835443038,
          0.15348101265822786,
          0.2379746835443038,
          0.15348101265822786,
          0.2379746835443038,
          0.15348101265822786
         ],
         "yaxis": "y"
        }
       ],
       "layout": {
        "legend": {
         "tracegroupgap": 0
        },
        "template": {
         "data": {
          "bar": [
           {
            "error_x": {
             "color": "#2a3f5f"
            },
            "error_y": {
             "color": "#2a3f5f"
            },
            "marker": {
             "line": {
              "color": "#E5ECF6",
              "width": 0.5
             },
             "pattern": {
              "fillmode": "overlay",
              "size": 10,
              "solidity": 0.2
             }
            },
            "type": "bar"
           }
          ],
          "barpolar": [
           {
            "marker": {
             "line": {
              "color": "#E5ECF6",
              "width": 0.5
             },
             "pattern": {
              "fillmode": "overlay",
              "size": 10,
              "solidity": 0.2
             }
            },
            "type": "barpolar"
           }
          ],
          "carpet": [
           {
            "aaxis": {
             "endlinecolor": "#2a3f5f",
             "gridcolor": "white",
             "linecolor": "white",
             "minorgridcolor": "white",
             "startlinecolor": "#2a3f5f"
            },
            "baxis": {
             "endlinecolor": "#2a3f5f",
             "gridcolor": "white",
             "linecolor": "white",
             "minorgridcolor": "white",
             "startlinecolor": "#2a3f5f"
            },
            "type": "carpet"
           }
          ],
          "choropleth": [
           {
            "colorbar": {
             "outlinewidth": 0,
             "ticks": ""
            },
            "type": "choropleth"
           }
          ],
          "contour": [
           {
            "colorbar": {
             "outlinewidth": 0,
             "ticks": ""
            },
            "colorscale": [
             [
              0,
              "#0d0887"
             ],
             [
              0.1111111111111111,
              "#46039f"
             ],
             [
              0.2222222222222222,
              "#7201a8"
             ],
             [
              0.3333333333333333,
              "#9c179e"
             ],
             [
              0.4444444444444444,
              "#bd3786"
             ],
             [
              0.5555555555555556,
              "#d8576b"
             ],
             [
              0.6666666666666666,
              "#ed7953"
             ],
             [
              0.7777777777777778,
              "#fb9f3a"
             ],
             [
              0.8888888888888888,
              "#fdca26"
             ],
             [
              1,
              "#f0f921"
             ]
            ],
            "type": "contour"
           }
          ],
          "contourcarpet": [
           {
            "colorbar": {
             "outlinewidth": 0,
             "ticks": ""
            },
            "type": "contourcarpet"
           }
          ],
          "heatmap": [
           {
            "colorbar": {
             "outlinewidth": 0,
             "ticks": ""
            },
            "colorscale": [
             [
              0,
              "#0d0887"
             ],
             [
              0.1111111111111111,
              "#46039f"
             ],
             [
              0.2222222222222222,
              "#7201a8"
             ],
             [
              0.3333333333333333,
              "#9c179e"
             ],
             [
              0.4444444444444444,
              "#bd3786"
             ],
             [
              0.5555555555555556,
              "#d8576b"
             ],
             [
              0.6666666666666666,
              "#ed7953"
             ],
             [
              0.7777777777777778,
              "#fb9f3a"
             ],
             [
              0.8888888888888888,
              "#fdca26"
             ],
             [
              1,
              "#f0f921"
             ]
            ],
            "type": "heatmap"
           }
          ],
          "heatmapgl": [
           {
            "colorbar": {
             "outlinewidth": 0,
             "ticks": ""
            },
            "colorscale": [
             [
              0,
              "#0d0887"
             ],
             [
              0.1111111111111111,
              "#46039f"
             ],
             [
              0.2222222222222222,
              "#7201a8"
             ],
             [
              0.3333333333333333,
              "#9c179e"
             ],
             [
              0.4444444444444444,
              "#bd3786"
             ],
             [
              0.5555555555555556,
              "#d8576b"
             ],
             [
              0.6666666666666666,
              "#ed7953"
             ],
             [
              0.7777777777777778,
              "#fb9f3a"
             ],
             [
              0.8888888888888888,
              "#fdca26"
             ],
             [
              1,
              "#f0f921"
             ]
            ],
            "type": "heatmapgl"
           }
          ],
          "histogram": [
           {
            "marker": {
             "pattern": {
              "fillmode": "overlay",
              "size": 10,
              "solidity": 0.2
             }
            },
            "type": "histogram"
           }
          ],
          "histogram2d": [
           {
            "colorbar": {
             "outlinewidth": 0,
             "ticks": ""
            },
            "colorscale": [
             [
              0,
              "#0d0887"
             ],
             [
              0.1111111111111111,
              "#46039f"
             ],
             [
              0.2222222222222222,
              "#7201a8"
             ],
             [
              0.3333333333333333,
              "#9c179e"
             ],
             [
              0.4444444444444444,
              "#bd3786"
             ],
             [
              0.5555555555555556,
              "#d8576b"
             ],
             [
              0.6666666666666666,
              "#ed7953"
             ],
             [
              0.7777777777777778,
              "#fb9f3a"
             ],
             [
              0.8888888888888888,
              "#fdca26"
             ],
             [
              1,
              "#f0f921"
             ]
            ],
            "type": "histogram2d"
           }
          ],
          "histogram2dcontour": [
           {
            "colorbar": {
             "outlinewidth": 0,
             "ticks": ""
            },
            "colorscale": [
             [
              0,
              "#0d0887"
             ],
             [
              0.1111111111111111,
              "#46039f"
             ],
             [
              0.2222222222222222,
              "#7201a8"
             ],
             [
              0.3333333333333333,
              "#9c179e"
             ],
             [
              0.4444444444444444,
              "#bd3786"
             ],
             [
              0.5555555555555556,
              "#d8576b"
             ],
             [
              0.6666666666666666,
              "#ed7953"
             ],
             [
              0.7777777777777778,
              "#fb9f3a"
             ],
             [
              0.8888888888888888,
              "#fdca26"
             ],
             [
              1,
              "#f0f921"
             ]
            ],
            "type": "histogram2dcontour"
           }
          ],
          "mesh3d": [
           {
            "colorbar": {
             "outlinewidth": 0,
             "ticks": ""
            },
            "type": "mesh3d"
           }
          ],
          "parcoords": [
           {
            "line": {
             "colorbar": {
              "outlinewidth": 0,
              "ticks": ""
             }
            },
            "type": "parcoords"
           }
          ],
          "pie": [
           {
            "automargin": true,
            "type": "pie"
           }
          ],
          "scatter": [
           {
            "fillpattern": {
             "fillmode": "overlay",
             "size": 10,
             "solidity": 0.2
            },
            "type": "scatter"
           }
          ],
          "scatter3d": [
           {
            "line": {
             "colorbar": {
              "outlinewidth": 0,
              "ticks": ""
             }
            },
            "marker": {
             "colorbar": {
              "outlinewidth": 0,
              "ticks": ""
             }
            },
            "type": "scatter3d"
           }
          ],
          "scattercarpet": [
           {
            "marker": {
             "colorbar": {
              "outlinewidth": 0,
              "ticks": ""
             }
            },
            "type": "scattercarpet"
           }
          ],
          "scattergeo": [
           {
            "marker": {
             "colorbar": {
              "outlinewidth": 0,
              "ticks": ""
             }
            },
            "type": "scattergeo"
           }
          ],
          "scattergl": [
           {
            "marker": {
             "colorbar": {
              "outlinewidth": 0,
              "ticks": ""
             }
            },
            "type": "scattergl"
           }
          ],
          "scattermapbox": [
           {
            "marker": {
             "colorbar": {
              "outlinewidth": 0,
              "ticks": ""
             }
            },
            "type": "scattermapbox"
           }
          ],
          "scatterpolar": [
           {
            "marker": {
             "colorbar": {
              "outlinewidth": 0,
              "ticks": ""
             }
            },
            "type": "scatterpolar"
           }
          ],
          "scatterpolargl": [
           {
            "marker": {
             "colorbar": {
              "outlinewidth": 0,
              "ticks": ""
             }
            },
            "type": "scatterpolargl"
           }
          ],
          "scatterternary": [
           {
            "marker": {
             "colorbar": {
              "outlinewidth": 0,
              "ticks": ""
             }
            },
            "type": "scatterternary"
           }
          ],
          "surface": [
           {
            "colorbar": {
             "outlinewidth": 0,
             "ticks": ""
            },
            "colorscale": [
             [
              0,
              "#0d0887"
             ],
             [
              0.1111111111111111,
              "#46039f"
             ],
             [
              0.2222222222222222,
              "#7201a8"
             ],
             [
              0.3333333333333333,
              "#9c179e"
             ],
             [
              0.4444444444444444,
              "#bd3786"
             ],
             [
              0.5555555555555556,
              "#d8576b"
             ],
             [
              0.6666666666666666,
              "#ed7953"
             ],
             [
              0.7777777777777778,
              "#fb9f3a"
             ],
             [
              0.8888888888888888,
              "#fdca26"
             ],
             [
              1,
              "#f0f921"
             ]
            ],
            "type": "surface"
           }
          ],
          "table": [
           {
            "cells": {
             "fill": {
              "color": "#EBF0F8"
             },
             "line": {
              "color": "white"
             }
            },
            "header": {
             "fill": {
              "color": "#C8D4E3"
             },
             "line": {
              "color": "white"
             }
            },
            "type": "table"
           }
          ]
         },
         "layout": {
          "annotationdefaults": {
           "arrowcolor": "#2a3f5f",
           "arrowhead": 0,
           "arrowwidth": 1
          },
          "autotypenumbers": "strict",
          "coloraxis": {
           "colorbar": {
            "outlinewidth": 0,
            "ticks": ""
           }
          },
          "colorscale": {
           "diverging": [
            [
             0,
             "#8e0152"
            ],
            [
             0.1,
             "#c51b7d"
            ],
            [
             0.2,
             "#de77ae"
            ],
            [
             0.3,
             "#f1b6da"
            ],
            [
             0.4,
             "#fde0ef"
            ],
            [
             0.5,
             "#f7f7f7"
            ],
            [
             0.6,
             "#e6f5d0"
            ],
            [
             0.7,
             "#b8e186"
            ],
            [
             0.8,
             "#7fbc41"
            ],
            [
             0.9,
             "#4d9221"
            ],
            [
             1,
             "#276419"
            ]
           ],
           "sequential": [
            [
             0,
             "#0d0887"
            ],
            [
             0.1111111111111111,
             "#46039f"
            ],
            [
             0.2222222222222222,
             "#7201a8"
            ],
            [
             0.3333333333333333,
             "#9c179e"
            ],
            [
             0.4444444444444444,
             "#bd3786"
            ],
            [
             0.5555555555555556,
             "#d8576b"
            ],
            [
             0.6666666666666666,
             "#ed7953"
            ],
            [
             0.7777777777777778,
             "#fb9f3a"
            ],
            [
             0.8888888888888888,
             "#fdca26"
            ],
            [
             1,
             "#f0f921"
            ]
           ],
           "sequentialminus": [
            [
             0,
             "#0d0887"
            ],
            [
             0.1111111111111111,
             "#46039f"
            ],
            [
             0.2222222222222222,
             "#7201a8"
            ],
            [
             0.3333333333333333,
             "#9c179e"
            ],
            [
             0.4444444444444444,
             "#bd3786"
            ],
            [
             0.5555555555555556,
             "#d8576b"
            ],
            [
             0.6666666666666666,
             "#ed7953"
            ],
            [
             0.7777777777777778,
             "#fb9f3a"
            ],
            [
             0.8888888888888888,
             "#fdca26"
            ],
            [
             1,
             "#f0f921"
            ]
           ]
          },
          "colorway": [
           "#636efa",
           "#EF553B",
           "#00cc96",
           "#ab63fa",
           "#FFA15A",
           "#19d3f3",
           "#FF6692",
           "#B6E880",
           "#FF97FF",
           "#FECB52"
          ],
          "font": {
           "color": "#2a3f5f"
          },
          "geo": {
           "bgcolor": "white",
           "lakecolor": "white",
           "landcolor": "#E5ECF6",
           "showlakes": true,
           "showland": true,
           "subunitcolor": "white"
          },
          "hoverlabel": {
           "align": "left"
          },
          "hovermode": "closest",
          "mapbox": {
           "style": "light"
          },
          "paper_bgcolor": "white",
          "plot_bgcolor": "#E5ECF6",
          "polar": {
           "angularaxis": {
            "gridcolor": "white",
            "linecolor": "white",
            "ticks": ""
           },
           "bgcolor": "#E5ECF6",
           "radialaxis": {
            "gridcolor": "white",
            "linecolor": "white",
            "ticks": ""
           }
          },
          "scene": {
           "xaxis": {
            "backgroundcolor": "#E5ECF6",
            "gridcolor": "white",
            "gridwidth": 2,
            "linecolor": "white",
            "showbackground": true,
            "ticks": "",
            "zerolinecolor": "white"
           },
           "yaxis": {
            "backgroundcolor": "#E5ECF6",
            "gridcolor": "white",
            "gridwidth": 2,
            "linecolor": "white",
            "showbackground": true,
            "ticks": "",
            "zerolinecolor": "white"
           },
           "zaxis": {
            "backgroundcolor": "#E5ECF6",
            "gridcolor": "white",
            "gridwidth": 2,
            "linecolor": "white",
            "showbackground": true,
            "ticks": "",
            "zerolinecolor": "white"
           }
          },
          "shapedefaults": {
           "line": {
            "color": "#2a3f5f"
           }
          },
          "ternary": {
           "aaxis": {
            "gridcolor": "white",
            "linecolor": "white",
            "ticks": ""
           },
           "baxis": {
            "gridcolor": "white",
            "linecolor": "white",
            "ticks": ""
           },
           "bgcolor": "#E5ECF6",
           "caxis": {
            "gridcolor": "white",
            "linecolor": "white",
            "ticks": ""
           }
          },
          "title": {
           "x": 0.05
          },
          "xaxis": {
           "automargin": true,
           "gridcolor": "white",
           "linecolor": "white",
           "ticks": "",
           "title": {
            "standoff": 15
           },
           "zerolinecolor": "white",
           "zerolinewidth": 2
          },
          "yaxis": {
           "automargin": true,
           "gridcolor": "white",
           "linecolor": "white",
           "ticks": "",
           "title": {
            "standoff": 15
           },
           "zerolinecolor": "white",
           "zerolinewidth": 2
          }
         }
        },
        "title": {
         "text": "Max Depth vs. Recall"
        },
        "xaxis": {
         "anchor": "y",
         "domain": [
          0,
          1
         ],
         "title": {
          "text": "param_max_depth"
         }
        },
        "yaxis": {
         "anchor": "x",
         "domain": [
          0,
          1
         ],
         "title": {
          "text": "mean_test_score"
         }
        }
       }
      }
     },
     "metadata": {},
     "output_type": "display_data"
    }
   ],
   "source": [
    "import plotly.express as px\n",
    "\n",
    "px.scatter(\n",
    "    df_tree_search_cv,\n",
    "    x=\"param_max_depth\",\n",
    "    y=\"mean_test_score\",\n",
    "    title=\"Max Depth vs. Recall\",\n",
    ")"
   ]
  },
  {
   "cell_type": "code",
   "execution_count": 14,
   "metadata": {},
   "outputs": [
    {
     "data": {
      "application/vnd.plotly.v1+json": {
       "config": {
        "plotlyServerURL": "https://plot.ly"
       },
       "data": [
        {
         "hovertemplate": "param_criterion=%{x}<br>mean_test_score=%{y}<extra></extra>",
         "legendgroup": "",
         "marker": {
          "color": "#636efa",
          "symbol": "circle"
         },
         "mode": "markers",
         "name": "",
         "orientation": "v",
         "showlegend": false,
         "type": "scatter",
         "x": [
          "gini",
          "gini",
          "gini",
          "gini",
          "gini",
          "gini",
          "gini",
          "gini",
          "gini",
          "gini",
          "gini",
          "gini",
          "gini",
          "gini",
          "gini",
          "gini",
          "gini",
          "gini",
          "gini",
          "gini",
          "gini",
          "gini",
          "gini",
          "gini",
          "gini",
          "gini",
          "gini",
          "gini",
          "gini",
          "gini",
          "gini",
          "gini",
          "gini",
          "gini",
          "gini",
          "gini",
          "gini",
          "gini",
          "gini",
          "gini",
          "gini",
          "gini",
          "gini",
          "gini",
          "gini",
          "gini",
          "gini",
          "gini",
          "gini",
          "gini",
          "gini",
          "gini",
          "gini",
          "gini",
          "gini",
          "gini",
          "gini",
          "gini",
          "gini",
          "gini",
          "gini",
          "gini",
          "gini",
          "gini",
          "gini",
          "gini",
          "gini",
          "gini",
          "gini",
          "gini",
          "gini",
          "gini",
          "gini",
          "gini",
          "gini",
          "gini",
          "gini",
          "gini",
          "gini",
          "gini",
          "gini",
          "gini",
          "gini",
          "gini",
          "gini",
          "gini",
          "gini",
          "gini",
          "gini",
          "gini",
          "gini",
          "gini",
          "gini",
          "gini",
          "gini",
          "gini",
          "gini",
          "gini",
          "gini",
          "gini",
          "gini",
          "gini",
          "gini",
          "gini",
          "gini",
          "gini",
          "gini",
          "gini",
          "gini",
          "gini",
          "gini",
          "gini",
          "gini",
          "gini",
          "gini",
          "gini",
          "gini",
          "gini",
          "gini",
          "gini",
          "gini",
          "gini",
          "gini",
          "gini",
          "gini",
          "gini",
          "gini",
          "gini",
          "gini",
          "gini",
          "gini",
          "gini",
          "gini",
          "gini",
          "gini",
          "gini",
          "gini",
          "gini",
          "gini",
          "gini",
          "gini",
          "gini",
          "gini",
          "gini",
          "gini",
          "gini",
          "gini",
          "gini",
          "gini",
          "gini",
          "gini",
          "gini",
          "gini",
          "gini",
          "gini",
          "gini",
          "gini",
          "gini",
          "gini",
          "gini",
          "gini",
          "gini",
          "gini",
          "gini",
          "gini",
          "gini",
          "gini",
          "gini",
          "gini",
          "gini",
          "gini",
          "gini",
          "gini",
          "gini",
          "gini",
          "gini",
          "gini",
          "gini",
          "gini",
          "gini",
          "gini",
          "gini",
          "gini",
          "gini",
          "gini",
          "gini",
          "gini",
          "gini",
          "gini",
          "gini",
          "gini",
          "gini",
          "gini",
          "gini",
          "gini",
          "gini",
          "gini",
          "gini",
          "gini",
          "gini",
          "gini",
          "gini",
          "gini",
          "gini",
          "gini",
          "gini",
          "gini",
          "gini",
          "gini",
          "gini",
          "gini",
          "gini",
          "gini",
          "gini",
          "gini",
          "gini",
          "gini",
          "gini",
          "gini",
          "gini",
          "gini",
          "gini",
          "gini",
          "gini",
          "gini",
          "gini",
          "gini",
          "gini",
          "gini",
          "gini",
          "gini",
          "gini",
          "gini",
          "gini",
          "gini",
          "gini",
          "gini",
          "gini",
          "gini",
          "gini",
          "gini",
          "gini",
          "gini",
          "gini",
          "gini",
          "gini",
          "gini",
          "gini",
          "gini",
          "gini",
          "gini",
          "gini",
          "gini",
          "gini",
          "gini",
          "gini",
          "entropy",
          "entropy",
          "entropy",
          "entropy",
          "entropy",
          "entropy",
          "entropy",
          "entropy",
          "entropy",
          "entropy",
          "entropy",
          "entropy",
          "entropy",
          "entropy",
          "entropy",
          "entropy",
          "entropy",
          "entropy",
          "entropy",
          "entropy",
          "entropy",
          "entropy",
          "entropy",
          "entropy",
          "entropy",
          "entropy",
          "entropy",
          "entropy",
          "entropy",
          "entropy",
          "entropy",
          "entropy",
          "entropy",
          "entropy",
          "entropy",
          "entropy",
          "entropy",
          "entropy",
          "entropy",
          "entropy",
          "entropy",
          "entropy",
          "entropy",
          "entropy",
          "entropy",
          "entropy",
          "entropy",
          "entropy",
          "entropy",
          "entropy",
          "entropy",
          "entropy",
          "entropy",
          "entropy",
          "entropy",
          "entropy",
          "entropy",
          "entropy",
          "entropy",
          "entropy",
          "entropy",
          "entropy",
          "entropy",
          "entropy",
          "entropy",
          "entropy",
          "entropy",
          "entropy",
          "entropy",
          "entropy",
          "entropy",
          "entropy",
          "entropy",
          "entropy",
          "entropy",
          "entropy",
          "entropy",
          "entropy",
          "entropy",
          "entropy",
          "entropy",
          "entropy",
          "entropy",
          "entropy",
          "entropy",
          "entropy",
          "entropy",
          "entropy",
          "entropy",
          "entropy",
          "entropy",
          "entropy",
          "entropy",
          "entropy",
          "entropy",
          "entropy",
          "entropy",
          "entropy",
          "entropy",
          "entropy",
          "entropy",
          "entropy",
          "entropy",
          "entropy",
          "entropy",
          "entropy",
          "entropy",
          "entropy",
          "entropy",
          "entropy",
          "entropy",
          "entropy",
          "entropy",
          "entropy",
          "entropy",
          "entropy",
          "entropy",
          "entropy",
          "entropy",
          "entropy",
          "entropy",
          "entropy",
          "entropy",
          "entropy",
          "entropy",
          "entropy",
          "entropy",
          "entropy",
          "entropy",
          "entropy",
          "entropy",
          "entropy",
          "entropy",
          "entropy",
          "entropy",
          "entropy",
          "entropy",
          "entropy",
          "entropy",
          "entropy",
          "entropy",
          "entropy",
          "entropy",
          "entropy",
          "entropy",
          "entropy",
          "entropy",
          "entropy",
          "entropy",
          "entropy",
          "entropy",
          "entropy",
          "entropy",
          "entropy",
          "entropy",
          "entropy",
          "entropy",
          "entropy",
          "entropy",
          "entropy",
          "entropy",
          "entropy",
          "entropy",
          "entropy",
          "entropy",
          "entropy",
          "entropy",
          "entropy",
          "entropy",
          "entropy",
          "entropy",
          "entropy",
          "entropy",
          "entropy",
          "entropy",
          "entropy",
          "entropy",
          "entropy",
          "entropy",
          "entropy",
          "entropy",
          "entropy",
          "entropy",
          "entropy",
          "entropy",
          "entropy",
          "entropy",
          "entropy",
          "entropy",
          "entropy",
          "entropy",
          "entropy",
          "entropy",
          "entropy",
          "entropy",
          "entropy",
          "entropy",
          "entropy",
          "entropy",
          "entropy",
          "entropy",
          "entropy",
          "entropy",
          "entropy",
          "entropy",
          "entropy",
          "entropy",
          "entropy",
          "entropy",
          "entropy",
          "entropy",
          "entropy",
          "entropy",
          "entropy",
          "entropy",
          "entropy",
          "entropy",
          "entropy",
          "entropy",
          "entropy",
          "entropy",
          "entropy",
          "entropy",
          "entropy",
          "entropy",
          "entropy",
          "entropy",
          "entropy",
          "entropy",
          "entropy",
          "entropy",
          "entropy",
          "entropy",
          "entropy",
          "entropy",
          "entropy",
          "entropy",
          "entropy",
          "entropy",
          "entropy",
          "entropy",
          "entropy",
          "entropy",
          "entropy",
          "entropy",
          "entropy",
          "entropy",
          "entropy",
          "entropy",
          "entropy",
          "entropy",
          "entropy",
          "entropy",
          "entropy",
          "entropy",
          "entropy"
         ],
         "xaxis": "x",
         "y": [
          0.23069620253164555,
          0.1509493670886076,
          0.23069620253164555,
          0.1509493670886076,
          0.22563291139240507,
          0.17531645569620252,
          0.2316455696202532,
          0.16993670886075948,
          0.20632911392405062,
          0.1458860759493671,
          0.20632911392405062,
          0.1458860759493671,
          0.20632911392405062,
          0.1458860759493671,
          0.20632911392405062,
          0.1458860759493671,
          0.23259493670886075,
          0.15126582278481013,
          0.23259493670886075,
          0.15126582278481013,
          0.23259493670886075,
          0.15126582278481013,
          0.23259493670886075,
          0.15126582278481013,
          0.22436708860759494,
          0.1642405063291139,
          0.22436708860759494,
          0.1642405063291139,
          0.22436708860759494,
          0.1642405063291139,
          0.22436708860759494,
          0.1642405063291139,
          0.23069620253164555,
          0.1509493670886076,
          0.23069620253164555,
          0.1509493670886076,
          0.22563291139240507,
          0.17531645569620252,
          0.2316455696202532,
          0.16993670886075948,
          0.20632911392405062,
          0.1458860759493671,
          0.20632911392405062,
          0.1458860759493671,
          0.20632911392405062,
          0.1458860759493671,
          0.20632911392405062,
          0.1458860759493671,
          0.23259493670886075,
          0.15126582278481013,
          0.23259493670886075,
          0.15126582278481013,
          0.23259493670886075,
          0.15126582278481013,
          0.23259493670886075,
          0.15126582278481013,
          0.22436708860759494,
          0.1642405063291139,
          0.22436708860759494,
          0.1642405063291139,
          0.22436708860759494,
          0.1642405063291139,
          0.22436708860759494,
          0.1642405063291139,
          0.15348101265822783,
          0.18765822784810127,
          0.15348101265822783,
          0.18765822784810127,
          0.2610759493670886,
          0.18860759493670887,
          0.28544303797468357,
          0.16487341772151898,
          0.2642405063291139,
          0.15854430379746837,
          0.2642405063291139,
          0.15854430379746837,
          0.2642405063291139,
          0.15854430379746837,
          0.2642405063291139,
          0.15854430379746837,
          0.24778481012658227,
          0.18322784810126583,
          0.24778481012658227,
          0.18322784810126583,
          0.24778481012658227,
          0.18322784810126583,
          0.24778481012658227,
          0.18322784810126583,
          0.21772151898734177,
          0.18006329113924052,
          0.21772151898734177,
          0.18006329113924052,
          0.21772151898734177,
          0.18006329113924052,
          0.21772151898734177,
          0.18006329113924052,
          0.15348101265822783,
          0.18765822784810127,
          0.15348101265822783,
          0.18765822784810127,
          0.2610759493670886,
          0.18860759493670887,
          0.28544303797468357,
          0.16487341772151898,
          0.2642405063291139,
          0.15854430379746837,
          0.2642405063291139,
          0.15854430379746837,
          0.2642405063291139,
          0.15854430379746837,
          0.2642405063291139,
          0.15854430379746837,
          0.24778481012658227,
          0.18322784810126583,
          0.24778481012658227,
          0.18322784810126583,
          0.24778481012658227,
          0.18322784810126583,
          0.24778481012658227,
          0.18322784810126583,
          0.21772151898734177,
          0.18006329113924052,
          0.21772151898734177,
          0.18006329113924052,
          0.21772151898734177,
          0.18006329113924052,
          0.21772151898734177,
          0.18006329113924052,
          0.23670886075949368,
          0.2037974683544304,
          0.23670886075949368,
          0.2037974683544304,
          0.225,
          0.18544303797468356,
          0.27563291139240503,
          0.19050632911392404,
          0.22721518987341774,
          0.17563291139240506,
          0.22721518987341774,
          0.17563291139240506,
          0.22721518987341774,
          0.17563291139240506,
          0.22721518987341774,
          0.17563291139240506,
          0.2221518987341772,
          0.1550632911392405,
          0.2221518987341772,
          0.1550632911392405,
          0.2221518987341772,
          0.1550632911392405,
          0.2221518987341772,
          0.1550632911392405,
          0.21772151898734177,
          0.16139240506329117,
          0.21772151898734177,
          0.16139240506329117,
          0.21772151898734177,
          0.16139240506329117,
          0.21772151898734177,
          0.16139240506329117,
          0.23670886075949368,
          0.2037974683544304,
          0.23670886075949368,
          0.2037974683544304,
          0.225,
          0.18544303797468356,
          0.27563291139240503,
          0.19050632911392404,
          0.22721518987341774,
          0.17563291139240506,
          0.22721518987341774,
          0.17563291139240506,
          0.22721518987341774,
          0.17563291139240506,
          0.22721518987341774,
          0.17563291139240506,
          0.2221518987341772,
          0.1550632911392405,
          0.2221518987341772,
          0.1550632911392405,
          0.2221518987341772,
          0.1550632911392405,
          0.2221518987341772,
          0.1550632911392405,
          0.21772151898734177,
          0.16139240506329117,
          0.21772151898734177,
          0.16139240506329117,
          0.21772151898734177,
          0.16139240506329117,
          0.21772151898734177,
          0.16139240506329117,
          0.25316455696202533,
          0.18544303797468356,
          0.25316455696202533,
          0.18544303797468356,
          0.26613924050632914,
          0.17626582278481012,
          0.2680379746835443,
          0.20822784810126582,
          0.23544303797468355,
          0.1768987341772152,
          0.23544303797468355,
          0.1768987341772152,
          0.23544303797468355,
          0.1768987341772152,
          0.23544303797468355,
          0.1768987341772152,
          0.30253164556962026,
          0.16740506329113924,
          0.30253164556962026,
          0.16740506329113924,
          0.30253164556962026,
          0.16740506329113924,
          0.30253164556962026,
          0.16740506329113924,
          0.20822784810126582,
          0.16740506329113924,
          0.20822784810126582,
          0.16740506329113924,
          0.20822784810126582,
          0.16740506329113924,
          0.20822784810126582,
          0.16740506329113924,
          0.25316455696202533,
          0.18544303797468356,
          0.25316455696202533,
          0.18544303797468356,
          0.26613924050632914,
          0.17626582278481012,
          0.2680379746835443,
          0.20822784810126582,
          0.23544303797468355,
          0.1768987341772152,
          0.23544303797468355,
          0.1768987341772152,
          0.23544303797468355,
          0.1768987341772152,
          0.23544303797468355,
          0.1768987341772152,
          0.30253164556962026,
          0.16740506329113924,
          0.30253164556962026,
          0.16740506329113924,
          0.30253164556962026,
          0.16740506329113924,
          0.30253164556962026,
          0.16740506329113924,
          0.20822784810126582,
          0.16740506329113924,
          0.20822784810126582,
          0.16740506329113924,
          0.20822784810126582,
          0.16740506329113924,
          0.20822784810126582,
          0.16740506329113924,
          0.17373417721518986,
          0.1509493670886076,
          0.17373417721518986,
          0.1509493670886076,
          0.1889240506329114,
          0.1699367088607595,
          0.1879746835443038,
          0.16677215189873418,
          0.175,
          0.14746835443037973,
          0.175,
          0.14746835443037973,
          0.175,
          0.14746835443037973,
          0.175,
          0.14746835443037973,
          0.18702531645569617,
          0.15126582278481013,
          0.18702531645569617,
          0.15126582278481013,
          0.18702531645569617,
          0.15126582278481013,
          0.18702531645569617,
          0.15126582278481013,
          0.17468354430379746,
          0.1642405063291139,
          0.17468354430379746,
          0.1642405063291139,
          0.17468354430379746,
          0.1642405063291139,
          0.17468354430379746,
          0.1642405063291139,
          0.17373417721518986,
          0.1509493670886076,
          0.17373417721518986,
          0.1509493670886076,
          0.1889240506329114,
          0.1699367088607595,
          0.1879746835443038,
          0.16677215189873418,
          0.175,
          0.14746835443037973,
          0.175,
          0.14746835443037973,
          0.175,
          0.14746835443037973,
          0.175,
          0.14746835443037973,
          0.18702531645569617,
          0.15126582278481013,
          0.18702531645569617,
          0.15126582278481013,
          0.18702531645569617,
          0.15126582278481013,
          0.18702531645569617,
          0.15126582278481013,
          0.17468354430379746,
          0.1642405063291139,
          0.17468354430379746,
          0.1642405063291139,
          0.17468354430379746,
          0.1642405063291139,
          0.17468354430379746,
          0.1642405063291139,
          0.19272151898734177,
          0.18829113924050633,
          0.19272151898734177,
          0.18829113924050633,
          0.21867088607594937,
          0.17341772151898732,
          0.2794303797468355,
          0.16835443037974684,
          0.2806962025316456,
          0.15854430379746837,
          0.2806962025316456,
          0.15854430379746837,
          0.2806962025316456,
          0.15854430379746837,
          0.2806962025316456,
          0.15854430379746837,
          0.245253164556962,
          0.18322784810126583,
          0.245253164556962,
          0.18322784810126583,
          0.245253164556962,
          0.18322784810126583,
          0.245253164556962,
          0.18322784810126583,
          0.2484177215189874,
          0.17468354430379748,
          0.2484177215189874,
          0.17468354430379748,
          0.2484177215189874,
          0.17468354430379748,
          0.2484177215189874,
          0.17468354430379748,
          0.19272151898734177,
          0.18829113924050633,
          0.19272151898734177,
          0.18829113924050633,
          0.21867088607594937,
          0.17341772151898732,
          0.2794303797468355,
          0.16835443037974684,
          0.2806962025316456,
          0.15854430379746837,
          0.2806962025316456,
          0.15854430379746837,
          0.2806962025316456,
          0.15854430379746837,
          0.2806962025316456,
          0.15854430379746837,
          0.245253164556962,
          0.18322784810126583,
          0.245253164556962,
          0.18322784810126583,
          0.245253164556962,
          0.18322784810126583,
          0.245253164556962,
          0.18322784810126583,
          0.2484177215189874,
          0.17468354430379748,
          0.2484177215189874,
          0.17468354430379748,
          0.2484177215189874,
          0.17468354430379748,
          0.2484177215189874,
          0.17468354430379748,
          0.23765822784810128,
          0.1939873417721519,
          0.23765822784810128,
          0.1939873417721519,
          0.2683544303797468,
          0.1879746835443038,
          0.2617088607594936,
          0.1892405063291139,
          0.22658227848101262,
          0.17563291139240506,
          0.22658227848101262,
          0.17563291139240506,
          0.22658227848101262,
          0.17563291139240506,
          0.22658227848101262,
          0.17563291139240506,
          0.2759493670886076,
          0.1550632911392405,
          0.2759493670886076,
          0.1550632911392405,
          0.2759493670886076,
          0.1550632911392405,
          0.2759493670886076,
          0.1550632911392405,
          0.2379746835443038,
          0.15379746835443037,
          0.2379746835443038,
          0.15379746835443037,
          0.2379746835443038,
          0.15379746835443037,
          0.2379746835443038,
          0.15379746835443037,
          0.23765822784810128,
          0.1939873417721519,
          0.23765822784810128,
          0.1939873417721519,
          0.2683544303797468,
          0.1879746835443038,
          0.2617088607594936,
          0.1892405063291139,
          0.22658227848101262,
          0.17563291139240506,
          0.22658227848101262,
          0.17563291139240506,
          0.22658227848101262,
          0.17563291139240506,
          0.22658227848101262,
          0.17563291139240506,
          0.2759493670886076,
          0.1550632911392405,
          0.2759493670886076,
          0.1550632911392405,
          0.2759493670886076,
          0.1550632911392405,
          0.2759493670886076,
          0.1550632911392405,
          0.2379746835443038,
          0.15379746835443037,
          0.2379746835443038,
          0.15379746835443037,
          0.2379746835443038,
          0.15379746835443037,
          0.2379746835443038,
          0.15379746835443037,
          0.2708860759493671,
          0.18892405063291137,
          0.2708860759493671,
          0.18892405063291137,
          0.2528481012658228,
          0.16550632911392404,
          0.2863924050632911,
          0.195253164556962,
          0.275,
          0.18227848101265823,
          0.275,
          0.18227848101265823,
          0.275,
          0.18227848101265823,
          0.275,
          0.18227848101265823,
          0.22943037974683547,
          0.16772151898734178,
          0.22943037974683547,
          0.16772151898734178,
          0.22943037974683547,
          0.16772151898734178,
          0.22943037974683547,
          0.16772151898734178,
          0.2379746835443038,
          0.15348101265822786,
          0.2379746835443038,
          0.15348101265822786,
          0.2379746835443038,
          0.15348101265822786,
          0.2379746835443038,
          0.15348101265822786,
          0.2708860759493671,
          0.18892405063291137,
          0.2708860759493671,
          0.18892405063291137,
          0.2528481012658228,
          0.16550632911392404,
          0.2863924050632911,
          0.195253164556962,
          0.275,
          0.18227848101265823,
          0.275,
          0.18227848101265823,
          0.275,
          0.18227848101265823,
          0.275,
          0.18227848101265823,
          0.22943037974683547,
          0.16772151898734178,
          0.22943037974683547,
          0.16772151898734178,
          0.22943037974683547,
          0.16772151898734178,
          0.22943037974683547,
          0.16772151898734178,
          0.2379746835443038,
          0.15348101265822786,
          0.2379746835443038,
          0.15348101265822786,
          0.2379746835443038,
          0.15348101265822786,
          0.2379746835443038,
          0.15348101265822786
         ],
         "yaxis": "y"
        }
       ],
       "layout": {
        "legend": {
         "tracegroupgap": 0
        },
        "template": {
         "data": {
          "bar": [
           {
            "error_x": {
             "color": "#2a3f5f"
            },
            "error_y": {
             "color": "#2a3f5f"
            },
            "marker": {
             "line": {
              "color": "#E5ECF6",
              "width": 0.5
             },
             "pattern": {
              "fillmode": "overlay",
              "size": 10,
              "solidity": 0.2
             }
            },
            "type": "bar"
           }
          ],
          "barpolar": [
           {
            "marker": {
             "line": {
              "color": "#E5ECF6",
              "width": 0.5
             },
             "pattern": {
              "fillmode": "overlay",
              "size": 10,
              "solidity": 0.2
             }
            },
            "type": "barpolar"
           }
          ],
          "carpet": [
           {
            "aaxis": {
             "endlinecolor": "#2a3f5f",
             "gridcolor": "white",
             "linecolor": "white",
             "minorgridcolor": "white",
             "startlinecolor": "#2a3f5f"
            },
            "baxis": {
             "endlinecolor": "#2a3f5f",
             "gridcolor": "white",
             "linecolor": "white",
             "minorgridcolor": "white",
             "startlinecolor": "#2a3f5f"
            },
            "type": "carpet"
           }
          ],
          "choropleth": [
           {
            "colorbar": {
             "outlinewidth": 0,
             "ticks": ""
            },
            "type": "choropleth"
           }
          ],
          "contour": [
           {
            "colorbar": {
             "outlinewidth": 0,
             "ticks": ""
            },
            "colorscale": [
             [
              0,
              "#0d0887"
             ],
             [
              0.1111111111111111,
              "#46039f"
             ],
             [
              0.2222222222222222,
              "#7201a8"
             ],
             [
              0.3333333333333333,
              "#9c179e"
             ],
             [
              0.4444444444444444,
              "#bd3786"
             ],
             [
              0.5555555555555556,
              "#d8576b"
             ],
             [
              0.6666666666666666,
              "#ed7953"
             ],
             [
              0.7777777777777778,
              "#fb9f3a"
             ],
             [
              0.8888888888888888,
              "#fdca26"
             ],
             [
              1,
              "#f0f921"
             ]
            ],
            "type": "contour"
           }
          ],
          "contourcarpet": [
           {
            "colorbar": {
             "outlinewidth": 0,
             "ticks": ""
            },
            "type": "contourcarpet"
           }
          ],
          "heatmap": [
           {
            "colorbar": {
             "outlinewidth": 0,
             "ticks": ""
            },
            "colorscale": [
             [
              0,
              "#0d0887"
             ],
             [
              0.1111111111111111,
              "#46039f"
             ],
             [
              0.2222222222222222,
              "#7201a8"
             ],
             [
              0.3333333333333333,
              "#9c179e"
             ],
             [
              0.4444444444444444,
              "#bd3786"
             ],
             [
              0.5555555555555556,
              "#d8576b"
             ],
             [
              0.6666666666666666,
              "#ed7953"
             ],
             [
              0.7777777777777778,
              "#fb9f3a"
             ],
             [
              0.8888888888888888,
              "#fdca26"
             ],
             [
              1,
              "#f0f921"
             ]
            ],
            "type": "heatmap"
           }
          ],
          "heatmapgl": [
           {
            "colorbar": {
             "outlinewidth": 0,
             "ticks": ""
            },
            "colorscale": [
             [
              0,
              "#0d0887"
             ],
             [
              0.1111111111111111,
              "#46039f"
             ],
             [
              0.2222222222222222,
              "#7201a8"
             ],
             [
              0.3333333333333333,
              "#9c179e"
             ],
             [
              0.4444444444444444,
              "#bd3786"
             ],
             [
              0.5555555555555556,
              "#d8576b"
             ],
             [
              0.6666666666666666,
              "#ed7953"
             ],
             [
              0.7777777777777778,
              "#fb9f3a"
             ],
             [
              0.8888888888888888,
              "#fdca26"
             ],
             [
              1,
              "#f0f921"
             ]
            ],
            "type": "heatmapgl"
           }
          ],
          "histogram": [
           {
            "marker": {
             "pattern": {
              "fillmode": "overlay",
              "size": 10,
              "solidity": 0.2
             }
            },
            "type": "histogram"
           }
          ],
          "histogram2d": [
           {
            "colorbar": {
             "outlinewidth": 0,
             "ticks": ""
            },
            "colorscale": [
             [
              0,
              "#0d0887"
             ],
             [
              0.1111111111111111,
              "#46039f"
             ],
             [
              0.2222222222222222,
              "#7201a8"
             ],
             [
              0.3333333333333333,
              "#9c179e"
             ],
             [
              0.4444444444444444,
              "#bd3786"
             ],
             [
              0.5555555555555556,
              "#d8576b"
             ],
             [
              0.6666666666666666,
              "#ed7953"
             ],
             [
              0.7777777777777778,
              "#fb9f3a"
             ],
             [
              0.8888888888888888,
              "#fdca26"
             ],
             [
              1,
              "#f0f921"
             ]
            ],
            "type": "histogram2d"
           }
          ],
          "histogram2dcontour": [
           {
            "colorbar": {
             "outlinewidth": 0,
             "ticks": ""
            },
            "colorscale": [
             [
              0,
              "#0d0887"
             ],
             [
              0.1111111111111111,
              "#46039f"
             ],
             [
              0.2222222222222222,
              "#7201a8"
             ],
             [
              0.3333333333333333,
              "#9c179e"
             ],
             [
              0.4444444444444444,
              "#bd3786"
             ],
             [
              0.5555555555555556,
              "#d8576b"
             ],
             [
              0.6666666666666666,
              "#ed7953"
             ],
             [
              0.7777777777777778,
              "#fb9f3a"
             ],
             [
              0.8888888888888888,
              "#fdca26"
             ],
             [
              1,
              "#f0f921"
             ]
            ],
            "type": "histogram2dcontour"
           }
          ],
          "mesh3d": [
           {
            "colorbar": {
             "outlinewidth": 0,
             "ticks": ""
            },
            "type": "mesh3d"
           }
          ],
          "parcoords": [
           {
            "line": {
             "colorbar": {
              "outlinewidth": 0,
              "ticks": ""
             }
            },
            "type": "parcoords"
           }
          ],
          "pie": [
           {
            "automargin": true,
            "type": "pie"
           }
          ],
          "scatter": [
           {
            "fillpattern": {
             "fillmode": "overlay",
             "size": 10,
             "solidity": 0.2
            },
            "type": "scatter"
           }
          ],
          "scatter3d": [
           {
            "line": {
             "colorbar": {
              "outlinewidth": 0,
              "ticks": ""
             }
            },
            "marker": {
             "colorbar": {
              "outlinewidth": 0,
              "ticks": ""
             }
            },
            "type": "scatter3d"
           }
          ],
          "scattercarpet": [
           {
            "marker": {
             "colorbar": {
              "outlinewidth": 0,
              "ticks": ""
             }
            },
            "type": "scattercarpet"
           }
          ],
          "scattergeo": [
           {
            "marker": {
             "colorbar": {
              "outlinewidth": 0,
              "ticks": ""
             }
            },
            "type": "scattergeo"
           }
          ],
          "scattergl": [
           {
            "marker": {
             "colorbar": {
              "outlinewidth": 0,
              "ticks": ""
             }
            },
            "type": "scattergl"
           }
          ],
          "scattermapbox": [
           {
            "marker": {
             "colorbar": {
              "outlinewidth": 0,
              "ticks": ""
             }
            },
            "type": "scattermapbox"
           }
          ],
          "scatterpolar": [
           {
            "marker": {
             "colorbar": {
              "outlinewidth": 0,
              "ticks": ""
             }
            },
            "type": "scatterpolar"
           }
          ],
          "scatterpolargl": [
           {
            "marker": {
             "colorbar": {
              "outlinewidth": 0,
              "ticks": ""
             }
            },
            "type": "scatterpolargl"
           }
          ],
          "scatterternary": [
           {
            "marker": {
             "colorbar": {
              "outlinewidth": 0,
              "ticks": ""
             }
            },
            "type": "scatterternary"
           }
          ],
          "surface": [
           {
            "colorbar": {
             "outlinewidth": 0,
             "ticks": ""
            },
            "colorscale": [
             [
              0,
              "#0d0887"
             ],
             [
              0.1111111111111111,
              "#46039f"
             ],
             [
              0.2222222222222222,
              "#7201a8"
             ],
             [
              0.3333333333333333,
              "#9c179e"
             ],
             [
              0.4444444444444444,
              "#bd3786"
             ],
             [
              0.5555555555555556,
              "#d8576b"
             ],
             [
              0.6666666666666666,
              "#ed7953"
             ],
             [
              0.7777777777777778,
              "#fb9f3a"
             ],
             [
              0.8888888888888888,
              "#fdca26"
             ],
             [
              1,
              "#f0f921"
             ]
            ],
            "type": "surface"
           }
          ],
          "table": [
           {
            "cells": {
             "fill": {
              "color": "#EBF0F8"
             },
             "line": {
              "color": "white"
             }
            },
            "header": {
             "fill": {
              "color": "#C8D4E3"
             },
             "line": {
              "color": "white"
             }
            },
            "type": "table"
           }
          ]
         },
         "layout": {
          "annotationdefaults": {
           "arrowcolor": "#2a3f5f",
           "arrowhead": 0,
           "arrowwidth": 1
          },
          "autotypenumbers": "strict",
          "coloraxis": {
           "colorbar": {
            "outlinewidth": 0,
            "ticks": ""
           }
          },
          "colorscale": {
           "diverging": [
            [
             0,
             "#8e0152"
            ],
            [
             0.1,
             "#c51b7d"
            ],
            [
             0.2,
             "#de77ae"
            ],
            [
             0.3,
             "#f1b6da"
            ],
            [
             0.4,
             "#fde0ef"
            ],
            [
             0.5,
             "#f7f7f7"
            ],
            [
             0.6,
             "#e6f5d0"
            ],
            [
             0.7,
             "#b8e186"
            ],
            [
             0.8,
             "#7fbc41"
            ],
            [
             0.9,
             "#4d9221"
            ],
            [
             1,
             "#276419"
            ]
           ],
           "sequential": [
            [
             0,
             "#0d0887"
            ],
            [
             0.1111111111111111,
             "#46039f"
            ],
            [
             0.2222222222222222,
             "#7201a8"
            ],
            [
             0.3333333333333333,
             "#9c179e"
            ],
            [
             0.4444444444444444,
             "#bd3786"
            ],
            [
             0.5555555555555556,
             "#d8576b"
            ],
            [
             0.6666666666666666,
             "#ed7953"
            ],
            [
             0.7777777777777778,
             "#fb9f3a"
            ],
            [
             0.8888888888888888,
             "#fdca26"
            ],
            [
             1,
             "#f0f921"
            ]
           ],
           "sequentialminus": [
            [
             0,
             "#0d0887"
            ],
            [
             0.1111111111111111,
             "#46039f"
            ],
            [
             0.2222222222222222,
             "#7201a8"
            ],
            [
             0.3333333333333333,
             "#9c179e"
            ],
            [
             0.4444444444444444,
             "#bd3786"
            ],
            [
             0.5555555555555556,
             "#d8576b"
            ],
            [
             0.6666666666666666,
             "#ed7953"
            ],
            [
             0.7777777777777778,
             "#fb9f3a"
            ],
            [
             0.8888888888888888,
             "#fdca26"
            ],
            [
             1,
             "#f0f921"
            ]
           ]
          },
          "colorway": [
           "#636efa",
           "#EF553B",
           "#00cc96",
           "#ab63fa",
           "#FFA15A",
           "#19d3f3",
           "#FF6692",
           "#B6E880",
           "#FF97FF",
           "#FECB52"
          ],
          "font": {
           "color": "#2a3f5f"
          },
          "geo": {
           "bgcolor": "white",
           "lakecolor": "white",
           "landcolor": "#E5ECF6",
           "showlakes": true,
           "showland": true,
           "subunitcolor": "white"
          },
          "hoverlabel": {
           "align": "left"
          },
          "hovermode": "closest",
          "mapbox": {
           "style": "light"
          },
          "paper_bgcolor": "white",
          "plot_bgcolor": "#E5ECF6",
          "polar": {
           "angularaxis": {
            "gridcolor": "white",
            "linecolor": "white",
            "ticks": ""
           },
           "bgcolor": "#E5ECF6",
           "radialaxis": {
            "gridcolor": "white",
            "linecolor": "white",
            "ticks": ""
           }
          },
          "scene": {
           "xaxis": {
            "backgroundcolor": "#E5ECF6",
            "gridcolor": "white",
            "gridwidth": 2,
            "linecolor": "white",
            "showbackground": true,
            "ticks": "",
            "zerolinecolor": "white"
           },
           "yaxis": {
            "backgroundcolor": "#E5ECF6",
            "gridcolor": "white",
            "gridwidth": 2,
            "linecolor": "white",
            "showbackground": true,
            "ticks": "",
            "zerolinecolor": "white"
           },
           "zaxis": {
            "backgroundcolor": "#E5ECF6",
            "gridcolor": "white",
            "gridwidth": 2,
            "linecolor": "white",
            "showbackground": true,
            "ticks": "",
            "zerolinecolor": "white"
           }
          },
          "shapedefaults": {
           "line": {
            "color": "#2a3f5f"
           }
          },
          "ternary": {
           "aaxis": {
            "gridcolor": "white",
            "linecolor": "white",
            "ticks": ""
           },
           "baxis": {
            "gridcolor": "white",
            "linecolor": "white",
            "ticks": ""
           },
           "bgcolor": "#E5ECF6",
           "caxis": {
            "gridcolor": "white",
            "linecolor": "white",
            "ticks": ""
           }
          },
          "title": {
           "x": 0.05
          },
          "xaxis": {
           "automargin": true,
           "gridcolor": "white",
           "linecolor": "white",
           "ticks": "",
           "title": {
            "standoff": 15
           },
           "zerolinecolor": "white",
           "zerolinewidth": 2
          },
          "yaxis": {
           "automargin": true,
           "gridcolor": "white",
           "linecolor": "white",
           "ticks": "",
           "title": {
            "standoff": 15
           },
           "zerolinecolor": "white",
           "zerolinewidth": 2
          }
         }
        },
        "title": {
         "text": "Criterion vs. Recall"
        },
        "xaxis": {
         "anchor": "y",
         "domain": [
          0,
          1
         ],
         "title": {
          "text": "param_criterion"
         }
        },
        "yaxis": {
         "anchor": "x",
         "domain": [
          0,
          1
         ],
         "title": {
          "text": "mean_test_score"
         }
        }
       }
      }
     },
     "metadata": {},
     "output_type": "display_data"
    }
   ],
   "source": [
    "px.scatter(\n",
    "    df_tree_search_cv,\n",
    "    x=\"param_criterion\",\n",
    "    y=\"mean_test_score\",\n",
    "    title=\"Criterion vs. Recall\",\n",
    ")"
   ]
  },
  {
   "cell_type": "code",
   "execution_count": 15,
   "metadata": {},
   "outputs": [
    {
     "data": {
      "application/vnd.plotly.v1+json": {
       "config": {
        "plotlyServerURL": "https://plot.ly"
       },
       "data": [
        {
         "hovertemplate": "param_max_features=%{x}<br>mean_test_score=%{y}<extra></extra>",
         "legendgroup": "",
         "marker": {
          "color": "#636efa",
          "symbol": "circle"
         },
         "mode": "markers",
         "name": "",
         "orientation": "v",
         "showlegend": false,
         "type": "scatter",
         "x": [
          "sqrt",
          "sqrt",
          "sqrt",
          "sqrt",
          "sqrt",
          "sqrt",
          "sqrt",
          "sqrt",
          "sqrt",
          "sqrt",
          "sqrt",
          "sqrt",
          "sqrt",
          "sqrt",
          "sqrt",
          "sqrt",
          "sqrt",
          "sqrt",
          "sqrt",
          "sqrt",
          "sqrt",
          "sqrt",
          "sqrt",
          "sqrt",
          "sqrt",
          "sqrt",
          "sqrt",
          "sqrt",
          "sqrt",
          "sqrt",
          "sqrt",
          "sqrt",
          "log2",
          "log2",
          "log2",
          "log2",
          "log2",
          "log2",
          "log2",
          "log2",
          "log2",
          "log2",
          "log2",
          "log2",
          "log2",
          "log2",
          "log2",
          "log2",
          "log2",
          "log2",
          "log2",
          "log2",
          "log2",
          "log2",
          "log2",
          "log2",
          "log2",
          "log2",
          "log2",
          "log2",
          "log2",
          "log2",
          "log2",
          "log2",
          "sqrt",
          "sqrt",
          "sqrt",
          "sqrt",
          "sqrt",
          "sqrt",
          "sqrt",
          "sqrt",
          "sqrt",
          "sqrt",
          "sqrt",
          "sqrt",
          "sqrt",
          "sqrt",
          "sqrt",
          "sqrt",
          "sqrt",
          "sqrt",
          "sqrt",
          "sqrt",
          "sqrt",
          "sqrt",
          "sqrt",
          "sqrt",
          "sqrt",
          "sqrt",
          "sqrt",
          "sqrt",
          "sqrt",
          "sqrt",
          "sqrt",
          "sqrt",
          "log2",
          "log2",
          "log2",
          "log2",
          "log2",
          "log2",
          "log2",
          "log2",
          "log2",
          "log2",
          "log2",
          "log2",
          "log2",
          "log2",
          "log2",
          "log2",
          "log2",
          "log2",
          "log2",
          "log2",
          "log2",
          "log2",
          "log2",
          "log2",
          "log2",
          "log2",
          "log2",
          "log2",
          "log2",
          "log2",
          "log2",
          "log2",
          "sqrt",
          "sqrt",
          "sqrt",
          "sqrt",
          "sqrt",
          "sqrt",
          "sqrt",
          "sqrt",
          "sqrt",
          "sqrt",
          "sqrt",
          "sqrt",
          "sqrt",
          "sqrt",
          "sqrt",
          "sqrt",
          "sqrt",
          "sqrt",
          "sqrt",
          "sqrt",
          "sqrt",
          "sqrt",
          "sqrt",
          "sqrt",
          "sqrt",
          "sqrt",
          "sqrt",
          "sqrt",
          "sqrt",
          "sqrt",
          "sqrt",
          "sqrt",
          "log2",
          "log2",
          "log2",
          "log2",
          "log2",
          "log2",
          "log2",
          "log2",
          "log2",
          "log2",
          "log2",
          "log2",
          "log2",
          "log2",
          "log2",
          "log2",
          "log2",
          "log2",
          "log2",
          "log2",
          "log2",
          "log2",
          "log2",
          "log2",
          "log2",
          "log2",
          "log2",
          "log2",
          "log2",
          "log2",
          "log2",
          "log2",
          "sqrt",
          "sqrt",
          "sqrt",
          "sqrt",
          "sqrt",
          "sqrt",
          "sqrt",
          "sqrt",
          "sqrt",
          "sqrt",
          "sqrt",
          "sqrt",
          "sqrt",
          "sqrt",
          "sqrt",
          "sqrt",
          "sqrt",
          "sqrt",
          "sqrt",
          "sqrt",
          "sqrt",
          "sqrt",
          "sqrt",
          "sqrt",
          "sqrt",
          "sqrt",
          "sqrt",
          "sqrt",
          "sqrt",
          "sqrt",
          "sqrt",
          "sqrt",
          "log2",
          "log2",
          "log2",
          "log2",
          "log2",
          "log2",
          "log2",
          "log2",
          "log2",
          "log2",
          "log2",
          "log2",
          "log2",
          "log2",
          "log2",
          "log2",
          "log2",
          "log2",
          "log2",
          "log2",
          "log2",
          "log2",
          "log2",
          "log2",
          "log2",
          "log2",
          "log2",
          "log2",
          "log2",
          "log2",
          "log2",
          "log2",
          "sqrt",
          "sqrt",
          "sqrt",
          "sqrt",
          "sqrt",
          "sqrt",
          "sqrt",
          "sqrt",
          "sqrt",
          "sqrt",
          "sqrt",
          "sqrt",
          "sqrt",
          "sqrt",
          "sqrt",
          "sqrt",
          "sqrt",
          "sqrt",
          "sqrt",
          "sqrt",
          "sqrt",
          "sqrt",
          "sqrt",
          "sqrt",
          "sqrt",
          "sqrt",
          "sqrt",
          "sqrt",
          "sqrt",
          "sqrt",
          "sqrt",
          "sqrt",
          "log2",
          "log2",
          "log2",
          "log2",
          "log2",
          "log2",
          "log2",
          "log2",
          "log2",
          "log2",
          "log2",
          "log2",
          "log2",
          "log2",
          "log2",
          "log2",
          "log2",
          "log2",
          "log2",
          "log2",
          "log2",
          "log2",
          "log2",
          "log2",
          "log2",
          "log2",
          "log2",
          "log2",
          "log2",
          "log2",
          "log2",
          "log2",
          "sqrt",
          "sqrt",
          "sqrt",
          "sqrt",
          "sqrt",
          "sqrt",
          "sqrt",
          "sqrt",
          "sqrt",
          "sqrt",
          "sqrt",
          "sqrt",
          "sqrt",
          "sqrt",
          "sqrt",
          "sqrt",
          "sqrt",
          "sqrt",
          "sqrt",
          "sqrt",
          "sqrt",
          "sqrt",
          "sqrt",
          "sqrt",
          "sqrt",
          "sqrt",
          "sqrt",
          "sqrt",
          "sqrt",
          "sqrt",
          "sqrt",
          "sqrt",
          "log2",
          "log2",
          "log2",
          "log2",
          "log2",
          "log2",
          "log2",
          "log2",
          "log2",
          "log2",
          "log2",
          "log2",
          "log2",
          "log2",
          "log2",
          "log2",
          "log2",
          "log2",
          "log2",
          "log2",
          "log2",
          "log2",
          "log2",
          "log2",
          "log2",
          "log2",
          "log2",
          "log2",
          "log2",
          "log2",
          "log2",
          "log2",
          "sqrt",
          "sqrt",
          "sqrt",
          "sqrt",
          "sqrt",
          "sqrt",
          "sqrt",
          "sqrt",
          "sqrt",
          "sqrt",
          "sqrt",
          "sqrt",
          "sqrt",
          "sqrt",
          "sqrt",
          "sqrt",
          "sqrt",
          "sqrt",
          "sqrt",
          "sqrt",
          "sqrt",
          "sqrt",
          "sqrt",
          "sqrt",
          "sqrt",
          "sqrt",
          "sqrt",
          "sqrt",
          "sqrt",
          "sqrt",
          "sqrt",
          "sqrt",
          "log2",
          "log2",
          "log2",
          "log2",
          "log2",
          "log2",
          "log2",
          "log2",
          "log2",
          "log2",
          "log2",
          "log2",
          "log2",
          "log2",
          "log2",
          "log2",
          "log2",
          "log2",
          "log2",
          "log2",
          "log2",
          "log2",
          "log2",
          "log2",
          "log2",
          "log2",
          "log2",
          "log2",
          "log2",
          "log2",
          "log2",
          "log2",
          "sqrt",
          "sqrt",
          "sqrt",
          "sqrt",
          "sqrt",
          "sqrt",
          "sqrt",
          "sqrt",
          "sqrt",
          "sqrt",
          "sqrt",
          "sqrt",
          "sqrt",
          "sqrt",
          "sqrt",
          "sqrt",
          "sqrt",
          "sqrt",
          "sqrt",
          "sqrt",
          "sqrt",
          "sqrt",
          "sqrt",
          "sqrt",
          "sqrt",
          "sqrt",
          "sqrt",
          "sqrt",
          "sqrt",
          "sqrt",
          "sqrt",
          "sqrt",
          "log2",
          "log2",
          "log2",
          "log2",
          "log2",
          "log2",
          "log2",
          "log2",
          "log2",
          "log2",
          "log2",
          "log2",
          "log2",
          "log2",
          "log2",
          "log2",
          "log2",
          "log2",
          "log2",
          "log2",
          "log2",
          "log2",
          "log2",
          "log2",
          "log2",
          "log2",
          "log2",
          "log2",
          "log2",
          "log2",
          "log2",
          "log2"
         ],
         "xaxis": "x",
         "y": [
          0.23069620253164555,
          0.1509493670886076,
          0.23069620253164555,
          0.1509493670886076,
          0.22563291139240507,
          0.17531645569620252,
          0.2316455696202532,
          0.16993670886075948,
          0.20632911392405062,
          0.1458860759493671,
          0.20632911392405062,
          0.1458860759493671,
          0.20632911392405062,
          0.1458860759493671,
          0.20632911392405062,
          0.1458860759493671,
          0.23259493670886075,
          0.15126582278481013,
          0.23259493670886075,
          0.15126582278481013,
          0.23259493670886075,
          0.15126582278481013,
          0.23259493670886075,
          0.15126582278481013,
          0.22436708860759494,
          0.1642405063291139,
          0.22436708860759494,
          0.1642405063291139,
          0.22436708860759494,
          0.1642405063291139,
          0.22436708860759494,
          0.1642405063291139,
          0.23069620253164555,
          0.1509493670886076,
          0.23069620253164555,
          0.1509493670886076,
          0.22563291139240507,
          0.17531645569620252,
          0.2316455696202532,
          0.16993670886075948,
          0.20632911392405062,
          0.1458860759493671,
          0.20632911392405062,
          0.1458860759493671,
          0.20632911392405062,
          0.1458860759493671,
          0.20632911392405062,
          0.1458860759493671,
          0.23259493670886075,
          0.15126582278481013,
          0.23259493670886075,
          0.15126582278481013,
          0.23259493670886075,
          0.15126582278481013,
          0.23259493670886075,
          0.15126582278481013,
          0.22436708860759494,
          0.1642405063291139,
          0.22436708860759494,
          0.1642405063291139,
          0.22436708860759494,
          0.1642405063291139,
          0.22436708860759494,
          0.1642405063291139,
          0.15348101265822783,
          0.18765822784810127,
          0.15348101265822783,
          0.18765822784810127,
          0.2610759493670886,
          0.18860759493670887,
          0.28544303797468357,
          0.16487341772151898,
          0.2642405063291139,
          0.15854430379746837,
          0.2642405063291139,
          0.15854430379746837,
          0.2642405063291139,
          0.15854430379746837,
          0.2642405063291139,
          0.15854430379746837,
          0.24778481012658227,
          0.18322784810126583,
          0.24778481012658227,
          0.18322784810126583,
          0.24778481012658227,
          0.18322784810126583,
          0.24778481012658227,
          0.18322784810126583,
          0.21772151898734177,
          0.18006329113924052,
          0.21772151898734177,
          0.18006329113924052,
          0.21772151898734177,
          0.18006329113924052,
          0.21772151898734177,
          0.18006329113924052,
          0.15348101265822783,
          0.18765822784810127,
          0.15348101265822783,
          0.18765822784810127,
          0.2610759493670886,
          0.18860759493670887,
          0.28544303797468357,
          0.16487341772151898,
          0.2642405063291139,
          0.15854430379746837,
          0.2642405063291139,
          0.15854430379746837,
          0.2642405063291139,
          0.15854430379746837,
          0.2642405063291139,
          0.15854430379746837,
          0.24778481012658227,
          0.18322784810126583,
          0.24778481012658227,
          0.18322784810126583,
          0.24778481012658227,
          0.18322784810126583,
          0.24778481012658227,
          0.18322784810126583,
          0.21772151898734177,
          0.18006329113924052,
          0.21772151898734177,
          0.18006329113924052,
          0.21772151898734177,
          0.18006329113924052,
          0.21772151898734177,
          0.18006329113924052,
          0.23670886075949368,
          0.2037974683544304,
          0.23670886075949368,
          0.2037974683544304,
          0.225,
          0.18544303797468356,
          0.27563291139240503,
          0.19050632911392404,
          0.22721518987341774,
          0.17563291139240506,
          0.22721518987341774,
          0.17563291139240506,
          0.22721518987341774,
          0.17563291139240506,
          0.22721518987341774,
          0.17563291139240506,
          0.2221518987341772,
          0.1550632911392405,
          0.2221518987341772,
          0.1550632911392405,
          0.2221518987341772,
          0.1550632911392405,
          0.2221518987341772,
          0.1550632911392405,
          0.21772151898734177,
          0.16139240506329117,
          0.21772151898734177,
          0.16139240506329117,
          0.21772151898734177,
          0.16139240506329117,
          0.21772151898734177,
          0.16139240506329117,
          0.23670886075949368,
          0.2037974683544304,
          0.23670886075949368,
          0.2037974683544304,
          0.225,
          0.18544303797468356,
          0.27563291139240503,
          0.19050632911392404,
          0.22721518987341774,
          0.17563291139240506,
          0.22721518987341774,
          0.17563291139240506,
          0.22721518987341774,
          0.17563291139240506,
          0.22721518987341774,
          0.17563291139240506,
          0.2221518987341772,
          0.1550632911392405,
          0.2221518987341772,
          0.1550632911392405,
          0.2221518987341772,
          0.1550632911392405,
          0.2221518987341772,
          0.1550632911392405,
          0.21772151898734177,
          0.16139240506329117,
          0.21772151898734177,
          0.16139240506329117,
          0.21772151898734177,
          0.16139240506329117,
          0.21772151898734177,
          0.16139240506329117,
          0.25316455696202533,
          0.18544303797468356,
          0.25316455696202533,
          0.18544303797468356,
          0.26613924050632914,
          0.17626582278481012,
          0.2680379746835443,
          0.20822784810126582,
          0.23544303797468355,
          0.1768987341772152,
          0.23544303797468355,
          0.1768987341772152,
          0.23544303797468355,
          0.1768987341772152,
          0.23544303797468355,
          0.1768987341772152,
          0.30253164556962026,
          0.16740506329113924,
          0.30253164556962026,
          0.16740506329113924,
          0.30253164556962026,
          0.16740506329113924,
          0.30253164556962026,
          0.16740506329113924,
          0.20822784810126582,
          0.16740506329113924,
          0.20822784810126582,
          0.16740506329113924,
          0.20822784810126582,
          0.16740506329113924,
          0.20822784810126582,
          0.16740506329113924,
          0.25316455696202533,
          0.18544303797468356,
          0.25316455696202533,
          0.18544303797468356,
          0.26613924050632914,
          0.17626582278481012,
          0.2680379746835443,
          0.20822784810126582,
          0.23544303797468355,
          0.1768987341772152,
          0.23544303797468355,
          0.1768987341772152,
          0.23544303797468355,
          0.1768987341772152,
          0.23544303797468355,
          0.1768987341772152,
          0.30253164556962026,
          0.16740506329113924,
          0.30253164556962026,
          0.16740506329113924,
          0.30253164556962026,
          0.16740506329113924,
          0.30253164556962026,
          0.16740506329113924,
          0.20822784810126582,
          0.16740506329113924,
          0.20822784810126582,
          0.16740506329113924,
          0.20822784810126582,
          0.16740506329113924,
          0.20822784810126582,
          0.16740506329113924,
          0.17373417721518986,
          0.1509493670886076,
          0.17373417721518986,
          0.1509493670886076,
          0.1889240506329114,
          0.1699367088607595,
          0.1879746835443038,
          0.16677215189873418,
          0.175,
          0.14746835443037973,
          0.175,
          0.14746835443037973,
          0.175,
          0.14746835443037973,
          0.175,
          0.14746835443037973,
          0.18702531645569617,
          0.15126582278481013,
          0.18702531645569617,
          0.15126582278481013,
          0.18702531645569617,
          0.15126582278481013,
          0.18702531645569617,
          0.15126582278481013,
          0.17468354430379746,
          0.1642405063291139,
          0.17468354430379746,
          0.1642405063291139,
          0.17468354430379746,
          0.1642405063291139,
          0.17468354430379746,
          0.1642405063291139,
          0.17373417721518986,
          0.1509493670886076,
          0.17373417721518986,
          0.1509493670886076,
          0.1889240506329114,
          0.1699367088607595,
          0.1879746835443038,
          0.16677215189873418,
          0.175,
          0.14746835443037973,
          0.175,
          0.14746835443037973,
          0.175,
          0.14746835443037973,
          0.175,
          0.14746835443037973,
          0.18702531645569617,
          0.15126582278481013,
          0.18702531645569617,
          0.15126582278481013,
          0.18702531645569617,
          0.15126582278481013,
          0.18702531645569617,
          0.15126582278481013,
          0.17468354430379746,
          0.1642405063291139,
          0.17468354430379746,
          0.1642405063291139,
          0.17468354430379746,
          0.1642405063291139,
          0.17468354430379746,
          0.1642405063291139,
          0.19272151898734177,
          0.18829113924050633,
          0.19272151898734177,
          0.18829113924050633,
          0.21867088607594937,
          0.17341772151898732,
          0.2794303797468355,
          0.16835443037974684,
          0.2806962025316456,
          0.15854430379746837,
          0.2806962025316456,
          0.15854430379746837,
          0.2806962025316456,
          0.15854430379746837,
          0.2806962025316456,
          0.15854430379746837,
          0.245253164556962,
          0.18322784810126583,
          0.245253164556962,
          0.18322784810126583,
          0.245253164556962,
          0.18322784810126583,
          0.245253164556962,
          0.18322784810126583,
          0.2484177215189874,
          0.17468354430379748,
          0.2484177215189874,
          0.17468354430379748,
          0.2484177215189874,
          0.17468354430379748,
          0.2484177215189874,
          0.17468354430379748,
          0.19272151898734177,
          0.18829113924050633,
          0.19272151898734177,
          0.18829113924050633,
          0.21867088607594937,
          0.17341772151898732,
          0.2794303797468355,
          0.16835443037974684,
          0.2806962025316456,
          0.15854430379746837,
          0.2806962025316456,
          0.15854430379746837,
          0.2806962025316456,
          0.15854430379746837,
          0.2806962025316456,
          0.15854430379746837,
          0.245253164556962,
          0.18322784810126583,
          0.245253164556962,
          0.18322784810126583,
          0.245253164556962,
          0.18322784810126583,
          0.245253164556962,
          0.18322784810126583,
          0.2484177215189874,
          0.17468354430379748,
          0.2484177215189874,
          0.17468354430379748,
          0.2484177215189874,
          0.17468354430379748,
          0.2484177215189874,
          0.17468354430379748,
          0.23765822784810128,
          0.1939873417721519,
          0.23765822784810128,
          0.1939873417721519,
          0.2683544303797468,
          0.1879746835443038,
          0.2617088607594936,
          0.1892405063291139,
          0.22658227848101262,
          0.17563291139240506,
          0.22658227848101262,
          0.17563291139240506,
          0.22658227848101262,
          0.17563291139240506,
          0.22658227848101262,
          0.17563291139240506,
          0.2759493670886076,
          0.1550632911392405,
          0.2759493670886076,
          0.1550632911392405,
          0.2759493670886076,
          0.1550632911392405,
          0.2759493670886076,
          0.1550632911392405,
          0.2379746835443038,
          0.15379746835443037,
          0.2379746835443038,
          0.15379746835443037,
          0.2379746835443038,
          0.15379746835443037,
          0.2379746835443038,
          0.15379746835443037,
          0.23765822784810128,
          0.1939873417721519,
          0.23765822784810128,
          0.1939873417721519,
          0.2683544303797468,
          0.1879746835443038,
          0.2617088607594936,
          0.1892405063291139,
          0.22658227848101262,
          0.17563291139240506,
          0.22658227848101262,
          0.17563291139240506,
          0.22658227848101262,
          0.17563291139240506,
          0.22658227848101262,
          0.17563291139240506,
          0.2759493670886076,
          0.1550632911392405,
          0.2759493670886076,
          0.1550632911392405,
          0.2759493670886076,
          0.1550632911392405,
          0.2759493670886076,
          0.1550632911392405,
          0.2379746835443038,
          0.15379746835443037,
          0.2379746835443038,
          0.15379746835443037,
          0.2379746835443038,
          0.15379746835443037,
          0.2379746835443038,
          0.15379746835443037,
          0.2708860759493671,
          0.18892405063291137,
          0.2708860759493671,
          0.18892405063291137,
          0.2528481012658228,
          0.16550632911392404,
          0.2863924050632911,
          0.195253164556962,
          0.275,
          0.18227848101265823,
          0.275,
          0.18227848101265823,
          0.275,
          0.18227848101265823,
          0.275,
          0.18227848101265823,
          0.22943037974683547,
          0.16772151898734178,
          0.22943037974683547,
          0.16772151898734178,
          0.22943037974683547,
          0.16772151898734178,
          0.22943037974683547,
          0.16772151898734178,
          0.2379746835443038,
          0.15348101265822786,
          0.2379746835443038,
          0.15348101265822786,
          0.2379746835443038,
          0.15348101265822786,
          0.2379746835443038,
          0.15348101265822786,
          0.2708860759493671,
          0.18892405063291137,
          0.2708860759493671,
          0.18892405063291137,
          0.2528481012658228,
          0.16550632911392404,
          0.2863924050632911,
          0.195253164556962,
          0.275,
          0.18227848101265823,
          0.275,
          0.18227848101265823,
          0.275,
          0.18227848101265823,
          0.275,
          0.18227848101265823,
          0.22943037974683547,
          0.16772151898734178,
          0.22943037974683547,
          0.16772151898734178,
          0.22943037974683547,
          0.16772151898734178,
          0.22943037974683547,
          0.16772151898734178,
          0.2379746835443038,
          0.15348101265822786,
          0.2379746835443038,
          0.15348101265822786,
          0.2379746835443038,
          0.15348101265822786,
          0.2379746835443038,
          0.15348101265822786
         ],
         "yaxis": "y"
        }
       ],
       "layout": {
        "legend": {
         "tracegroupgap": 0
        },
        "template": {
         "data": {
          "bar": [
           {
            "error_x": {
             "color": "#2a3f5f"
            },
            "error_y": {
             "color": "#2a3f5f"
            },
            "marker": {
             "line": {
              "color": "#E5ECF6",
              "width": 0.5
             },
             "pattern": {
              "fillmode": "overlay",
              "size": 10,
              "solidity": 0.2
             }
            },
            "type": "bar"
           }
          ],
          "barpolar": [
           {
            "marker": {
             "line": {
              "color": "#E5ECF6",
              "width": 0.5
             },
             "pattern": {
              "fillmode": "overlay",
              "size": 10,
              "solidity": 0.2
             }
            },
            "type": "barpolar"
           }
          ],
          "carpet": [
           {
            "aaxis": {
             "endlinecolor": "#2a3f5f",
             "gridcolor": "white",
             "linecolor": "white",
             "minorgridcolor": "white",
             "startlinecolor": "#2a3f5f"
            },
            "baxis": {
             "endlinecolor": "#2a3f5f",
             "gridcolor": "white",
             "linecolor": "white",
             "minorgridcolor": "white",
             "startlinecolor": "#2a3f5f"
            },
            "type": "carpet"
           }
          ],
          "choropleth": [
           {
            "colorbar": {
             "outlinewidth": 0,
             "ticks": ""
            },
            "type": "choropleth"
           }
          ],
          "contour": [
           {
            "colorbar": {
             "outlinewidth": 0,
             "ticks": ""
            },
            "colorscale": [
             [
              0,
              "#0d0887"
             ],
             [
              0.1111111111111111,
              "#46039f"
             ],
             [
              0.2222222222222222,
              "#7201a8"
             ],
             [
              0.3333333333333333,
              "#9c179e"
             ],
             [
              0.4444444444444444,
              "#bd3786"
             ],
             [
              0.5555555555555556,
              "#d8576b"
             ],
             [
              0.6666666666666666,
              "#ed7953"
             ],
             [
              0.7777777777777778,
              "#fb9f3a"
             ],
             [
              0.8888888888888888,
              "#fdca26"
             ],
             [
              1,
              "#f0f921"
             ]
            ],
            "type": "contour"
           }
          ],
          "contourcarpet": [
           {
            "colorbar": {
             "outlinewidth": 0,
             "ticks": ""
            },
            "type": "contourcarpet"
           }
          ],
          "heatmap": [
           {
            "colorbar": {
             "outlinewidth": 0,
             "ticks": ""
            },
            "colorscale": [
             [
              0,
              "#0d0887"
             ],
             [
              0.1111111111111111,
              "#46039f"
             ],
             [
              0.2222222222222222,
              "#7201a8"
             ],
             [
              0.3333333333333333,
              "#9c179e"
             ],
             [
              0.4444444444444444,
              "#bd3786"
             ],
             [
              0.5555555555555556,
              "#d8576b"
             ],
             [
              0.6666666666666666,
              "#ed7953"
             ],
             [
              0.7777777777777778,
              "#fb9f3a"
             ],
             [
              0.8888888888888888,
              "#fdca26"
             ],
             [
              1,
              "#f0f921"
             ]
            ],
            "type": "heatmap"
           }
          ],
          "heatmapgl": [
           {
            "colorbar": {
             "outlinewidth": 0,
             "ticks": ""
            },
            "colorscale": [
             [
              0,
              "#0d0887"
             ],
             [
              0.1111111111111111,
              "#46039f"
             ],
             [
              0.2222222222222222,
              "#7201a8"
             ],
             [
              0.3333333333333333,
              "#9c179e"
             ],
             [
              0.4444444444444444,
              "#bd3786"
             ],
             [
              0.5555555555555556,
              "#d8576b"
             ],
             [
              0.6666666666666666,
              "#ed7953"
             ],
             [
              0.7777777777777778,
              "#fb9f3a"
             ],
             [
              0.8888888888888888,
              "#fdca26"
             ],
             [
              1,
              "#f0f921"
             ]
            ],
            "type": "heatmapgl"
           }
          ],
          "histogram": [
           {
            "marker": {
             "pattern": {
              "fillmode": "overlay",
              "size": 10,
              "solidity": 0.2
             }
            },
            "type": "histogram"
           }
          ],
          "histogram2d": [
           {
            "colorbar": {
             "outlinewidth": 0,
             "ticks": ""
            },
            "colorscale": [
             [
              0,
              "#0d0887"
             ],
             [
              0.1111111111111111,
              "#46039f"
             ],
             [
              0.2222222222222222,
              "#7201a8"
             ],
             [
              0.3333333333333333,
              "#9c179e"
             ],
             [
              0.4444444444444444,
              "#bd3786"
             ],
             [
              0.5555555555555556,
              "#d8576b"
             ],
             [
              0.6666666666666666,
              "#ed7953"
             ],
             [
              0.7777777777777778,
              "#fb9f3a"
             ],
             [
              0.8888888888888888,
              "#fdca26"
             ],
             [
              1,
              "#f0f921"
             ]
            ],
            "type": "histogram2d"
           }
          ],
          "histogram2dcontour": [
           {
            "colorbar": {
             "outlinewidth": 0,
             "ticks": ""
            },
            "colorscale": [
             [
              0,
              "#0d0887"
             ],
             [
              0.1111111111111111,
              "#46039f"
             ],
             [
              0.2222222222222222,
              "#7201a8"
             ],
             [
              0.3333333333333333,
              "#9c179e"
             ],
             [
              0.4444444444444444,
              "#bd3786"
             ],
             [
              0.5555555555555556,
              "#d8576b"
             ],
             [
              0.6666666666666666,
              "#ed7953"
             ],
             [
              0.7777777777777778,
              "#fb9f3a"
             ],
             [
              0.8888888888888888,
              "#fdca26"
             ],
             [
              1,
              "#f0f921"
             ]
            ],
            "type": "histogram2dcontour"
           }
          ],
          "mesh3d": [
           {
            "colorbar": {
             "outlinewidth": 0,
             "ticks": ""
            },
            "type": "mesh3d"
           }
          ],
          "parcoords": [
           {
            "line": {
             "colorbar": {
              "outlinewidth": 0,
              "ticks": ""
             }
            },
            "type": "parcoords"
           }
          ],
          "pie": [
           {
            "automargin": true,
            "type": "pie"
           }
          ],
          "scatter": [
           {
            "fillpattern": {
             "fillmode": "overlay",
             "size": 10,
             "solidity": 0.2
            },
            "type": "scatter"
           }
          ],
          "scatter3d": [
           {
            "line": {
             "colorbar": {
              "outlinewidth": 0,
              "ticks": ""
             }
            },
            "marker": {
             "colorbar": {
              "outlinewidth": 0,
              "ticks": ""
             }
            },
            "type": "scatter3d"
           }
          ],
          "scattercarpet": [
           {
            "marker": {
             "colorbar": {
              "outlinewidth": 0,
              "ticks": ""
             }
            },
            "type": "scattercarpet"
           }
          ],
          "scattergeo": [
           {
            "marker": {
             "colorbar": {
              "outlinewidth": 0,
              "ticks": ""
             }
            },
            "type": "scattergeo"
           }
          ],
          "scattergl": [
           {
            "marker": {
             "colorbar": {
              "outlinewidth": 0,
              "ticks": ""
             }
            },
            "type": "scattergl"
           }
          ],
          "scattermapbox": [
           {
            "marker": {
             "colorbar": {
              "outlinewidth": 0,
              "ticks": ""
             }
            },
            "type": "scattermapbox"
           }
          ],
          "scatterpolar": [
           {
            "marker": {
             "colorbar": {
              "outlinewidth": 0,
              "ticks": ""
             }
            },
            "type": "scatterpolar"
           }
          ],
          "scatterpolargl": [
           {
            "marker": {
             "colorbar": {
              "outlinewidth": 0,
              "ticks": ""
             }
            },
            "type": "scatterpolargl"
           }
          ],
          "scatterternary": [
           {
            "marker": {
             "colorbar": {
              "outlinewidth": 0,
              "ticks": ""
             }
            },
            "type": "scatterternary"
           }
          ],
          "surface": [
           {
            "colorbar": {
             "outlinewidth": 0,
             "ticks": ""
            },
            "colorscale": [
             [
              0,
              "#0d0887"
             ],
             [
              0.1111111111111111,
              "#46039f"
             ],
             [
              0.2222222222222222,
              "#7201a8"
             ],
             [
              0.3333333333333333,
              "#9c179e"
             ],
             [
              0.4444444444444444,
              "#bd3786"
             ],
             [
              0.5555555555555556,
              "#d8576b"
             ],
             [
              0.6666666666666666,
              "#ed7953"
             ],
             [
              0.7777777777777778,
              "#fb9f3a"
             ],
             [
              0.8888888888888888,
              "#fdca26"
             ],
             [
              1,
              "#f0f921"
             ]
            ],
            "type": "surface"
           }
          ],
          "table": [
           {
            "cells": {
             "fill": {
              "color": "#EBF0F8"
             },
             "line": {
              "color": "white"
             }
            },
            "header": {
             "fill": {
              "color": "#C8D4E3"
             },
             "line": {
              "color": "white"
             }
            },
            "type": "table"
           }
          ]
         },
         "layout": {
          "annotationdefaults": {
           "arrowcolor": "#2a3f5f",
           "arrowhead": 0,
           "arrowwidth": 1
          },
          "autotypenumbers": "strict",
          "coloraxis": {
           "colorbar": {
            "outlinewidth": 0,
            "ticks": ""
           }
          },
          "colorscale": {
           "diverging": [
            [
             0,
             "#8e0152"
            ],
            [
             0.1,
             "#c51b7d"
            ],
            [
             0.2,
             "#de77ae"
            ],
            [
             0.3,
             "#f1b6da"
            ],
            [
             0.4,
             "#fde0ef"
            ],
            [
             0.5,
             "#f7f7f7"
            ],
            [
             0.6,
             "#e6f5d0"
            ],
            [
             0.7,
             "#b8e186"
            ],
            [
             0.8,
             "#7fbc41"
            ],
            [
             0.9,
             "#4d9221"
            ],
            [
             1,
             "#276419"
            ]
           ],
           "sequential": [
            [
             0,
             "#0d0887"
            ],
            [
             0.1111111111111111,
             "#46039f"
            ],
            [
             0.2222222222222222,
             "#7201a8"
            ],
            [
             0.3333333333333333,
             "#9c179e"
            ],
            [
             0.4444444444444444,
             "#bd3786"
            ],
            [
             0.5555555555555556,
             "#d8576b"
            ],
            [
             0.6666666666666666,
             "#ed7953"
            ],
            [
             0.7777777777777778,
             "#fb9f3a"
            ],
            [
             0.8888888888888888,
             "#fdca26"
            ],
            [
             1,
             "#f0f921"
            ]
           ],
           "sequentialminus": [
            [
             0,
             "#0d0887"
            ],
            [
             0.1111111111111111,
             "#46039f"
            ],
            [
             0.2222222222222222,
             "#7201a8"
            ],
            [
             0.3333333333333333,
             "#9c179e"
            ],
            [
             0.4444444444444444,
             "#bd3786"
            ],
            [
             0.5555555555555556,
             "#d8576b"
            ],
            [
             0.6666666666666666,
             "#ed7953"
            ],
            [
             0.7777777777777778,
             "#fb9f3a"
            ],
            [
             0.8888888888888888,
             "#fdca26"
            ],
            [
             1,
             "#f0f921"
            ]
           ]
          },
          "colorway": [
           "#636efa",
           "#EF553B",
           "#00cc96",
           "#ab63fa",
           "#FFA15A",
           "#19d3f3",
           "#FF6692",
           "#B6E880",
           "#FF97FF",
           "#FECB52"
          ],
          "font": {
           "color": "#2a3f5f"
          },
          "geo": {
           "bgcolor": "white",
           "lakecolor": "white",
           "landcolor": "#E5ECF6",
           "showlakes": true,
           "showland": true,
           "subunitcolor": "white"
          },
          "hoverlabel": {
           "align": "left"
          },
          "hovermode": "closest",
          "mapbox": {
           "style": "light"
          },
          "paper_bgcolor": "white",
          "plot_bgcolor": "#E5ECF6",
          "polar": {
           "angularaxis": {
            "gridcolor": "white",
            "linecolor": "white",
            "ticks": ""
           },
           "bgcolor": "#E5ECF6",
           "radialaxis": {
            "gridcolor": "white",
            "linecolor": "white",
            "ticks": ""
           }
          },
          "scene": {
           "xaxis": {
            "backgroundcolor": "#E5ECF6",
            "gridcolor": "white",
            "gridwidth": 2,
            "linecolor": "white",
            "showbackground": true,
            "ticks": "",
            "zerolinecolor": "white"
           },
           "yaxis": {
            "backgroundcolor": "#E5ECF6",
            "gridcolor": "white",
            "gridwidth": 2,
            "linecolor": "white",
            "showbackground": true,
            "ticks": "",
            "zerolinecolor": "white"
           },
           "zaxis": {
            "backgroundcolor": "#E5ECF6",
            "gridcolor": "white",
            "gridwidth": 2,
            "linecolor": "white",
            "showbackground": true,
            "ticks": "",
            "zerolinecolor": "white"
           }
          },
          "shapedefaults": {
           "line": {
            "color": "#2a3f5f"
           }
          },
          "ternary": {
           "aaxis": {
            "gridcolor": "white",
            "linecolor": "white",
            "ticks": ""
           },
           "baxis": {
            "gridcolor": "white",
            "linecolor": "white",
            "ticks": ""
           },
           "bgcolor": "#E5ECF6",
           "caxis": {
            "gridcolor": "white",
            "linecolor": "white",
            "ticks": ""
           }
          },
          "title": {
           "x": 0.05
          },
          "xaxis": {
           "automargin": true,
           "gridcolor": "white",
           "linecolor": "white",
           "ticks": "",
           "title": {
            "standoff": 15
           },
           "zerolinecolor": "white",
           "zerolinewidth": 2
          },
          "yaxis": {
           "automargin": true,
           "gridcolor": "white",
           "linecolor": "white",
           "ticks": "",
           "title": {
            "standoff": 15
           },
           "zerolinecolor": "white",
           "zerolinewidth": 2
          }
         }
        },
        "title": {
         "text": "Max Features vs. Recall"
        },
        "xaxis": {
         "anchor": "y",
         "domain": [
          0,
          1
         ],
         "title": {
          "text": "param_max_features"
         }
        },
        "yaxis": {
         "anchor": "x",
         "domain": [
          0,
          1
         ],
         "title": {
          "text": "mean_test_score"
         }
        }
       }
      }
     },
     "metadata": {},
     "output_type": "display_data"
    }
   ],
   "source": [
    "px.scatter(\n",
    "    df_tree_search_cv,\n",
    "    x=\"param_max_features\",\n",
    "    y=\"mean_test_score\",\n",
    "    title=\"Max Features vs. Recall\",\n",
    ")"
   ]
  },
  {
   "cell_type": "code",
   "execution_count": 16,
   "metadata": {},
   "outputs": [
    {
     "data": {
      "application/vnd.plotly.v1+json": {
       "config": {
        "plotlyServerURL": "https://plot.ly"
       },
       "data": [
        {
         "hovertemplate": "param_min_samples_split=%{x}<br>mean_test_score=%{y}<extra></extra>",
         "legendgroup": "",
         "marker": {
          "color": "#636efa",
          "symbol": "circle"
         },
         "mode": "markers",
         "name": "",
         "orientation": "v",
         "showlegend": false,
         "type": "scatter",
         "x": [
          5,
          5,
          10,
          10,
          15,
          15,
          20,
          20,
          5,
          5,
          10,
          10,
          15,
          15,
          20,
          20,
          5,
          5,
          10,
          10,
          15,
          15,
          20,
          20,
          5,
          5,
          10,
          10,
          15,
          15,
          20,
          20,
          5,
          5,
          10,
          10,
          15,
          15,
          20,
          20,
          5,
          5,
          10,
          10,
          15,
          15,
          20,
          20,
          5,
          5,
          10,
          10,
          15,
          15,
          20,
          20,
          5,
          5,
          10,
          10,
          15,
          15,
          20,
          20,
          5,
          5,
          10,
          10,
          15,
          15,
          20,
          20,
          5,
          5,
          10,
          10,
          15,
          15,
          20,
          20,
          5,
          5,
          10,
          10,
          15,
          15,
          20,
          20,
          5,
          5,
          10,
          10,
          15,
          15,
          20,
          20,
          5,
          5,
          10,
          10,
          15,
          15,
          20,
          20,
          5,
          5,
          10,
          10,
          15,
          15,
          20,
          20,
          5,
          5,
          10,
          10,
          15,
          15,
          20,
          20,
          5,
          5,
          10,
          10,
          15,
          15,
          20,
          20,
          5,
          5,
          10,
          10,
          15,
          15,
          20,
          20,
          5,
          5,
          10,
          10,
          15,
          15,
          20,
          20,
          5,
          5,
          10,
          10,
          15,
          15,
          20,
          20,
          5,
          5,
          10,
          10,
          15,
          15,
          20,
          20,
          5,
          5,
          10,
          10,
          15,
          15,
          20,
          20,
          5,
          5,
          10,
          10,
          15,
          15,
          20,
          20,
          5,
          5,
          10,
          10,
          15,
          15,
          20,
          20,
          5,
          5,
          10,
          10,
          15,
          15,
          20,
          20,
          5,
          5,
          10,
          10,
          15,
          15,
          20,
          20,
          5,
          5,
          10,
          10,
          15,
          15,
          20,
          20,
          5,
          5,
          10,
          10,
          15,
          15,
          20,
          20,
          5,
          5,
          10,
          10,
          15,
          15,
          20,
          20,
          5,
          5,
          10,
          10,
          15,
          15,
          20,
          20,
          5,
          5,
          10,
          10,
          15,
          15,
          20,
          20,
          5,
          5,
          10,
          10,
          15,
          15,
          20,
          20,
          5,
          5,
          10,
          10,
          15,
          15,
          20,
          20,
          5,
          5,
          10,
          10,
          15,
          15,
          20,
          20,
          5,
          5,
          10,
          10,
          15,
          15,
          20,
          20,
          5,
          5,
          10,
          10,
          15,
          15,
          20,
          20,
          5,
          5,
          10,
          10,
          15,
          15,
          20,
          20,
          5,
          5,
          10,
          10,
          15,
          15,
          20,
          20,
          5,
          5,
          10,
          10,
          15,
          15,
          20,
          20,
          5,
          5,
          10,
          10,
          15,
          15,
          20,
          20,
          5,
          5,
          10,
          10,
          15,
          15,
          20,
          20,
          5,
          5,
          10,
          10,
          15,
          15,
          20,
          20,
          5,
          5,
          10,
          10,
          15,
          15,
          20,
          20,
          5,
          5,
          10,
          10,
          15,
          15,
          20,
          20,
          5,
          5,
          10,
          10,
          15,
          15,
          20,
          20,
          5,
          5,
          10,
          10,
          15,
          15,
          20,
          20,
          5,
          5,
          10,
          10,
          15,
          15,
          20,
          20,
          5,
          5,
          10,
          10,
          15,
          15,
          20,
          20,
          5,
          5,
          10,
          10,
          15,
          15,
          20,
          20,
          5,
          5,
          10,
          10,
          15,
          15,
          20,
          20,
          5,
          5,
          10,
          10,
          15,
          15,
          20,
          20,
          5,
          5,
          10,
          10,
          15,
          15,
          20,
          20,
          5,
          5,
          10,
          10,
          15,
          15,
          20,
          20,
          5,
          5,
          10,
          10,
          15,
          15,
          20,
          20,
          5,
          5,
          10,
          10,
          15,
          15,
          20,
          20,
          5,
          5,
          10,
          10,
          15,
          15,
          20,
          20,
          5,
          5,
          10,
          10,
          15,
          15,
          20,
          20,
          5,
          5,
          10,
          10,
          15,
          15,
          20,
          20,
          5,
          5,
          10,
          10,
          15,
          15,
          20,
          20,
          5,
          5,
          10,
          10,
          15,
          15,
          20,
          20,
          5,
          5,
          10,
          10,
          15,
          15,
          20,
          20,
          5,
          5,
          10,
          10,
          15,
          15,
          20,
          20,
          5,
          5,
          10,
          10,
          15,
          15,
          20,
          20,
          5,
          5,
          10,
          10,
          15,
          15,
          20,
          20,
          5,
          5,
          10,
          10,
          15,
          15,
          20,
          20
         ],
         "xaxis": "x",
         "y": [
          0.23069620253164555,
          0.1509493670886076,
          0.23069620253164555,
          0.1509493670886076,
          0.22563291139240507,
          0.17531645569620252,
          0.2316455696202532,
          0.16993670886075948,
          0.20632911392405062,
          0.1458860759493671,
          0.20632911392405062,
          0.1458860759493671,
          0.20632911392405062,
          0.1458860759493671,
          0.20632911392405062,
          0.1458860759493671,
          0.23259493670886075,
          0.15126582278481013,
          0.23259493670886075,
          0.15126582278481013,
          0.23259493670886075,
          0.15126582278481013,
          0.23259493670886075,
          0.15126582278481013,
          0.22436708860759494,
          0.1642405063291139,
          0.22436708860759494,
          0.1642405063291139,
          0.22436708860759494,
          0.1642405063291139,
          0.22436708860759494,
          0.1642405063291139,
          0.23069620253164555,
          0.1509493670886076,
          0.23069620253164555,
          0.1509493670886076,
          0.22563291139240507,
          0.17531645569620252,
          0.2316455696202532,
          0.16993670886075948,
          0.20632911392405062,
          0.1458860759493671,
          0.20632911392405062,
          0.1458860759493671,
          0.20632911392405062,
          0.1458860759493671,
          0.20632911392405062,
          0.1458860759493671,
          0.23259493670886075,
          0.15126582278481013,
          0.23259493670886075,
          0.15126582278481013,
          0.23259493670886075,
          0.15126582278481013,
          0.23259493670886075,
          0.15126582278481013,
          0.22436708860759494,
          0.1642405063291139,
          0.22436708860759494,
          0.1642405063291139,
          0.22436708860759494,
          0.1642405063291139,
          0.22436708860759494,
          0.1642405063291139,
          0.15348101265822783,
          0.18765822784810127,
          0.15348101265822783,
          0.18765822784810127,
          0.2610759493670886,
          0.18860759493670887,
          0.28544303797468357,
          0.16487341772151898,
          0.2642405063291139,
          0.15854430379746837,
          0.2642405063291139,
          0.15854430379746837,
          0.2642405063291139,
          0.15854430379746837,
          0.2642405063291139,
          0.15854430379746837,
          0.24778481012658227,
          0.18322784810126583,
          0.24778481012658227,
          0.18322784810126583,
          0.24778481012658227,
          0.18322784810126583,
          0.24778481012658227,
          0.18322784810126583,
          0.21772151898734177,
          0.18006329113924052,
          0.21772151898734177,
          0.18006329113924052,
          0.21772151898734177,
          0.18006329113924052,
          0.21772151898734177,
          0.18006329113924052,
          0.15348101265822783,
          0.18765822784810127,
          0.15348101265822783,
          0.18765822784810127,
          0.2610759493670886,
          0.18860759493670887,
          0.28544303797468357,
          0.16487341772151898,
          0.2642405063291139,
          0.15854430379746837,
          0.2642405063291139,
          0.15854430379746837,
          0.2642405063291139,
          0.15854430379746837,
          0.2642405063291139,
          0.15854430379746837,
          0.24778481012658227,
          0.18322784810126583,
          0.24778481012658227,
          0.18322784810126583,
          0.24778481012658227,
          0.18322784810126583,
          0.24778481012658227,
          0.18322784810126583,
          0.21772151898734177,
          0.18006329113924052,
          0.21772151898734177,
          0.18006329113924052,
          0.21772151898734177,
          0.18006329113924052,
          0.21772151898734177,
          0.18006329113924052,
          0.23670886075949368,
          0.2037974683544304,
          0.23670886075949368,
          0.2037974683544304,
          0.225,
          0.18544303797468356,
          0.27563291139240503,
          0.19050632911392404,
          0.22721518987341774,
          0.17563291139240506,
          0.22721518987341774,
          0.17563291139240506,
          0.22721518987341774,
          0.17563291139240506,
          0.22721518987341774,
          0.17563291139240506,
          0.2221518987341772,
          0.1550632911392405,
          0.2221518987341772,
          0.1550632911392405,
          0.2221518987341772,
          0.1550632911392405,
          0.2221518987341772,
          0.1550632911392405,
          0.21772151898734177,
          0.16139240506329117,
          0.21772151898734177,
          0.16139240506329117,
          0.21772151898734177,
          0.16139240506329117,
          0.21772151898734177,
          0.16139240506329117,
          0.23670886075949368,
          0.2037974683544304,
          0.23670886075949368,
          0.2037974683544304,
          0.225,
          0.18544303797468356,
          0.27563291139240503,
          0.19050632911392404,
          0.22721518987341774,
          0.17563291139240506,
          0.22721518987341774,
          0.17563291139240506,
          0.22721518987341774,
          0.17563291139240506,
          0.22721518987341774,
          0.17563291139240506,
          0.2221518987341772,
          0.1550632911392405,
          0.2221518987341772,
          0.1550632911392405,
          0.2221518987341772,
          0.1550632911392405,
          0.2221518987341772,
          0.1550632911392405,
          0.21772151898734177,
          0.16139240506329117,
          0.21772151898734177,
          0.16139240506329117,
          0.21772151898734177,
          0.16139240506329117,
          0.21772151898734177,
          0.16139240506329117,
          0.25316455696202533,
          0.18544303797468356,
          0.25316455696202533,
          0.18544303797468356,
          0.26613924050632914,
          0.17626582278481012,
          0.2680379746835443,
          0.20822784810126582,
          0.23544303797468355,
          0.1768987341772152,
          0.23544303797468355,
          0.1768987341772152,
          0.23544303797468355,
          0.1768987341772152,
          0.23544303797468355,
          0.1768987341772152,
          0.30253164556962026,
          0.16740506329113924,
          0.30253164556962026,
          0.16740506329113924,
          0.30253164556962026,
          0.16740506329113924,
          0.30253164556962026,
          0.16740506329113924,
          0.20822784810126582,
          0.16740506329113924,
          0.20822784810126582,
          0.16740506329113924,
          0.20822784810126582,
          0.16740506329113924,
          0.20822784810126582,
          0.16740506329113924,
          0.25316455696202533,
          0.18544303797468356,
          0.25316455696202533,
          0.18544303797468356,
          0.26613924050632914,
          0.17626582278481012,
          0.2680379746835443,
          0.20822784810126582,
          0.23544303797468355,
          0.1768987341772152,
          0.23544303797468355,
          0.1768987341772152,
          0.23544303797468355,
          0.1768987341772152,
          0.23544303797468355,
          0.1768987341772152,
          0.30253164556962026,
          0.16740506329113924,
          0.30253164556962026,
          0.16740506329113924,
          0.30253164556962026,
          0.16740506329113924,
          0.30253164556962026,
          0.16740506329113924,
          0.20822784810126582,
          0.16740506329113924,
          0.20822784810126582,
          0.16740506329113924,
          0.20822784810126582,
          0.16740506329113924,
          0.20822784810126582,
          0.16740506329113924,
          0.17373417721518986,
          0.1509493670886076,
          0.17373417721518986,
          0.1509493670886076,
          0.1889240506329114,
          0.1699367088607595,
          0.1879746835443038,
          0.16677215189873418,
          0.175,
          0.14746835443037973,
          0.175,
          0.14746835443037973,
          0.175,
          0.14746835443037973,
          0.175,
          0.14746835443037973,
          0.18702531645569617,
          0.15126582278481013,
          0.18702531645569617,
          0.15126582278481013,
          0.18702531645569617,
          0.15126582278481013,
          0.18702531645569617,
          0.15126582278481013,
          0.17468354430379746,
          0.1642405063291139,
          0.17468354430379746,
          0.1642405063291139,
          0.17468354430379746,
          0.1642405063291139,
          0.17468354430379746,
          0.1642405063291139,
          0.17373417721518986,
          0.1509493670886076,
          0.17373417721518986,
          0.1509493670886076,
          0.1889240506329114,
          0.1699367088607595,
          0.1879746835443038,
          0.16677215189873418,
          0.175,
          0.14746835443037973,
          0.175,
          0.14746835443037973,
          0.175,
          0.14746835443037973,
          0.175,
          0.14746835443037973,
          0.18702531645569617,
          0.15126582278481013,
          0.18702531645569617,
          0.15126582278481013,
          0.18702531645569617,
          0.15126582278481013,
          0.18702531645569617,
          0.15126582278481013,
          0.17468354430379746,
          0.1642405063291139,
          0.17468354430379746,
          0.1642405063291139,
          0.17468354430379746,
          0.1642405063291139,
          0.17468354430379746,
          0.1642405063291139,
          0.19272151898734177,
          0.18829113924050633,
          0.19272151898734177,
          0.18829113924050633,
          0.21867088607594937,
          0.17341772151898732,
          0.2794303797468355,
          0.16835443037974684,
          0.2806962025316456,
          0.15854430379746837,
          0.2806962025316456,
          0.15854430379746837,
          0.2806962025316456,
          0.15854430379746837,
          0.2806962025316456,
          0.15854430379746837,
          0.245253164556962,
          0.18322784810126583,
          0.245253164556962,
          0.18322784810126583,
          0.245253164556962,
          0.18322784810126583,
          0.245253164556962,
          0.18322784810126583,
          0.2484177215189874,
          0.17468354430379748,
          0.2484177215189874,
          0.17468354430379748,
          0.2484177215189874,
          0.17468354430379748,
          0.2484177215189874,
          0.17468354430379748,
          0.19272151898734177,
          0.18829113924050633,
          0.19272151898734177,
          0.18829113924050633,
          0.21867088607594937,
          0.17341772151898732,
          0.2794303797468355,
          0.16835443037974684,
          0.2806962025316456,
          0.15854430379746837,
          0.2806962025316456,
          0.15854430379746837,
          0.2806962025316456,
          0.15854430379746837,
          0.2806962025316456,
          0.15854430379746837,
          0.245253164556962,
          0.18322784810126583,
          0.245253164556962,
          0.18322784810126583,
          0.245253164556962,
          0.18322784810126583,
          0.245253164556962,
          0.18322784810126583,
          0.2484177215189874,
          0.17468354430379748,
          0.2484177215189874,
          0.17468354430379748,
          0.2484177215189874,
          0.17468354430379748,
          0.2484177215189874,
          0.17468354430379748,
          0.23765822784810128,
          0.1939873417721519,
          0.23765822784810128,
          0.1939873417721519,
          0.2683544303797468,
          0.1879746835443038,
          0.2617088607594936,
          0.1892405063291139,
          0.22658227848101262,
          0.17563291139240506,
          0.22658227848101262,
          0.17563291139240506,
          0.22658227848101262,
          0.17563291139240506,
          0.22658227848101262,
          0.17563291139240506,
          0.2759493670886076,
          0.1550632911392405,
          0.2759493670886076,
          0.1550632911392405,
          0.2759493670886076,
          0.1550632911392405,
          0.2759493670886076,
          0.1550632911392405,
          0.2379746835443038,
          0.15379746835443037,
          0.2379746835443038,
          0.15379746835443037,
          0.2379746835443038,
          0.15379746835443037,
          0.2379746835443038,
          0.15379746835443037,
          0.23765822784810128,
          0.1939873417721519,
          0.23765822784810128,
          0.1939873417721519,
          0.2683544303797468,
          0.1879746835443038,
          0.2617088607594936,
          0.1892405063291139,
          0.22658227848101262,
          0.17563291139240506,
          0.22658227848101262,
          0.17563291139240506,
          0.22658227848101262,
          0.17563291139240506,
          0.22658227848101262,
          0.17563291139240506,
          0.2759493670886076,
          0.1550632911392405,
          0.2759493670886076,
          0.1550632911392405,
          0.2759493670886076,
          0.1550632911392405,
          0.2759493670886076,
          0.1550632911392405,
          0.2379746835443038,
          0.15379746835443037,
          0.2379746835443038,
          0.15379746835443037,
          0.2379746835443038,
          0.15379746835443037,
          0.2379746835443038,
          0.15379746835443037,
          0.2708860759493671,
          0.18892405063291137,
          0.2708860759493671,
          0.18892405063291137,
          0.2528481012658228,
          0.16550632911392404,
          0.2863924050632911,
          0.195253164556962,
          0.275,
          0.18227848101265823,
          0.275,
          0.18227848101265823,
          0.275,
          0.18227848101265823,
          0.275,
          0.18227848101265823,
          0.22943037974683547,
          0.16772151898734178,
          0.22943037974683547,
          0.16772151898734178,
          0.22943037974683547,
          0.16772151898734178,
          0.22943037974683547,
          0.16772151898734178,
          0.2379746835443038,
          0.15348101265822786,
          0.2379746835443038,
          0.15348101265822786,
          0.2379746835443038,
          0.15348101265822786,
          0.2379746835443038,
          0.15348101265822786,
          0.2708860759493671,
          0.18892405063291137,
          0.2708860759493671,
          0.18892405063291137,
          0.2528481012658228,
          0.16550632911392404,
          0.2863924050632911,
          0.195253164556962,
          0.275,
          0.18227848101265823,
          0.275,
          0.18227848101265823,
          0.275,
          0.18227848101265823,
          0.275,
          0.18227848101265823,
          0.22943037974683547,
          0.16772151898734178,
          0.22943037974683547,
          0.16772151898734178,
          0.22943037974683547,
          0.16772151898734178,
          0.22943037974683547,
          0.16772151898734178,
          0.2379746835443038,
          0.15348101265822786,
          0.2379746835443038,
          0.15348101265822786,
          0.2379746835443038,
          0.15348101265822786,
          0.2379746835443038,
          0.15348101265822786
         ],
         "yaxis": "y"
        }
       ],
       "layout": {
        "legend": {
         "tracegroupgap": 0
        },
        "template": {
         "data": {
          "bar": [
           {
            "error_x": {
             "color": "#2a3f5f"
            },
            "error_y": {
             "color": "#2a3f5f"
            },
            "marker": {
             "line": {
              "color": "#E5ECF6",
              "width": 0.5
             },
             "pattern": {
              "fillmode": "overlay",
              "size": 10,
              "solidity": 0.2
             }
            },
            "type": "bar"
           }
          ],
          "barpolar": [
           {
            "marker": {
             "line": {
              "color": "#E5ECF6",
              "width": 0.5
             },
             "pattern": {
              "fillmode": "overlay",
              "size": 10,
              "solidity": 0.2
             }
            },
            "type": "barpolar"
           }
          ],
          "carpet": [
           {
            "aaxis": {
             "endlinecolor": "#2a3f5f",
             "gridcolor": "white",
             "linecolor": "white",
             "minorgridcolor": "white",
             "startlinecolor": "#2a3f5f"
            },
            "baxis": {
             "endlinecolor": "#2a3f5f",
             "gridcolor": "white",
             "linecolor": "white",
             "minorgridcolor": "white",
             "startlinecolor": "#2a3f5f"
            },
            "type": "carpet"
           }
          ],
          "choropleth": [
           {
            "colorbar": {
             "outlinewidth": 0,
             "ticks": ""
            },
            "type": "choropleth"
           }
          ],
          "contour": [
           {
            "colorbar": {
             "outlinewidth": 0,
             "ticks": ""
            },
            "colorscale": [
             [
              0,
              "#0d0887"
             ],
             [
              0.1111111111111111,
              "#46039f"
             ],
             [
              0.2222222222222222,
              "#7201a8"
             ],
             [
              0.3333333333333333,
              "#9c179e"
             ],
             [
              0.4444444444444444,
              "#bd3786"
             ],
             [
              0.5555555555555556,
              "#d8576b"
             ],
             [
              0.6666666666666666,
              "#ed7953"
             ],
             [
              0.7777777777777778,
              "#fb9f3a"
             ],
             [
              0.8888888888888888,
              "#fdca26"
             ],
             [
              1,
              "#f0f921"
             ]
            ],
            "type": "contour"
           }
          ],
          "contourcarpet": [
           {
            "colorbar": {
             "outlinewidth": 0,
             "ticks": ""
            },
            "type": "contourcarpet"
           }
          ],
          "heatmap": [
           {
            "colorbar": {
             "outlinewidth": 0,
             "ticks": ""
            },
            "colorscale": [
             [
              0,
              "#0d0887"
             ],
             [
              0.1111111111111111,
              "#46039f"
             ],
             [
              0.2222222222222222,
              "#7201a8"
             ],
             [
              0.3333333333333333,
              "#9c179e"
             ],
             [
              0.4444444444444444,
              "#bd3786"
             ],
             [
              0.5555555555555556,
              "#d8576b"
             ],
             [
              0.6666666666666666,
              "#ed7953"
             ],
             [
              0.7777777777777778,
              "#fb9f3a"
             ],
             [
              0.8888888888888888,
              "#fdca26"
             ],
             [
              1,
              "#f0f921"
             ]
            ],
            "type": "heatmap"
           }
          ],
          "heatmapgl": [
           {
            "colorbar": {
             "outlinewidth": 0,
             "ticks": ""
            },
            "colorscale": [
             [
              0,
              "#0d0887"
             ],
             [
              0.1111111111111111,
              "#46039f"
             ],
             [
              0.2222222222222222,
              "#7201a8"
             ],
             [
              0.3333333333333333,
              "#9c179e"
             ],
             [
              0.4444444444444444,
              "#bd3786"
             ],
             [
              0.5555555555555556,
              "#d8576b"
             ],
             [
              0.6666666666666666,
              "#ed7953"
             ],
             [
              0.7777777777777778,
              "#fb9f3a"
             ],
             [
              0.8888888888888888,
              "#fdca26"
             ],
             [
              1,
              "#f0f921"
             ]
            ],
            "type": "heatmapgl"
           }
          ],
          "histogram": [
           {
            "marker": {
             "pattern": {
              "fillmode": "overlay",
              "size": 10,
              "solidity": 0.2
             }
            },
            "type": "histogram"
           }
          ],
          "histogram2d": [
           {
            "colorbar": {
             "outlinewidth": 0,
             "ticks": ""
            },
            "colorscale": [
             [
              0,
              "#0d0887"
             ],
             [
              0.1111111111111111,
              "#46039f"
             ],
             [
              0.2222222222222222,
              "#7201a8"
             ],
             [
              0.3333333333333333,
              "#9c179e"
             ],
             [
              0.4444444444444444,
              "#bd3786"
             ],
             [
              0.5555555555555556,
              "#d8576b"
             ],
             [
              0.6666666666666666,
              "#ed7953"
             ],
             [
              0.7777777777777778,
              "#fb9f3a"
             ],
             [
              0.8888888888888888,
              "#fdca26"
             ],
             [
              1,
              "#f0f921"
             ]
            ],
            "type": "histogram2d"
           }
          ],
          "histogram2dcontour": [
           {
            "colorbar": {
             "outlinewidth": 0,
             "ticks": ""
            },
            "colorscale": [
             [
              0,
              "#0d0887"
             ],
             [
              0.1111111111111111,
              "#46039f"
             ],
             [
              0.2222222222222222,
              "#7201a8"
             ],
             [
              0.3333333333333333,
              "#9c179e"
             ],
             [
              0.4444444444444444,
              "#bd3786"
             ],
             [
              0.5555555555555556,
              "#d8576b"
             ],
             [
              0.6666666666666666,
              "#ed7953"
             ],
             [
              0.7777777777777778,
              "#fb9f3a"
             ],
             [
              0.8888888888888888,
              "#fdca26"
             ],
             [
              1,
              "#f0f921"
             ]
            ],
            "type": "histogram2dcontour"
           }
          ],
          "mesh3d": [
           {
            "colorbar": {
             "outlinewidth": 0,
             "ticks": ""
            },
            "type": "mesh3d"
           }
          ],
          "parcoords": [
           {
            "line": {
             "colorbar": {
              "outlinewidth": 0,
              "ticks": ""
             }
            },
            "type": "parcoords"
           }
          ],
          "pie": [
           {
            "automargin": true,
            "type": "pie"
           }
          ],
          "scatter": [
           {
            "fillpattern": {
             "fillmode": "overlay",
             "size": 10,
             "solidity": 0.2
            },
            "type": "scatter"
           }
          ],
          "scatter3d": [
           {
            "line": {
             "colorbar": {
              "outlinewidth": 0,
              "ticks": ""
             }
            },
            "marker": {
             "colorbar": {
              "outlinewidth": 0,
              "ticks": ""
             }
            },
            "type": "scatter3d"
           }
          ],
          "scattercarpet": [
           {
            "marker": {
             "colorbar": {
              "outlinewidth": 0,
              "ticks": ""
             }
            },
            "type": "scattercarpet"
           }
          ],
          "scattergeo": [
           {
            "marker": {
             "colorbar": {
              "outlinewidth": 0,
              "ticks": ""
             }
            },
            "type": "scattergeo"
           }
          ],
          "scattergl": [
           {
            "marker": {
             "colorbar": {
              "outlinewidth": 0,
              "ticks": ""
             }
            },
            "type": "scattergl"
           }
          ],
          "scattermapbox": [
           {
            "marker": {
             "colorbar": {
              "outlinewidth": 0,
              "ticks": ""
             }
            },
            "type": "scattermapbox"
           }
          ],
          "scatterpolar": [
           {
            "marker": {
             "colorbar": {
              "outlinewidth": 0,
              "ticks": ""
             }
            },
            "type": "scatterpolar"
           }
          ],
          "scatterpolargl": [
           {
            "marker": {
             "colorbar": {
              "outlinewidth": 0,
              "ticks": ""
             }
            },
            "type": "scatterpolargl"
           }
          ],
          "scatterternary": [
           {
            "marker": {
             "colorbar": {
              "outlinewidth": 0,
              "ticks": ""
             }
            },
            "type": "scatterternary"
           }
          ],
          "surface": [
           {
            "colorbar": {
             "outlinewidth": 0,
             "ticks": ""
            },
            "colorscale": [
             [
              0,
              "#0d0887"
             ],
             [
              0.1111111111111111,
              "#46039f"
             ],
             [
              0.2222222222222222,
              "#7201a8"
             ],
             [
              0.3333333333333333,
              "#9c179e"
             ],
             [
              0.4444444444444444,
              "#bd3786"
             ],
             [
              0.5555555555555556,
              "#d8576b"
             ],
             [
              0.6666666666666666,
              "#ed7953"
             ],
             [
              0.7777777777777778,
              "#fb9f3a"
             ],
             [
              0.8888888888888888,
              "#fdca26"
             ],
             [
              1,
              "#f0f921"
             ]
            ],
            "type": "surface"
           }
          ],
          "table": [
           {
            "cells": {
             "fill": {
              "color": "#EBF0F8"
             },
             "line": {
              "color": "white"
             }
            },
            "header": {
             "fill": {
              "color": "#C8D4E3"
             },
             "line": {
              "color": "white"
             }
            },
            "type": "table"
           }
          ]
         },
         "layout": {
          "annotationdefaults": {
           "arrowcolor": "#2a3f5f",
           "arrowhead": 0,
           "arrowwidth": 1
          },
          "autotypenumbers": "strict",
          "coloraxis": {
           "colorbar": {
            "outlinewidth": 0,
            "ticks": ""
           }
          },
          "colorscale": {
           "diverging": [
            [
             0,
             "#8e0152"
            ],
            [
             0.1,
             "#c51b7d"
            ],
            [
             0.2,
             "#de77ae"
            ],
            [
             0.3,
             "#f1b6da"
            ],
            [
             0.4,
             "#fde0ef"
            ],
            [
             0.5,
             "#f7f7f7"
            ],
            [
             0.6,
             "#e6f5d0"
            ],
            [
             0.7,
             "#b8e186"
            ],
            [
             0.8,
             "#7fbc41"
            ],
            [
             0.9,
             "#4d9221"
            ],
            [
             1,
             "#276419"
            ]
           ],
           "sequential": [
            [
             0,
             "#0d0887"
            ],
            [
             0.1111111111111111,
             "#46039f"
            ],
            [
             0.2222222222222222,
             "#7201a8"
            ],
            [
             0.3333333333333333,
             "#9c179e"
            ],
            [
             0.4444444444444444,
             "#bd3786"
            ],
            [
             0.5555555555555556,
             "#d8576b"
            ],
            [
             0.6666666666666666,
             "#ed7953"
            ],
            [
             0.7777777777777778,
             "#fb9f3a"
            ],
            [
             0.8888888888888888,
             "#fdca26"
            ],
            [
             1,
             "#f0f921"
            ]
           ],
           "sequentialminus": [
            [
             0,
             "#0d0887"
            ],
            [
             0.1111111111111111,
             "#46039f"
            ],
            [
             0.2222222222222222,
             "#7201a8"
            ],
            [
             0.3333333333333333,
             "#9c179e"
            ],
            [
             0.4444444444444444,
             "#bd3786"
            ],
            [
             0.5555555555555556,
             "#d8576b"
            ],
            [
             0.6666666666666666,
             "#ed7953"
            ],
            [
             0.7777777777777778,
             "#fb9f3a"
            ],
            [
             0.8888888888888888,
             "#fdca26"
            ],
            [
             1,
             "#f0f921"
            ]
           ]
          },
          "colorway": [
           "#636efa",
           "#EF553B",
           "#00cc96",
           "#ab63fa",
           "#FFA15A",
           "#19d3f3",
           "#FF6692",
           "#B6E880",
           "#FF97FF",
           "#FECB52"
          ],
          "font": {
           "color": "#2a3f5f"
          },
          "geo": {
           "bgcolor": "white",
           "lakecolor": "white",
           "landcolor": "#E5ECF6",
           "showlakes": true,
           "showland": true,
           "subunitcolor": "white"
          },
          "hoverlabel": {
           "align": "left"
          },
          "hovermode": "closest",
          "mapbox": {
           "style": "light"
          },
          "paper_bgcolor": "white",
          "plot_bgcolor": "#E5ECF6",
          "polar": {
           "angularaxis": {
            "gridcolor": "white",
            "linecolor": "white",
            "ticks": ""
           },
           "bgcolor": "#E5ECF6",
           "radialaxis": {
            "gridcolor": "white",
            "linecolor": "white",
            "ticks": ""
           }
          },
          "scene": {
           "xaxis": {
            "backgroundcolor": "#E5ECF6",
            "gridcolor": "white",
            "gridwidth": 2,
            "linecolor": "white",
            "showbackground": true,
            "ticks": "",
            "zerolinecolor": "white"
           },
           "yaxis": {
            "backgroundcolor": "#E5ECF6",
            "gridcolor": "white",
            "gridwidth": 2,
            "linecolor": "white",
            "showbackground": true,
            "ticks": "",
            "zerolinecolor": "white"
           },
           "zaxis": {
            "backgroundcolor": "#E5ECF6",
            "gridcolor": "white",
            "gridwidth": 2,
            "linecolor": "white",
            "showbackground": true,
            "ticks": "",
            "zerolinecolor": "white"
           }
          },
          "shapedefaults": {
           "line": {
            "color": "#2a3f5f"
           }
          },
          "ternary": {
           "aaxis": {
            "gridcolor": "white",
            "linecolor": "white",
            "ticks": ""
           },
           "baxis": {
            "gridcolor": "white",
            "linecolor": "white",
            "ticks": ""
           },
           "bgcolor": "#E5ECF6",
           "caxis": {
            "gridcolor": "white",
            "linecolor": "white",
            "ticks": ""
           }
          },
          "title": {
           "x": 0.05
          },
          "xaxis": {
           "automargin": true,
           "gridcolor": "white",
           "linecolor": "white",
           "ticks": "",
           "title": {
            "standoff": 15
           },
           "zerolinecolor": "white",
           "zerolinewidth": 2
          },
          "yaxis": {
           "automargin": true,
           "gridcolor": "white",
           "linecolor": "white",
           "ticks": "",
           "title": {
            "standoff": 15
           },
           "zerolinecolor": "white",
           "zerolinewidth": 2
          }
         }
        },
        "title": {
         "text": "Min. Samples Split vs. Recall"
        },
        "xaxis": {
         "anchor": "y",
         "domain": [
          0,
          1
         ],
         "title": {
          "text": "param_min_samples_split"
         }
        },
        "yaxis": {
         "anchor": "x",
         "domain": [
          0,
          1
         ],
         "title": {
          "text": "mean_test_score"
         }
        }
       }
      }
     },
     "metadata": {},
     "output_type": "display_data"
    }
   ],
   "source": [
    "px.scatter(\n",
    "    df_tree_search_cv,\n",
    "    x=\"param_min_samples_split\",\n",
    "    y=\"mean_test_score\",\n",
    "    title=\"Min. Samples Split vs. Recall\",\n",
    ")"
   ]
  },
  {
   "cell_type": "markdown",
   "metadata": {},
   "source": [
    "### Logistic Regression\n"
   ]
  },
  {
   "cell_type": "code",
   "execution_count": 17,
   "metadata": {},
   "outputs": [
    {
     "data": {
      "text/html": [
       "<style>#sk-container-id-2 {\n",
       "  /* Definition of color scheme common for light and dark mode */\n",
       "  --sklearn-color-text: black;\n",
       "  --sklearn-color-line: gray;\n",
       "  /* Definition of color scheme for unfitted estimators */\n",
       "  --sklearn-color-unfitted-level-0: #fff5e6;\n",
       "  --sklearn-color-unfitted-level-1: #f6e4d2;\n",
       "  --sklearn-color-unfitted-level-2: #ffe0b3;\n",
       "  --sklearn-color-unfitted-level-3: chocolate;\n",
       "  /* Definition of color scheme for fitted estimators */\n",
       "  --sklearn-color-fitted-level-0: #f0f8ff;\n",
       "  --sklearn-color-fitted-level-1: #d4ebff;\n",
       "  --sklearn-color-fitted-level-2: #b3dbfd;\n",
       "  --sklearn-color-fitted-level-3: cornflowerblue;\n",
       "\n",
       "  /* Specific color for light theme */\n",
       "  --sklearn-color-text-on-default-background: var(--sg-text-color, var(--theme-code-foreground, var(--jp-content-font-color1, black)));\n",
       "  --sklearn-color-background: var(--sg-background-color, var(--theme-background, var(--jp-layout-color0, white)));\n",
       "  --sklearn-color-border-box: var(--sg-text-color, var(--theme-code-foreground, var(--jp-content-font-color1, black)));\n",
       "  --sklearn-color-icon: #696969;\n",
       "\n",
       "  @media (prefers-color-scheme: dark) {\n",
       "    /* Redefinition of color scheme for dark theme */\n",
       "    --sklearn-color-text-on-default-background: var(--sg-text-color, var(--theme-code-foreground, var(--jp-content-font-color1, white)));\n",
       "    --sklearn-color-background: var(--sg-background-color, var(--theme-background, var(--jp-layout-color0, #111)));\n",
       "    --sklearn-color-border-box: var(--sg-text-color, var(--theme-code-foreground, var(--jp-content-font-color1, white)));\n",
       "    --sklearn-color-icon: #878787;\n",
       "  }\n",
       "}\n",
       "\n",
       "#sk-container-id-2 {\n",
       "  color: var(--sklearn-color-text);\n",
       "}\n",
       "\n",
       "#sk-container-id-2 pre {\n",
       "  padding: 0;\n",
       "}\n",
       "\n",
       "#sk-container-id-2 input.sk-hidden--visually {\n",
       "  border: 0;\n",
       "  clip: rect(1px 1px 1px 1px);\n",
       "  clip: rect(1px, 1px, 1px, 1px);\n",
       "  height: 1px;\n",
       "  margin: -1px;\n",
       "  overflow: hidden;\n",
       "  padding: 0;\n",
       "  position: absolute;\n",
       "  width: 1px;\n",
       "}\n",
       "\n",
       "#sk-container-id-2 div.sk-dashed-wrapped {\n",
       "  border: 1px dashed var(--sklearn-color-line);\n",
       "  margin: 0 0.4em 0.5em 0.4em;\n",
       "  box-sizing: border-box;\n",
       "  padding-bottom: 0.4em;\n",
       "  background-color: var(--sklearn-color-background);\n",
       "}\n",
       "\n",
       "#sk-container-id-2 div.sk-container {\n",
       "  /* jupyter's `normalize.less` sets `[hidden] { display: none; }`\n",
       "     but bootstrap.min.css set `[hidden] { display: none !important; }`\n",
       "     so we also need the `!important` here to be able to override the\n",
       "     default hidden behavior on the sphinx rendered scikit-learn.org.\n",
       "     See: https://github.com/scikit-learn/scikit-learn/issues/21755 */\n",
       "  display: inline-block !important;\n",
       "  position: relative;\n",
       "}\n",
       "\n",
       "#sk-container-id-2 div.sk-text-repr-fallback {\n",
       "  display: none;\n",
       "}\n",
       "\n",
       "div.sk-parallel-item,\n",
       "div.sk-serial,\n",
       "div.sk-item {\n",
       "  /* draw centered vertical line to link estimators */\n",
       "  background-image: linear-gradient(var(--sklearn-color-text-on-default-background), var(--sklearn-color-text-on-default-background));\n",
       "  background-size: 2px 100%;\n",
       "  background-repeat: no-repeat;\n",
       "  background-position: center center;\n",
       "}\n",
       "\n",
       "/* Parallel-specific style estimator block */\n",
       "\n",
       "#sk-container-id-2 div.sk-parallel-item::after {\n",
       "  content: \"\";\n",
       "  width: 100%;\n",
       "  border-bottom: 2px solid var(--sklearn-color-text-on-default-background);\n",
       "  flex-grow: 1;\n",
       "}\n",
       "\n",
       "#sk-container-id-2 div.sk-parallel {\n",
       "  display: flex;\n",
       "  align-items: stretch;\n",
       "  justify-content: center;\n",
       "  background-color: var(--sklearn-color-background);\n",
       "  position: relative;\n",
       "}\n",
       "\n",
       "#sk-container-id-2 div.sk-parallel-item {\n",
       "  display: flex;\n",
       "  flex-direction: column;\n",
       "}\n",
       "\n",
       "#sk-container-id-2 div.sk-parallel-item:first-child::after {\n",
       "  align-self: flex-end;\n",
       "  width: 50%;\n",
       "}\n",
       "\n",
       "#sk-container-id-2 div.sk-parallel-item:last-child::after {\n",
       "  align-self: flex-start;\n",
       "  width: 50%;\n",
       "}\n",
       "\n",
       "#sk-container-id-2 div.sk-parallel-item:only-child::after {\n",
       "  width: 0;\n",
       "}\n",
       "\n",
       "/* Serial-specific style estimator block */\n",
       "\n",
       "#sk-container-id-2 div.sk-serial {\n",
       "  display: flex;\n",
       "  flex-direction: column;\n",
       "  align-items: center;\n",
       "  background-color: var(--sklearn-color-background);\n",
       "  padding-right: 1em;\n",
       "  padding-left: 1em;\n",
       "}\n",
       "\n",
       "\n",
       "/* Toggleable style: style used for estimator/Pipeline/ColumnTransformer box that is\n",
       "clickable and can be expanded/collapsed.\n",
       "- Pipeline and ColumnTransformer use this feature and define the default style\n",
       "- Estimators will overwrite some part of the style using the `sk-estimator` class\n",
       "*/\n",
       "\n",
       "/* Pipeline and ColumnTransformer style (default) */\n",
       "\n",
       "#sk-container-id-2 div.sk-toggleable {\n",
       "  /* Default theme specific background. It is overwritten whether we have a\n",
       "  specific estimator or a Pipeline/ColumnTransformer */\n",
       "  background-color: var(--sklearn-color-background);\n",
       "}\n",
       "\n",
       "/* Toggleable label */\n",
       "#sk-container-id-2 label.sk-toggleable__label {\n",
       "  cursor: pointer;\n",
       "  display: block;\n",
       "  width: 100%;\n",
       "  margin-bottom: 0;\n",
       "  padding: 0.5em;\n",
       "  box-sizing: border-box;\n",
       "  text-align: center;\n",
       "}\n",
       "\n",
       "#sk-container-id-2 label.sk-toggleable__label-arrow:before {\n",
       "  /* Arrow on the left of the label */\n",
       "  content: \"▸\";\n",
       "  float: left;\n",
       "  margin-right: 0.25em;\n",
       "  color: var(--sklearn-color-icon);\n",
       "}\n",
       "\n",
       "#sk-container-id-2 label.sk-toggleable__label-arrow:hover:before {\n",
       "  color: var(--sklearn-color-text);\n",
       "}\n",
       "\n",
       "/* Toggleable content - dropdown */\n",
       "\n",
       "#sk-container-id-2 div.sk-toggleable__content {\n",
       "  max-height: 0;\n",
       "  max-width: 0;\n",
       "  overflow: hidden;\n",
       "  text-align: left;\n",
       "  /* unfitted */\n",
       "  background-color: var(--sklearn-color-unfitted-level-0);\n",
       "}\n",
       "\n",
       "#sk-container-id-2 div.sk-toggleable__content.fitted {\n",
       "  /* fitted */\n",
       "  background-color: var(--sklearn-color-fitted-level-0);\n",
       "}\n",
       "\n",
       "#sk-container-id-2 div.sk-toggleable__content pre {\n",
       "  margin: 0.2em;\n",
       "  border-radius: 0.25em;\n",
       "  color: var(--sklearn-color-text);\n",
       "  /* unfitted */\n",
       "  background-color: var(--sklearn-color-unfitted-level-0);\n",
       "}\n",
       "\n",
       "#sk-container-id-2 div.sk-toggleable__content.fitted pre {\n",
       "  /* unfitted */\n",
       "  background-color: var(--sklearn-color-fitted-level-0);\n",
       "}\n",
       "\n",
       "#sk-container-id-2 input.sk-toggleable__control:checked~div.sk-toggleable__content {\n",
       "  /* Expand drop-down */\n",
       "  max-height: 200px;\n",
       "  max-width: 100%;\n",
       "  overflow: auto;\n",
       "}\n",
       "\n",
       "#sk-container-id-2 input.sk-toggleable__control:checked~label.sk-toggleable__label-arrow:before {\n",
       "  content: \"▾\";\n",
       "}\n",
       "\n",
       "/* Pipeline/ColumnTransformer-specific style */\n",
       "\n",
       "#sk-container-id-2 div.sk-label input.sk-toggleable__control:checked~label.sk-toggleable__label {\n",
       "  color: var(--sklearn-color-text);\n",
       "  background-color: var(--sklearn-color-unfitted-level-2);\n",
       "}\n",
       "\n",
       "#sk-container-id-2 div.sk-label.fitted input.sk-toggleable__control:checked~label.sk-toggleable__label {\n",
       "  background-color: var(--sklearn-color-fitted-level-2);\n",
       "}\n",
       "\n",
       "/* Estimator-specific style */\n",
       "\n",
       "/* Colorize estimator box */\n",
       "#sk-container-id-2 div.sk-estimator input.sk-toggleable__control:checked~label.sk-toggleable__label {\n",
       "  /* unfitted */\n",
       "  background-color: var(--sklearn-color-unfitted-level-2);\n",
       "}\n",
       "\n",
       "#sk-container-id-2 div.sk-estimator.fitted input.sk-toggleable__control:checked~label.sk-toggleable__label {\n",
       "  /* fitted */\n",
       "  background-color: var(--sklearn-color-fitted-level-2);\n",
       "}\n",
       "\n",
       "#sk-container-id-2 div.sk-label label.sk-toggleable__label,\n",
       "#sk-container-id-2 div.sk-label label {\n",
       "  /* The background is the default theme color */\n",
       "  color: var(--sklearn-color-text-on-default-background);\n",
       "}\n",
       "\n",
       "/* On hover, darken the color of the background */\n",
       "#sk-container-id-2 div.sk-label:hover label.sk-toggleable__label {\n",
       "  color: var(--sklearn-color-text);\n",
       "  background-color: var(--sklearn-color-unfitted-level-2);\n",
       "}\n",
       "\n",
       "/* Label box, darken color on hover, fitted */\n",
       "#sk-container-id-2 div.sk-label.fitted:hover label.sk-toggleable__label.fitted {\n",
       "  color: var(--sklearn-color-text);\n",
       "  background-color: var(--sklearn-color-fitted-level-2);\n",
       "}\n",
       "\n",
       "/* Estimator label */\n",
       "\n",
       "#sk-container-id-2 div.sk-label label {\n",
       "  font-family: monospace;\n",
       "  font-weight: bold;\n",
       "  display: inline-block;\n",
       "  line-height: 1.2em;\n",
       "}\n",
       "\n",
       "#sk-container-id-2 div.sk-label-container {\n",
       "  text-align: center;\n",
       "}\n",
       "\n",
       "/* Estimator-specific */\n",
       "#sk-container-id-2 div.sk-estimator {\n",
       "  font-family: monospace;\n",
       "  border: 1px dotted var(--sklearn-color-border-box);\n",
       "  border-radius: 0.25em;\n",
       "  box-sizing: border-box;\n",
       "  margin-bottom: 0.5em;\n",
       "  /* unfitted */\n",
       "  background-color: var(--sklearn-color-unfitted-level-0);\n",
       "}\n",
       "\n",
       "#sk-container-id-2 div.sk-estimator.fitted {\n",
       "  /* fitted */\n",
       "  background-color: var(--sklearn-color-fitted-level-0);\n",
       "}\n",
       "\n",
       "/* on hover */\n",
       "#sk-container-id-2 div.sk-estimator:hover {\n",
       "  /* unfitted */\n",
       "  background-color: var(--sklearn-color-unfitted-level-2);\n",
       "}\n",
       "\n",
       "#sk-container-id-2 div.sk-estimator.fitted:hover {\n",
       "  /* fitted */\n",
       "  background-color: var(--sklearn-color-fitted-level-2);\n",
       "}\n",
       "\n",
       "/* Specification for estimator info (e.g. \"i\" and \"?\") */\n",
       "\n",
       "/* Common style for \"i\" and \"?\" */\n",
       "\n",
       ".sk-estimator-doc-link,\n",
       "a:link.sk-estimator-doc-link,\n",
       "a:visited.sk-estimator-doc-link {\n",
       "  float: right;\n",
       "  font-size: smaller;\n",
       "  line-height: 1em;\n",
       "  font-family: monospace;\n",
       "  background-color: var(--sklearn-color-background);\n",
       "  border-radius: 1em;\n",
       "  height: 1em;\n",
       "  width: 1em;\n",
       "  text-decoration: none !important;\n",
       "  margin-left: 1ex;\n",
       "  /* unfitted */\n",
       "  border: var(--sklearn-color-unfitted-level-1) 1pt solid;\n",
       "  color: var(--sklearn-color-unfitted-level-1);\n",
       "}\n",
       "\n",
       ".sk-estimator-doc-link.fitted,\n",
       "a:link.sk-estimator-doc-link.fitted,\n",
       "a:visited.sk-estimator-doc-link.fitted {\n",
       "  /* fitted */\n",
       "  border: var(--sklearn-color-fitted-level-1) 1pt solid;\n",
       "  color: var(--sklearn-color-fitted-level-1);\n",
       "}\n",
       "\n",
       "/* On hover */\n",
       "div.sk-estimator:hover .sk-estimator-doc-link:hover,\n",
       ".sk-estimator-doc-link:hover,\n",
       "div.sk-label-container:hover .sk-estimator-doc-link:hover,\n",
       ".sk-estimator-doc-link:hover {\n",
       "  /* unfitted */\n",
       "  background-color: var(--sklearn-color-unfitted-level-3);\n",
       "  color: var(--sklearn-color-background);\n",
       "  text-decoration: none;\n",
       "}\n",
       "\n",
       "div.sk-estimator.fitted:hover .sk-estimator-doc-link.fitted:hover,\n",
       ".sk-estimator-doc-link.fitted:hover,\n",
       "div.sk-label-container:hover .sk-estimator-doc-link.fitted:hover,\n",
       ".sk-estimator-doc-link.fitted:hover {\n",
       "  /* fitted */\n",
       "  background-color: var(--sklearn-color-fitted-level-3);\n",
       "  color: var(--sklearn-color-background);\n",
       "  text-decoration: none;\n",
       "}\n",
       "\n",
       "/* Span, style for the box shown on hovering the info icon */\n",
       ".sk-estimator-doc-link span {\n",
       "  display: none;\n",
       "  z-index: 9999;\n",
       "  position: relative;\n",
       "  font-weight: normal;\n",
       "  right: .2ex;\n",
       "  padding: .5ex;\n",
       "  margin: .5ex;\n",
       "  width: min-content;\n",
       "  min-width: 20ex;\n",
       "  max-width: 50ex;\n",
       "  color: var(--sklearn-color-text);\n",
       "  box-shadow: 2pt 2pt 4pt #999;\n",
       "  /* unfitted */\n",
       "  background: var(--sklearn-color-unfitted-level-0);\n",
       "  border: .5pt solid var(--sklearn-color-unfitted-level-3);\n",
       "}\n",
       "\n",
       ".sk-estimator-doc-link.fitted span {\n",
       "  /* fitted */\n",
       "  background: var(--sklearn-color-fitted-level-0);\n",
       "  border: var(--sklearn-color-fitted-level-3);\n",
       "}\n",
       "\n",
       ".sk-estimator-doc-link:hover span {\n",
       "  display: block;\n",
       "}\n",
       "\n",
       "/* \"?\"-specific style due to the `<a>` HTML tag */\n",
       "\n",
       "#sk-container-id-2 a.estimator_doc_link {\n",
       "  float: right;\n",
       "  font-size: 1rem;\n",
       "  line-height: 1em;\n",
       "  font-family: monospace;\n",
       "  background-color: var(--sklearn-color-background);\n",
       "  border-radius: 1rem;\n",
       "  height: 1rem;\n",
       "  width: 1rem;\n",
       "  text-decoration: none;\n",
       "  /* unfitted */\n",
       "  color: var(--sklearn-color-unfitted-level-1);\n",
       "  border: var(--sklearn-color-unfitted-level-1) 1pt solid;\n",
       "}\n",
       "\n",
       "#sk-container-id-2 a.estimator_doc_link.fitted {\n",
       "  /* fitted */\n",
       "  border: var(--sklearn-color-fitted-level-1) 1pt solid;\n",
       "  color: var(--sklearn-color-fitted-level-1);\n",
       "}\n",
       "\n",
       "/* On hover */\n",
       "#sk-container-id-2 a.estimator_doc_link:hover {\n",
       "  /* unfitted */\n",
       "  background-color: var(--sklearn-color-unfitted-level-3);\n",
       "  color: var(--sklearn-color-background);\n",
       "  text-decoration: none;\n",
       "}\n",
       "\n",
       "#sk-container-id-2 a.estimator_doc_link.fitted:hover {\n",
       "  /* fitted */\n",
       "  background-color: var(--sklearn-color-fitted-level-3);\n",
       "}\n",
       "</style><div id=\"sk-container-id-2\" class=\"sk-top-container\"><div class=\"sk-text-repr-fallback\"><pre>GridSearchCV(cv=StratifiedKFold(n_splits=5, random_state=42, shuffle=True),\n",
       "             estimator=Pipeline(steps=[(&#x27;standardscaler&#x27;, StandardScaler()),\n",
       "                                       (&#x27;logisticregression&#x27;,\n",
       "                                        LogisticRegression())]),\n",
       "             n_jobs=-1,\n",
       "             param_grid=[{&#x27;logisticregression__C&#x27;: [0.001, 0.01, 0.1, 1, 10],\n",
       "                          &#x27;logisticregression__max_iter&#x27;: array([100, 150, 200, 250, 300]),\n",
       "                          &#x27;logisticregression__penalty&#x27;: [&#x27;l2&#x27;],\n",
       "                          &#x27;logisticregression__solver&#x27;: [&#x27;newton-cg&#x27;, &#x27;lbfgs&#x27;]},\n",
       "                         {&#x27;logisticregression__C&#x27;: [0.001, 0.01, 0.1, 1, 10],\n",
       "                          &#x27;logisticregression__max_iter&#x27;: array([100, 150, 200, 250, 300]),\n",
       "                          &#x27;logisticregression__penalty&#x27;: [&#x27;l1&#x27;, &#x27;l2&#x27;],\n",
       "                          &#x27;logisticregression__solver&#x27;: [&#x27;liblinear&#x27;]}],\n",
       "             scoring=&#x27;recall&#x27;)</pre><b>In a Jupyter environment, please rerun this cell to show the HTML representation or trust the notebook. <br />On GitHub, the HTML representation is unable to render, please try loading this page with nbviewer.org.</b></div><div class=\"sk-container\" hidden><div class=\"sk-item sk-dashed-wrapped\"><div class=\"sk-label-container\"><div class=\"sk-label fitted sk-toggleable\"><input class=\"sk-toggleable__control sk-hidden--visually\" id=\"sk-estimator-id-4\" type=\"checkbox\" ><label for=\"sk-estimator-id-4\" class=\"sk-toggleable__label fitted sk-toggleable__label-arrow fitted\">&nbsp;&nbsp;GridSearchCV<a class=\"sk-estimator-doc-link fitted\" rel=\"noreferrer\" target=\"_blank\" href=\"https://scikit-learn.org/1.4/modules/generated/sklearn.model_selection.GridSearchCV.html\">?<span>Documentation for GridSearchCV</span></a><span class=\"sk-estimator-doc-link fitted\">i<span>Fitted</span></span></label><div class=\"sk-toggleable__content fitted\"><pre>GridSearchCV(cv=StratifiedKFold(n_splits=5, random_state=42, shuffle=True),\n",
       "             estimator=Pipeline(steps=[(&#x27;standardscaler&#x27;, StandardScaler()),\n",
       "                                       (&#x27;logisticregression&#x27;,\n",
       "                                        LogisticRegression())]),\n",
       "             n_jobs=-1,\n",
       "             param_grid=[{&#x27;logisticregression__C&#x27;: [0.001, 0.01, 0.1, 1, 10],\n",
       "                          &#x27;logisticregression__max_iter&#x27;: array([100, 150, 200, 250, 300]),\n",
       "                          &#x27;logisticregression__penalty&#x27;: [&#x27;l2&#x27;],\n",
       "                          &#x27;logisticregression__solver&#x27;: [&#x27;newton-cg&#x27;, &#x27;lbfgs&#x27;]},\n",
       "                         {&#x27;logisticregression__C&#x27;: [0.001, 0.01, 0.1, 1, 10],\n",
       "                          &#x27;logisticregression__max_iter&#x27;: array([100, 150, 200, 250, 300]),\n",
       "                          &#x27;logisticregression__penalty&#x27;: [&#x27;l1&#x27;, &#x27;l2&#x27;],\n",
       "                          &#x27;logisticregression__solver&#x27;: [&#x27;liblinear&#x27;]}],\n",
       "             scoring=&#x27;recall&#x27;)</pre></div> </div></div><div class=\"sk-parallel\"><div class=\"sk-parallel-item\"><div class=\"sk-item\"><div class=\"sk-label-container\"><div class=\"sk-label fitted sk-toggleable\"><input class=\"sk-toggleable__control sk-hidden--visually\" id=\"sk-estimator-id-5\" type=\"checkbox\" ><label for=\"sk-estimator-id-5\" class=\"sk-toggleable__label fitted sk-toggleable__label-arrow fitted\">estimator: Pipeline</label><div class=\"sk-toggleable__content fitted\"><pre>Pipeline(steps=[(&#x27;standardscaler&#x27;, StandardScaler()),\n",
       "                (&#x27;logisticregression&#x27;, LogisticRegression())])</pre></div> </div></div><div class=\"sk-serial\"><div class=\"sk-item\"><div class=\"sk-serial\"><div class=\"sk-item\"><div class=\"sk-estimator fitted sk-toggleable\"><input class=\"sk-toggleable__control sk-hidden--visually\" id=\"sk-estimator-id-6\" type=\"checkbox\" ><label for=\"sk-estimator-id-6\" class=\"sk-toggleable__label fitted sk-toggleable__label-arrow fitted\">&nbsp;StandardScaler<a class=\"sk-estimator-doc-link fitted\" rel=\"noreferrer\" target=\"_blank\" href=\"https://scikit-learn.org/1.4/modules/generated/sklearn.preprocessing.StandardScaler.html\">?<span>Documentation for StandardScaler</span></a></label><div class=\"sk-toggleable__content fitted\"><pre>StandardScaler()</pre></div> </div></div><div class=\"sk-item\"><div class=\"sk-estimator fitted sk-toggleable\"><input class=\"sk-toggleable__control sk-hidden--visually\" id=\"sk-estimator-id-7\" type=\"checkbox\" ><label for=\"sk-estimator-id-7\" class=\"sk-toggleable__label fitted sk-toggleable__label-arrow fitted\">&nbsp;LogisticRegression<a class=\"sk-estimator-doc-link fitted\" rel=\"noreferrer\" target=\"_blank\" href=\"https://scikit-learn.org/1.4/modules/generated/sklearn.linear_model.LogisticRegression.html\">?<span>Documentation for LogisticRegression</span></a></label><div class=\"sk-toggleable__content fitted\"><pre>LogisticRegression()</pre></div> </div></div></div></div></div></div></div></div></div></div></div>"
      ],
      "text/plain": [
       "GridSearchCV(cv=StratifiedKFold(n_splits=5, random_state=42, shuffle=True),\n",
       "             estimator=Pipeline(steps=[('standardscaler', StandardScaler()),\n",
       "                                       ('logisticregression',\n",
       "                                        LogisticRegression())]),\n",
       "             n_jobs=-1,\n",
       "             param_grid=[{'logisticregression__C': [0.001, 0.01, 0.1, 1, 10],\n",
       "                          'logisticregression__max_iter': array([100, 150, 200, 250, 300]),\n",
       "                          'logisticregression__penalty': ['l2'],\n",
       "                          'logisticregression__solver': ['newton-cg', 'lbfgs']},\n",
       "                         {'logisticregression__C': [0.001, 0.01, 0.1, 1, 10],\n",
       "                          'logisticregression__max_iter': array([100, 150, 200, 250, 300]),\n",
       "                          'logisticregression__penalty': ['l1', 'l2'],\n",
       "                          'logisticregression__solver': ['liblinear']}],\n",
       "             scoring='recall')"
      ]
     },
     "execution_count": 17,
     "metadata": {},
     "output_type": "execute_result"
    }
   ],
   "source": [
    "max_iter = np.linspace(100, 300, 5, dtype=int)\n",
    "c = [0.001, 0.01, 0.1, 1, 10]\n",
    "\n",
    "param_grid_regression = [\n",
    "    {\n",
    "        \"logisticregression__solver\": [\"newton-cg\", \"lbfgs\"],\n",
    "        \"logisticregression__penalty\": [\"l2\"],\n",
    "        \"logisticregression__max_iter\": max_iter,\n",
    "        \"logisticregression__C\": c,\n",
    "    },\n",
    "    {\n",
    "        \"logisticregression__solver\": [\"liblinear\"],\n",
    "        \"logisticregression__penalty\": [\"l1\", \"l2\"],\n",
    "        \"logisticregression__max_iter\": max_iter,\n",
    "        \"logisticregression__C\": c,\n",
    "    },\n",
    "]\n",
    "\n",
    "regression_pipeline = make_pipeline(StandardScaler(), LogisticRegression())\n",
    "regression_search_cv = GridSearchCV(\n",
    "    regression_pipeline,\n",
    "    param_grid=param_grid_regression,\n",
    "    cv=cv,\n",
    "    scoring=\"recall\",\n",
    "    n_jobs=-1,\n",
    ")\n",
    "\n",
    "regression_search_cv.fit(x_treino, y_treino)"
   ]
  },
  {
   "cell_type": "code",
   "execution_count": 18,
   "metadata": {},
   "outputs": [
    {
     "data": {
      "text/plain": [
       "{'logisticregression__C': 0.001,\n",
       " 'logisticregression__max_iter': 100,\n",
       " 'logisticregression__penalty': 'l2',\n",
       " 'logisticregression__solver': 'liblinear'}"
      ]
     },
     "execution_count": 18,
     "metadata": {},
     "output_type": "execute_result"
    }
   ],
   "source": [
    "regression_search_cv.best_params_"
   ]
  },
  {
   "cell_type": "code",
   "execution_count": 19,
   "metadata": {},
   "outputs": [
    {
     "data": {
      "text/html": [
       "<div>\n",
       "<style scoped>\n",
       "    .dataframe tbody tr th:only-of-type {\n",
       "        vertical-align: middle;\n",
       "    }\n",
       "\n",
       "    .dataframe tbody tr th {\n",
       "        vertical-align: top;\n",
       "    }\n",
       "\n",
       "    .dataframe thead th {\n",
       "        text-align: right;\n",
       "    }\n",
       "</style>\n",
       "<table border=\"1\" class=\"dataframe\">\n",
       "  <thead>\n",
       "    <tr style=\"text-align: right;\">\n",
       "      <th></th>\n",
       "      <th>mean_fit_time</th>\n",
       "      <th>std_fit_time</th>\n",
       "      <th>mean_score_time</th>\n",
       "      <th>std_score_time</th>\n",
       "      <th>param_logisticregression__C</th>\n",
       "      <th>param_logisticregression__max_iter</th>\n",
       "      <th>param_logisticregression__penalty</th>\n",
       "      <th>param_logisticregression__solver</th>\n",
       "      <th>params</th>\n",
       "      <th>split0_test_score</th>\n",
       "      <th>split1_test_score</th>\n",
       "      <th>split2_test_score</th>\n",
       "      <th>split3_test_score</th>\n",
       "      <th>split4_test_score</th>\n",
       "      <th>mean_test_score</th>\n",
       "      <th>std_test_score</th>\n",
       "      <th>rank_test_score</th>\n",
       "    </tr>\n",
       "  </thead>\n",
       "  <tbody>\n",
       "    <tr>\n",
       "      <th>0</th>\n",
       "      <td>0.006726</td>\n",
       "      <td>0.000554</td>\n",
       "      <td>0.001681</td>\n",
       "      <td>0.000073</td>\n",
       "      <td>0.001</td>\n",
       "      <td>100</td>\n",
       "      <td>l2</td>\n",
       "      <td>newton-cg</td>\n",
       "      <td>{'logisticregression__C': 0.001, 'logisticregr...</td>\n",
       "      <td>0.087025</td>\n",
       "      <td>0.113924</td>\n",
       "      <td>0.107595</td>\n",
       "      <td>0.110759</td>\n",
       "      <td>0.074367</td>\n",
       "      <td>0.098734</td>\n",
       "      <td>0.015393</td>\n",
       "      <td>86</td>\n",
       "    </tr>\n",
       "    <tr>\n",
       "      <th>1</th>\n",
       "      <td>0.004048</td>\n",
       "      <td>0.000262</td>\n",
       "      <td>0.001613</td>\n",
       "      <td>0.000040</td>\n",
       "      <td>0.001</td>\n",
       "      <td>100</td>\n",
       "      <td>l2</td>\n",
       "      <td>lbfgs</td>\n",
       "      <td>{'logisticregression__C': 0.001, 'logisticregr...</td>\n",
       "      <td>0.087025</td>\n",
       "      <td>0.113924</td>\n",
       "      <td>0.107595</td>\n",
       "      <td>0.110759</td>\n",
       "      <td>0.074367</td>\n",
       "      <td>0.098734</td>\n",
       "      <td>0.015393</td>\n",
       "      <td>86</td>\n",
       "    </tr>\n",
       "    <tr>\n",
       "      <th>2</th>\n",
       "      <td>0.005919</td>\n",
       "      <td>0.000108</td>\n",
       "      <td>0.001641</td>\n",
       "      <td>0.000021</td>\n",
       "      <td>0.001</td>\n",
       "      <td>150</td>\n",
       "      <td>l2</td>\n",
       "      <td>newton-cg</td>\n",
       "      <td>{'logisticregression__C': 0.001, 'logisticregr...</td>\n",
       "      <td>0.087025</td>\n",
       "      <td>0.113924</td>\n",
       "      <td>0.107595</td>\n",
       "      <td>0.110759</td>\n",
       "      <td>0.074367</td>\n",
       "      <td>0.098734</td>\n",
       "      <td>0.015393</td>\n",
       "      <td>86</td>\n",
       "    </tr>\n",
       "  </tbody>\n",
       "</table>\n",
       "</div>"
      ],
      "text/plain": [
       "   mean_fit_time  std_fit_time  mean_score_time  std_score_time  \\\n",
       "0       0.006726      0.000554         0.001681        0.000073   \n",
       "1       0.004048      0.000262         0.001613        0.000040   \n",
       "2       0.005919      0.000108         0.001641        0.000021   \n",
       "\n",
       "  param_logisticregression__C param_logisticregression__max_iter  \\\n",
       "0                       0.001                                100   \n",
       "1                       0.001                                100   \n",
       "2                       0.001                                150   \n",
       "\n",
       "  param_logisticregression__penalty param_logisticregression__solver  \\\n",
       "0                                l2                        newton-cg   \n",
       "1                                l2                            lbfgs   \n",
       "2                                l2                        newton-cg   \n",
       "\n",
       "                                              params  split0_test_score  \\\n",
       "0  {'logisticregression__C': 0.001, 'logisticregr...           0.087025   \n",
       "1  {'logisticregression__C': 0.001, 'logisticregr...           0.087025   \n",
       "2  {'logisticregression__C': 0.001, 'logisticregr...           0.087025   \n",
       "\n",
       "   split1_test_score  split2_test_score  split3_test_score  split4_test_score  \\\n",
       "0           0.113924           0.107595           0.110759           0.074367   \n",
       "1           0.113924           0.107595           0.110759           0.074367   \n",
       "2           0.113924           0.107595           0.110759           0.074367   \n",
       "\n",
       "   mean_test_score  std_test_score  rank_test_score  \n",
       "0         0.098734        0.015393               86  \n",
       "1         0.098734        0.015393               86  \n",
       "2         0.098734        0.015393               86  "
      ]
     },
     "execution_count": 19,
     "metadata": {},
     "output_type": "execute_result"
    }
   ],
   "source": [
    "df_regression_search_cv = pd.DataFrame(regression_search_cv.cv_results_)\n",
    "df_regression_search_cv.head(3)"
   ]
  },
  {
   "cell_type": "code",
   "execution_count": 20,
   "metadata": {},
   "outputs": [
    {
     "data": {
      "text/plain": [
       "mean_fit_time                                                                  0.008306\n",
       "std_fit_time                                                                   0.005124\n",
       "mean_score_time                                                                0.001611\n",
       "std_score_time                                                                 0.000053\n",
       "param_logisticregression__C                                                       0.001\n",
       "param_logisticregression__max_iter                                                  100\n",
       "param_logisticregression__penalty                                                    l2\n",
       "param_logisticregression__solver                                              liblinear\n",
       "params                                {'logisticregression__C': 0.001, 'logisticregr...\n",
       "split0_test_score                                                              0.251582\n",
       "split1_test_score                                                              0.245253\n",
       "split2_test_score                                                              0.295886\n",
       "split3_test_score                                                              0.238924\n",
       "split4_test_score                                                              0.262658\n",
       "mean_test_score                                                                0.258861\n",
       "std_test_score                                                                 0.020104\n",
       "rank_test_score                                                                       1\n",
       "Name: 51, dtype: object"
      ]
     },
     "execution_count": 20,
     "metadata": {},
     "output_type": "execute_result"
    }
   ],
   "source": [
    "df_regression_search_cv.loc[regression_search_cv.best_index_]"
   ]
  },
  {
   "cell_type": "code",
   "execution_count": 21,
   "metadata": {},
   "outputs": [
    {
     "data": {
      "application/vnd.plotly.v1+json": {
       "config": {
        "plotlyServerURL": "https://plot.ly"
       },
       "data": [
        {
         "hovertemplate": "param_logisticregression__max_iter=%{x}<br>mean_test_score=%{y}<extra></extra>",
         "legendgroup": "",
         "marker": {
          "color": "#636efa",
          "symbol": "circle"
         },
         "mode": "markers",
         "name": "",
         "orientation": "v",
         "showlegend": false,
         "type": "scatter",
         "x": [
          100,
          100,
          150,
          150,
          200,
          200,
          250,
          250,
          300,
          300,
          100,
          100,
          150,
          150,
          200,
          200,
          250,
          250,
          300,
          300,
          100,
          100,
          150,
          150,
          200,
          200,
          250,
          250,
          300,
          300,
          100,
          100,
          150,
          150,
          200,
          200,
          250,
          250,
          300,
          300,
          100,
          100,
          150,
          150,
          200,
          200,
          250,
          250,
          300,
          300,
          100,
          100,
          150,
          150,
          200,
          200,
          250,
          250,
          300,
          300,
          100,
          100,
          150,
          150,
          200,
          200,
          250,
          250,
          300,
          300,
          100,
          100,
          150,
          150,
          200,
          200,
          250,
          250,
          300,
          300,
          100,
          100,
          150,
          150,
          200,
          200,
          250,
          250,
          300,
          300,
          100,
          100,
          150,
          150,
          200,
          200,
          250,
          250,
          300,
          300
         ],
         "xaxis": "x",
         "y": [
          0.09873417721518987,
          0.09873417721518987,
          0.09873417721518987,
          0.09873417721518987,
          0.09873417721518987,
          0.09873417721518987,
          0.09873417721518987,
          0.09873417721518987,
          0.09873417721518987,
          0.09873417721518987,
          0.22025316455696203,
          0.22025316455696203,
          0.22025316455696203,
          0.22025316455696203,
          0.22025316455696203,
          0.22025316455696203,
          0.22025316455696203,
          0.22025316455696203,
          0.22025316455696203,
          0.22025316455696203,
          0.23639240506329115,
          0.23670886075949368,
          0.23639240506329115,
          0.23670886075949368,
          0.23639240506329115,
          0.23670886075949368,
          0.23639240506329115,
          0.23670886075949368,
          0.23639240506329115,
          0.23670886075949368,
          0.23734177215189875,
          0.23734177215189875,
          0.23734177215189875,
          0.23734177215189875,
          0.23734177215189875,
          0.23734177215189875,
          0.23734177215189875,
          0.23734177215189875,
          0.23734177215189875,
          0.23734177215189875,
          0.23734177215189875,
          0.23734177215189875,
          0.23734177215189875,
          0.23734177215189875,
          0.23734177215189875,
          0.23734177215189875,
          0.23734177215189875,
          0.23734177215189875,
          0.23734177215189875,
          0.23734177215189875,
          0,
          0.2588607594936709,
          0,
          0.2588607594936709,
          0,
          0.2588607594936709,
          0,
          0.2588607594936709,
          0,
          0.2588607594936709,
          0.2088607594936709,
          0.23924050632911395,
          0.2088607594936709,
          0.23924050632911395,
          0.2088607594936709,
          0.23924050632911395,
          0.2088607594936709,
          0.23924050632911395,
          0.2088607594936709,
          0.23924050632911395,
          0.23291139240506328,
          0.23765822784810128,
          0.23291139240506328,
          0.23765822784810128,
          0.23291139240506328,
          0.23765822784810128,
          0.23291139240506328,
          0.23765822784810128,
          0.23291139240506328,
          0.23765822784810128,
          0.23734177215189875,
          0.23734177215189875,
          0.23734177215189875,
          0.23734177215189875,
          0.23734177215189875,
          0.23734177215189875,
          0.23734177215189875,
          0.23734177215189875,
          0.23734177215189875,
          0.23734177215189875,
          0.23734177215189875,
          0.23734177215189875,
          0.23734177215189875,
          0.23734177215189875,
          0.23734177215189875,
          0.23734177215189875,
          0.23734177215189875,
          0.23734177215189875,
          0.23734177215189875,
          0.23734177215189875
         ],
         "yaxis": "y"
        }
       ],
       "layout": {
        "legend": {
         "tracegroupgap": 0
        },
        "template": {
         "data": {
          "bar": [
           {
            "error_x": {
             "color": "#2a3f5f"
            },
            "error_y": {
             "color": "#2a3f5f"
            },
            "marker": {
             "line": {
              "color": "#E5ECF6",
              "width": 0.5
             },
             "pattern": {
              "fillmode": "overlay",
              "size": 10,
              "solidity": 0.2
             }
            },
            "type": "bar"
           }
          ],
          "barpolar": [
           {
            "marker": {
             "line": {
              "color": "#E5ECF6",
              "width": 0.5
             },
             "pattern": {
              "fillmode": "overlay",
              "size": 10,
              "solidity": 0.2
             }
            },
            "type": "barpolar"
           }
          ],
          "carpet": [
           {
            "aaxis": {
             "endlinecolor": "#2a3f5f",
             "gridcolor": "white",
             "linecolor": "white",
             "minorgridcolor": "white",
             "startlinecolor": "#2a3f5f"
            },
            "baxis": {
             "endlinecolor": "#2a3f5f",
             "gridcolor": "white",
             "linecolor": "white",
             "minorgridcolor": "white",
             "startlinecolor": "#2a3f5f"
            },
            "type": "carpet"
           }
          ],
          "choropleth": [
           {
            "colorbar": {
             "outlinewidth": 0,
             "ticks": ""
            },
            "type": "choropleth"
           }
          ],
          "contour": [
           {
            "colorbar": {
             "outlinewidth": 0,
             "ticks": ""
            },
            "colorscale": [
             [
              0,
              "#0d0887"
             ],
             [
              0.1111111111111111,
              "#46039f"
             ],
             [
              0.2222222222222222,
              "#7201a8"
             ],
             [
              0.3333333333333333,
              "#9c179e"
             ],
             [
              0.4444444444444444,
              "#bd3786"
             ],
             [
              0.5555555555555556,
              "#d8576b"
             ],
             [
              0.6666666666666666,
              "#ed7953"
             ],
             [
              0.7777777777777778,
              "#fb9f3a"
             ],
             [
              0.8888888888888888,
              "#fdca26"
             ],
             [
              1,
              "#f0f921"
             ]
            ],
            "type": "contour"
           }
          ],
          "contourcarpet": [
           {
            "colorbar": {
             "outlinewidth": 0,
             "ticks": ""
            },
            "type": "contourcarpet"
           }
          ],
          "heatmap": [
           {
            "colorbar": {
             "outlinewidth": 0,
             "ticks": ""
            },
            "colorscale": [
             [
              0,
              "#0d0887"
             ],
             [
              0.1111111111111111,
              "#46039f"
             ],
             [
              0.2222222222222222,
              "#7201a8"
             ],
             [
              0.3333333333333333,
              "#9c179e"
             ],
             [
              0.4444444444444444,
              "#bd3786"
             ],
             [
              0.5555555555555556,
              "#d8576b"
             ],
             [
              0.6666666666666666,
              "#ed7953"
             ],
             [
              0.7777777777777778,
              "#fb9f3a"
             ],
             [
              0.8888888888888888,
              "#fdca26"
             ],
             [
              1,
              "#f0f921"
             ]
            ],
            "type": "heatmap"
           }
          ],
          "heatmapgl": [
           {
            "colorbar": {
             "outlinewidth": 0,
             "ticks": ""
            },
            "colorscale": [
             [
              0,
              "#0d0887"
             ],
             [
              0.1111111111111111,
              "#46039f"
             ],
             [
              0.2222222222222222,
              "#7201a8"
             ],
             [
              0.3333333333333333,
              "#9c179e"
             ],
             [
              0.4444444444444444,
              "#bd3786"
             ],
             [
              0.5555555555555556,
              "#d8576b"
             ],
             [
              0.6666666666666666,
              "#ed7953"
             ],
             [
              0.7777777777777778,
              "#fb9f3a"
             ],
             [
              0.8888888888888888,
              "#fdca26"
             ],
             [
              1,
              "#f0f921"
             ]
            ],
            "type": "heatmapgl"
           }
          ],
          "histogram": [
           {
            "marker": {
             "pattern": {
              "fillmode": "overlay",
              "size": 10,
              "solidity": 0.2
             }
            },
            "type": "histogram"
           }
          ],
          "histogram2d": [
           {
            "colorbar": {
             "outlinewidth": 0,
             "ticks": ""
            },
            "colorscale": [
             [
              0,
              "#0d0887"
             ],
             [
              0.1111111111111111,
              "#46039f"
             ],
             [
              0.2222222222222222,
              "#7201a8"
             ],
             [
              0.3333333333333333,
              "#9c179e"
             ],
             [
              0.4444444444444444,
              "#bd3786"
             ],
             [
              0.5555555555555556,
              "#d8576b"
             ],
             [
              0.6666666666666666,
              "#ed7953"
             ],
             [
              0.7777777777777778,
              "#fb9f3a"
             ],
             [
              0.8888888888888888,
              "#fdca26"
             ],
             [
              1,
              "#f0f921"
             ]
            ],
            "type": "histogram2d"
           }
          ],
          "histogram2dcontour": [
           {
            "colorbar": {
             "outlinewidth": 0,
             "ticks": ""
            },
            "colorscale": [
             [
              0,
              "#0d0887"
             ],
             [
              0.1111111111111111,
              "#46039f"
             ],
             [
              0.2222222222222222,
              "#7201a8"
             ],
             [
              0.3333333333333333,
              "#9c179e"
             ],
             [
              0.4444444444444444,
              "#bd3786"
             ],
             [
              0.5555555555555556,
              "#d8576b"
             ],
             [
              0.6666666666666666,
              "#ed7953"
             ],
             [
              0.7777777777777778,
              "#fb9f3a"
             ],
             [
              0.8888888888888888,
              "#fdca26"
             ],
             [
              1,
              "#f0f921"
             ]
            ],
            "type": "histogram2dcontour"
           }
          ],
          "mesh3d": [
           {
            "colorbar": {
             "outlinewidth": 0,
             "ticks": ""
            },
            "type": "mesh3d"
           }
          ],
          "parcoords": [
           {
            "line": {
             "colorbar": {
              "outlinewidth": 0,
              "ticks": ""
             }
            },
            "type": "parcoords"
           }
          ],
          "pie": [
           {
            "automargin": true,
            "type": "pie"
           }
          ],
          "scatter": [
           {
            "fillpattern": {
             "fillmode": "overlay",
             "size": 10,
             "solidity": 0.2
            },
            "type": "scatter"
           }
          ],
          "scatter3d": [
           {
            "line": {
             "colorbar": {
              "outlinewidth": 0,
              "ticks": ""
             }
            },
            "marker": {
             "colorbar": {
              "outlinewidth": 0,
              "ticks": ""
             }
            },
            "type": "scatter3d"
           }
          ],
          "scattercarpet": [
           {
            "marker": {
             "colorbar": {
              "outlinewidth": 0,
              "ticks": ""
             }
            },
            "type": "scattercarpet"
           }
          ],
          "scattergeo": [
           {
            "marker": {
             "colorbar": {
              "outlinewidth": 0,
              "ticks": ""
             }
            },
            "type": "scattergeo"
           }
          ],
          "scattergl": [
           {
            "marker": {
             "colorbar": {
              "outlinewidth": 0,
              "ticks": ""
             }
            },
            "type": "scattergl"
           }
          ],
          "scattermapbox": [
           {
            "marker": {
             "colorbar": {
              "outlinewidth": 0,
              "ticks": ""
             }
            },
            "type": "scattermapbox"
           }
          ],
          "scatterpolar": [
           {
            "marker": {
             "colorbar": {
              "outlinewidth": 0,
              "ticks": ""
             }
            },
            "type": "scatterpolar"
           }
          ],
          "scatterpolargl": [
           {
            "marker": {
             "colorbar": {
              "outlinewidth": 0,
              "ticks": ""
             }
            },
            "type": "scatterpolargl"
           }
          ],
          "scatterternary": [
           {
            "marker": {
             "colorbar": {
              "outlinewidth": 0,
              "ticks": ""
             }
            },
            "type": "scatterternary"
           }
          ],
          "surface": [
           {
            "colorbar": {
             "outlinewidth": 0,
             "ticks": ""
            },
            "colorscale": [
             [
              0,
              "#0d0887"
             ],
             [
              0.1111111111111111,
              "#46039f"
             ],
             [
              0.2222222222222222,
              "#7201a8"
             ],
             [
              0.3333333333333333,
              "#9c179e"
             ],
             [
              0.4444444444444444,
              "#bd3786"
             ],
             [
              0.5555555555555556,
              "#d8576b"
             ],
             [
              0.6666666666666666,
              "#ed7953"
             ],
             [
              0.7777777777777778,
              "#fb9f3a"
             ],
             [
              0.8888888888888888,
              "#fdca26"
             ],
             [
              1,
              "#f0f921"
             ]
            ],
            "type": "surface"
           }
          ],
          "table": [
           {
            "cells": {
             "fill": {
              "color": "#EBF0F8"
             },
             "line": {
              "color": "white"
             }
            },
            "header": {
             "fill": {
              "color": "#C8D4E3"
             },
             "line": {
              "color": "white"
             }
            },
            "type": "table"
           }
          ]
         },
         "layout": {
          "annotationdefaults": {
           "arrowcolor": "#2a3f5f",
           "arrowhead": 0,
           "arrowwidth": 1
          },
          "autotypenumbers": "strict",
          "coloraxis": {
           "colorbar": {
            "outlinewidth": 0,
            "ticks": ""
           }
          },
          "colorscale": {
           "diverging": [
            [
             0,
             "#8e0152"
            ],
            [
             0.1,
             "#c51b7d"
            ],
            [
             0.2,
             "#de77ae"
            ],
            [
             0.3,
             "#f1b6da"
            ],
            [
             0.4,
             "#fde0ef"
            ],
            [
             0.5,
             "#f7f7f7"
            ],
            [
             0.6,
             "#e6f5d0"
            ],
            [
             0.7,
             "#b8e186"
            ],
            [
             0.8,
             "#7fbc41"
            ],
            [
             0.9,
             "#4d9221"
            ],
            [
             1,
             "#276419"
            ]
           ],
           "sequential": [
            [
             0,
             "#0d0887"
            ],
            [
             0.1111111111111111,
             "#46039f"
            ],
            [
             0.2222222222222222,
             "#7201a8"
            ],
            [
             0.3333333333333333,
             "#9c179e"
            ],
            [
             0.4444444444444444,
             "#bd3786"
            ],
            [
             0.5555555555555556,
             "#d8576b"
            ],
            [
             0.6666666666666666,
             "#ed7953"
            ],
            [
             0.7777777777777778,
             "#fb9f3a"
            ],
            [
             0.8888888888888888,
             "#fdca26"
            ],
            [
             1,
             "#f0f921"
            ]
           ],
           "sequentialminus": [
            [
             0,
             "#0d0887"
            ],
            [
             0.1111111111111111,
             "#46039f"
            ],
            [
             0.2222222222222222,
             "#7201a8"
            ],
            [
             0.3333333333333333,
             "#9c179e"
            ],
            [
             0.4444444444444444,
             "#bd3786"
            ],
            [
             0.5555555555555556,
             "#d8576b"
            ],
            [
             0.6666666666666666,
             "#ed7953"
            ],
            [
             0.7777777777777778,
             "#fb9f3a"
            ],
            [
             0.8888888888888888,
             "#fdca26"
            ],
            [
             1,
             "#f0f921"
            ]
           ]
          },
          "colorway": [
           "#636efa",
           "#EF553B",
           "#00cc96",
           "#ab63fa",
           "#FFA15A",
           "#19d3f3",
           "#FF6692",
           "#B6E880",
           "#FF97FF",
           "#FECB52"
          ],
          "font": {
           "color": "#2a3f5f"
          },
          "geo": {
           "bgcolor": "white",
           "lakecolor": "white",
           "landcolor": "#E5ECF6",
           "showlakes": true,
           "showland": true,
           "subunitcolor": "white"
          },
          "hoverlabel": {
           "align": "left"
          },
          "hovermode": "closest",
          "mapbox": {
           "style": "light"
          },
          "paper_bgcolor": "white",
          "plot_bgcolor": "#E5ECF6",
          "polar": {
           "angularaxis": {
            "gridcolor": "white",
            "linecolor": "white",
            "ticks": ""
           },
           "bgcolor": "#E5ECF6",
           "radialaxis": {
            "gridcolor": "white",
            "linecolor": "white",
            "ticks": ""
           }
          },
          "scene": {
           "xaxis": {
            "backgroundcolor": "#E5ECF6",
            "gridcolor": "white",
            "gridwidth": 2,
            "linecolor": "white",
            "showbackground": true,
            "ticks": "",
            "zerolinecolor": "white"
           },
           "yaxis": {
            "backgroundcolor": "#E5ECF6",
            "gridcolor": "white",
            "gridwidth": 2,
            "linecolor": "white",
            "showbackground": true,
            "ticks": "",
            "zerolinecolor": "white"
           },
           "zaxis": {
            "backgroundcolor": "#E5ECF6",
            "gridcolor": "white",
            "gridwidth": 2,
            "linecolor": "white",
            "showbackground": true,
            "ticks": "",
            "zerolinecolor": "white"
           }
          },
          "shapedefaults": {
           "line": {
            "color": "#2a3f5f"
           }
          },
          "ternary": {
           "aaxis": {
            "gridcolor": "white",
            "linecolor": "white",
            "ticks": ""
           },
           "baxis": {
            "gridcolor": "white",
            "linecolor": "white",
            "ticks": ""
           },
           "bgcolor": "#E5ECF6",
           "caxis": {
            "gridcolor": "white",
            "linecolor": "white",
            "ticks": ""
           }
          },
          "title": {
           "x": 0.05
          },
          "xaxis": {
           "automargin": true,
           "gridcolor": "white",
           "linecolor": "white",
           "ticks": "",
           "title": {
            "standoff": 15
           },
           "zerolinecolor": "white",
           "zerolinewidth": 2
          },
          "yaxis": {
           "automargin": true,
           "gridcolor": "white",
           "linecolor": "white",
           "ticks": "",
           "title": {
            "standoff": 15
           },
           "zerolinecolor": "white",
           "zerolinewidth": 2
          }
         }
        },
        "title": {
         "text": "Max Iter. vs. Recall"
        },
        "xaxis": {
         "anchor": "y",
         "domain": [
          0,
          1
         ],
         "title": {
          "text": "param_logisticregression__max_iter"
         }
        },
        "yaxis": {
         "anchor": "x",
         "domain": [
          0,
          1
         ],
         "title": {
          "text": "mean_test_score"
         }
        }
       }
      }
     },
     "metadata": {},
     "output_type": "display_data"
    }
   ],
   "source": [
    "px.scatter(\n",
    "    df_regression_search_cv,\n",
    "    x=\"param_logisticregression__max_iter\",\n",
    "    y=\"mean_test_score\",\n",
    "    title=\"Max Iter. vs. Recall\",\n",
    ")"
   ]
  },
  {
   "cell_type": "code",
   "execution_count": 22,
   "metadata": {},
   "outputs": [
    {
     "data": {
      "application/vnd.plotly.v1+json": {
       "config": {
        "plotlyServerURL": "https://plot.ly"
       },
       "data": [
        {
         "hovertemplate": "param_logisticregression__C=%{x}<br>mean_test_score=%{y}<extra></extra>",
         "legendgroup": "",
         "marker": {
          "color": "#636efa",
          "symbol": "circle"
         },
         "mode": "markers",
         "name": "",
         "orientation": "v",
         "showlegend": false,
         "type": "scatter",
         "x": [
          0.001,
          0.001,
          0.001,
          0.001,
          0.001,
          0.001,
          0.001,
          0.001,
          0.001,
          0.001,
          0.01,
          0.01,
          0.01,
          0.01,
          0.01,
          0.01,
          0.01,
          0.01,
          0.01,
          0.01,
          0.1,
          0.1,
          0.1,
          0.1,
          0.1,
          0.1,
          0.1,
          0.1,
          0.1,
          0.1,
          1,
          1,
          1,
          1,
          1,
          1,
          1,
          1,
          1,
          1,
          10,
          10,
          10,
          10,
          10,
          10,
          10,
          10,
          10,
          10,
          0.001,
          0.001,
          0.001,
          0.001,
          0.001,
          0.001,
          0.001,
          0.001,
          0.001,
          0.001,
          0.01,
          0.01,
          0.01,
          0.01,
          0.01,
          0.01,
          0.01,
          0.01,
          0.01,
          0.01,
          0.1,
          0.1,
          0.1,
          0.1,
          0.1,
          0.1,
          0.1,
          0.1,
          0.1,
          0.1,
          1,
          1,
          1,
          1,
          1,
          1,
          1,
          1,
          1,
          1,
          10,
          10,
          10,
          10,
          10,
          10,
          10,
          10,
          10,
          10
         ],
         "xaxis": "x",
         "y": [
          0.09873417721518987,
          0.09873417721518987,
          0.09873417721518987,
          0.09873417721518987,
          0.09873417721518987,
          0.09873417721518987,
          0.09873417721518987,
          0.09873417721518987,
          0.09873417721518987,
          0.09873417721518987,
          0.22025316455696203,
          0.22025316455696203,
          0.22025316455696203,
          0.22025316455696203,
          0.22025316455696203,
          0.22025316455696203,
          0.22025316455696203,
          0.22025316455696203,
          0.22025316455696203,
          0.22025316455696203,
          0.23639240506329115,
          0.23670886075949368,
          0.23639240506329115,
          0.23670886075949368,
          0.23639240506329115,
          0.23670886075949368,
          0.23639240506329115,
          0.23670886075949368,
          0.23639240506329115,
          0.23670886075949368,
          0.23734177215189875,
          0.23734177215189875,
          0.23734177215189875,
          0.23734177215189875,
          0.23734177215189875,
          0.23734177215189875,
          0.23734177215189875,
          0.23734177215189875,
          0.23734177215189875,
          0.23734177215189875,
          0.23734177215189875,
          0.23734177215189875,
          0.23734177215189875,
          0.23734177215189875,
          0.23734177215189875,
          0.23734177215189875,
          0.23734177215189875,
          0.23734177215189875,
          0.23734177215189875,
          0.23734177215189875,
          0,
          0.2588607594936709,
          0,
          0.2588607594936709,
          0,
          0.2588607594936709,
          0,
          0.2588607594936709,
          0,
          0.2588607594936709,
          0.2088607594936709,
          0.23924050632911395,
          0.2088607594936709,
          0.23924050632911395,
          0.2088607594936709,
          0.23924050632911395,
          0.2088607594936709,
          0.23924050632911395,
          0.2088607594936709,
          0.23924050632911395,
          0.23291139240506328,
          0.23765822784810128,
          0.23291139240506328,
          0.23765822784810128,
          0.23291139240506328,
          0.23765822784810128,
          0.23291139240506328,
          0.23765822784810128,
          0.23291139240506328,
          0.23765822784810128,
          0.23734177215189875,
          0.23734177215189875,
          0.23734177215189875,
          0.23734177215189875,
          0.23734177215189875,
          0.23734177215189875,
          0.23734177215189875,
          0.23734177215189875,
          0.23734177215189875,
          0.23734177215189875,
          0.23734177215189875,
          0.23734177215189875,
          0.23734177215189875,
          0.23734177215189875,
          0.23734177215189875,
          0.23734177215189875,
          0.23734177215189875,
          0.23734177215189875,
          0.23734177215189875,
          0.23734177215189875
         ],
         "yaxis": "y"
        }
       ],
       "layout": {
        "legend": {
         "tracegroupgap": 0
        },
        "template": {
         "data": {
          "bar": [
           {
            "error_x": {
             "color": "#2a3f5f"
            },
            "error_y": {
             "color": "#2a3f5f"
            },
            "marker": {
             "line": {
              "color": "#E5ECF6",
              "width": 0.5
             },
             "pattern": {
              "fillmode": "overlay",
              "size": 10,
              "solidity": 0.2
             }
            },
            "type": "bar"
           }
          ],
          "barpolar": [
           {
            "marker": {
             "line": {
              "color": "#E5ECF6",
              "width": 0.5
             },
             "pattern": {
              "fillmode": "overlay",
              "size": 10,
              "solidity": 0.2
             }
            },
            "type": "barpolar"
           }
          ],
          "carpet": [
           {
            "aaxis": {
             "endlinecolor": "#2a3f5f",
             "gridcolor": "white",
             "linecolor": "white",
             "minorgridcolor": "white",
             "startlinecolor": "#2a3f5f"
            },
            "baxis": {
             "endlinecolor": "#2a3f5f",
             "gridcolor": "white",
             "linecolor": "white",
             "minorgridcolor": "white",
             "startlinecolor": "#2a3f5f"
            },
            "type": "carpet"
           }
          ],
          "choropleth": [
           {
            "colorbar": {
             "outlinewidth": 0,
             "ticks": ""
            },
            "type": "choropleth"
           }
          ],
          "contour": [
           {
            "colorbar": {
             "outlinewidth": 0,
             "ticks": ""
            },
            "colorscale": [
             [
              0,
              "#0d0887"
             ],
             [
              0.1111111111111111,
              "#46039f"
             ],
             [
              0.2222222222222222,
              "#7201a8"
             ],
             [
              0.3333333333333333,
              "#9c179e"
             ],
             [
              0.4444444444444444,
              "#bd3786"
             ],
             [
              0.5555555555555556,
              "#d8576b"
             ],
             [
              0.6666666666666666,
              "#ed7953"
             ],
             [
              0.7777777777777778,
              "#fb9f3a"
             ],
             [
              0.8888888888888888,
              "#fdca26"
             ],
             [
              1,
              "#f0f921"
             ]
            ],
            "type": "contour"
           }
          ],
          "contourcarpet": [
           {
            "colorbar": {
             "outlinewidth": 0,
             "ticks": ""
            },
            "type": "contourcarpet"
           }
          ],
          "heatmap": [
           {
            "colorbar": {
             "outlinewidth": 0,
             "ticks": ""
            },
            "colorscale": [
             [
              0,
              "#0d0887"
             ],
             [
              0.1111111111111111,
              "#46039f"
             ],
             [
              0.2222222222222222,
              "#7201a8"
             ],
             [
              0.3333333333333333,
              "#9c179e"
             ],
             [
              0.4444444444444444,
              "#bd3786"
             ],
             [
              0.5555555555555556,
              "#d8576b"
             ],
             [
              0.6666666666666666,
              "#ed7953"
             ],
             [
              0.7777777777777778,
              "#fb9f3a"
             ],
             [
              0.8888888888888888,
              "#fdca26"
             ],
             [
              1,
              "#f0f921"
             ]
            ],
            "type": "heatmap"
           }
          ],
          "heatmapgl": [
           {
            "colorbar": {
             "outlinewidth": 0,
             "ticks": ""
            },
            "colorscale": [
             [
              0,
              "#0d0887"
             ],
             [
              0.1111111111111111,
              "#46039f"
             ],
             [
              0.2222222222222222,
              "#7201a8"
             ],
             [
              0.3333333333333333,
              "#9c179e"
             ],
             [
              0.4444444444444444,
              "#bd3786"
             ],
             [
              0.5555555555555556,
              "#d8576b"
             ],
             [
              0.6666666666666666,
              "#ed7953"
             ],
             [
              0.7777777777777778,
              "#fb9f3a"
             ],
             [
              0.8888888888888888,
              "#fdca26"
             ],
             [
              1,
              "#f0f921"
             ]
            ],
            "type": "heatmapgl"
           }
          ],
          "histogram": [
           {
            "marker": {
             "pattern": {
              "fillmode": "overlay",
              "size": 10,
              "solidity": 0.2
             }
            },
            "type": "histogram"
           }
          ],
          "histogram2d": [
           {
            "colorbar": {
             "outlinewidth": 0,
             "ticks": ""
            },
            "colorscale": [
             [
              0,
              "#0d0887"
             ],
             [
              0.1111111111111111,
              "#46039f"
             ],
             [
              0.2222222222222222,
              "#7201a8"
             ],
             [
              0.3333333333333333,
              "#9c179e"
             ],
             [
              0.4444444444444444,
              "#bd3786"
             ],
             [
              0.5555555555555556,
              "#d8576b"
             ],
             [
              0.6666666666666666,
              "#ed7953"
             ],
             [
              0.7777777777777778,
              "#fb9f3a"
             ],
             [
              0.8888888888888888,
              "#fdca26"
             ],
             [
              1,
              "#f0f921"
             ]
            ],
            "type": "histogram2d"
           }
          ],
          "histogram2dcontour": [
           {
            "colorbar": {
             "outlinewidth": 0,
             "ticks": ""
            },
            "colorscale": [
             [
              0,
              "#0d0887"
             ],
             [
              0.1111111111111111,
              "#46039f"
             ],
             [
              0.2222222222222222,
              "#7201a8"
             ],
             [
              0.3333333333333333,
              "#9c179e"
             ],
             [
              0.4444444444444444,
              "#bd3786"
             ],
             [
              0.5555555555555556,
              "#d8576b"
             ],
             [
              0.6666666666666666,
              "#ed7953"
             ],
             [
              0.7777777777777778,
              "#fb9f3a"
             ],
             [
              0.8888888888888888,
              "#fdca26"
             ],
             [
              1,
              "#f0f921"
             ]
            ],
            "type": "histogram2dcontour"
           }
          ],
          "mesh3d": [
           {
            "colorbar": {
             "outlinewidth": 0,
             "ticks": ""
            },
            "type": "mesh3d"
           }
          ],
          "parcoords": [
           {
            "line": {
             "colorbar": {
              "outlinewidth": 0,
              "ticks": ""
             }
            },
            "type": "parcoords"
           }
          ],
          "pie": [
           {
            "automargin": true,
            "type": "pie"
           }
          ],
          "scatter": [
           {
            "fillpattern": {
             "fillmode": "overlay",
             "size": 10,
             "solidity": 0.2
            },
            "type": "scatter"
           }
          ],
          "scatter3d": [
           {
            "line": {
             "colorbar": {
              "outlinewidth": 0,
              "ticks": ""
             }
            },
            "marker": {
             "colorbar": {
              "outlinewidth": 0,
              "ticks": ""
             }
            },
            "type": "scatter3d"
           }
          ],
          "scattercarpet": [
           {
            "marker": {
             "colorbar": {
              "outlinewidth": 0,
              "ticks": ""
             }
            },
            "type": "scattercarpet"
           }
          ],
          "scattergeo": [
           {
            "marker": {
             "colorbar": {
              "outlinewidth": 0,
              "ticks": ""
             }
            },
            "type": "scattergeo"
           }
          ],
          "scattergl": [
           {
            "marker": {
             "colorbar": {
              "outlinewidth": 0,
              "ticks": ""
             }
            },
            "type": "scattergl"
           }
          ],
          "scattermapbox": [
           {
            "marker": {
             "colorbar": {
              "outlinewidth": 0,
              "ticks": ""
             }
            },
            "type": "scattermapbox"
           }
          ],
          "scatterpolar": [
           {
            "marker": {
             "colorbar": {
              "outlinewidth": 0,
              "ticks": ""
             }
            },
            "type": "scatterpolar"
           }
          ],
          "scatterpolargl": [
           {
            "marker": {
             "colorbar": {
              "outlinewidth": 0,
              "ticks": ""
             }
            },
            "type": "scatterpolargl"
           }
          ],
          "scatterternary": [
           {
            "marker": {
             "colorbar": {
              "outlinewidth": 0,
              "ticks": ""
             }
            },
            "type": "scatterternary"
           }
          ],
          "surface": [
           {
            "colorbar": {
             "outlinewidth": 0,
             "ticks": ""
            },
            "colorscale": [
             [
              0,
              "#0d0887"
             ],
             [
              0.1111111111111111,
              "#46039f"
             ],
             [
              0.2222222222222222,
              "#7201a8"
             ],
             [
              0.3333333333333333,
              "#9c179e"
             ],
             [
              0.4444444444444444,
              "#bd3786"
             ],
             [
              0.5555555555555556,
              "#d8576b"
             ],
             [
              0.6666666666666666,
              "#ed7953"
             ],
             [
              0.7777777777777778,
              "#fb9f3a"
             ],
             [
              0.8888888888888888,
              "#fdca26"
             ],
             [
              1,
              "#f0f921"
             ]
            ],
            "type": "surface"
           }
          ],
          "table": [
           {
            "cells": {
             "fill": {
              "color": "#EBF0F8"
             },
             "line": {
              "color": "white"
             }
            },
            "header": {
             "fill": {
              "color": "#C8D4E3"
             },
             "line": {
              "color": "white"
             }
            },
            "type": "table"
           }
          ]
         },
         "layout": {
          "annotationdefaults": {
           "arrowcolor": "#2a3f5f",
           "arrowhead": 0,
           "arrowwidth": 1
          },
          "autotypenumbers": "strict",
          "coloraxis": {
           "colorbar": {
            "outlinewidth": 0,
            "ticks": ""
           }
          },
          "colorscale": {
           "diverging": [
            [
             0,
             "#8e0152"
            ],
            [
             0.1,
             "#c51b7d"
            ],
            [
             0.2,
             "#de77ae"
            ],
            [
             0.3,
             "#f1b6da"
            ],
            [
             0.4,
             "#fde0ef"
            ],
            [
             0.5,
             "#f7f7f7"
            ],
            [
             0.6,
             "#e6f5d0"
            ],
            [
             0.7,
             "#b8e186"
            ],
            [
             0.8,
             "#7fbc41"
            ],
            [
             0.9,
             "#4d9221"
            ],
            [
             1,
             "#276419"
            ]
           ],
           "sequential": [
            [
             0,
             "#0d0887"
            ],
            [
             0.1111111111111111,
             "#46039f"
            ],
            [
             0.2222222222222222,
             "#7201a8"
            ],
            [
             0.3333333333333333,
             "#9c179e"
            ],
            [
             0.4444444444444444,
             "#bd3786"
            ],
            [
             0.5555555555555556,
             "#d8576b"
            ],
            [
             0.6666666666666666,
             "#ed7953"
            ],
            [
             0.7777777777777778,
             "#fb9f3a"
            ],
            [
             0.8888888888888888,
             "#fdca26"
            ],
            [
             1,
             "#f0f921"
            ]
           ],
           "sequentialminus": [
            [
             0,
             "#0d0887"
            ],
            [
             0.1111111111111111,
             "#46039f"
            ],
            [
             0.2222222222222222,
             "#7201a8"
            ],
            [
             0.3333333333333333,
             "#9c179e"
            ],
            [
             0.4444444444444444,
             "#bd3786"
            ],
            [
             0.5555555555555556,
             "#d8576b"
            ],
            [
             0.6666666666666666,
             "#ed7953"
            ],
            [
             0.7777777777777778,
             "#fb9f3a"
            ],
            [
             0.8888888888888888,
             "#fdca26"
            ],
            [
             1,
             "#f0f921"
            ]
           ]
          },
          "colorway": [
           "#636efa",
           "#EF553B",
           "#00cc96",
           "#ab63fa",
           "#FFA15A",
           "#19d3f3",
           "#FF6692",
           "#B6E880",
           "#FF97FF",
           "#FECB52"
          ],
          "font": {
           "color": "#2a3f5f"
          },
          "geo": {
           "bgcolor": "white",
           "lakecolor": "white",
           "landcolor": "#E5ECF6",
           "showlakes": true,
           "showland": true,
           "subunitcolor": "white"
          },
          "hoverlabel": {
           "align": "left"
          },
          "hovermode": "closest",
          "mapbox": {
           "style": "light"
          },
          "paper_bgcolor": "white",
          "plot_bgcolor": "#E5ECF6",
          "polar": {
           "angularaxis": {
            "gridcolor": "white",
            "linecolor": "white",
            "ticks": ""
           },
           "bgcolor": "#E5ECF6",
           "radialaxis": {
            "gridcolor": "white",
            "linecolor": "white",
            "ticks": ""
           }
          },
          "scene": {
           "xaxis": {
            "backgroundcolor": "#E5ECF6",
            "gridcolor": "white",
            "gridwidth": 2,
            "linecolor": "white",
            "showbackground": true,
            "ticks": "",
            "zerolinecolor": "white"
           },
           "yaxis": {
            "backgroundcolor": "#E5ECF6",
            "gridcolor": "white",
            "gridwidth": 2,
            "linecolor": "white",
            "showbackground": true,
            "ticks": "",
            "zerolinecolor": "white"
           },
           "zaxis": {
            "backgroundcolor": "#E5ECF6",
            "gridcolor": "white",
            "gridwidth": 2,
            "linecolor": "white",
            "showbackground": true,
            "ticks": "",
            "zerolinecolor": "white"
           }
          },
          "shapedefaults": {
           "line": {
            "color": "#2a3f5f"
           }
          },
          "ternary": {
           "aaxis": {
            "gridcolor": "white",
            "linecolor": "white",
            "ticks": ""
           },
           "baxis": {
            "gridcolor": "white",
            "linecolor": "white",
            "ticks": ""
           },
           "bgcolor": "#E5ECF6",
           "caxis": {
            "gridcolor": "white",
            "linecolor": "white",
            "ticks": ""
           }
          },
          "title": {
           "x": 0.05
          },
          "xaxis": {
           "automargin": true,
           "gridcolor": "white",
           "linecolor": "white",
           "ticks": "",
           "title": {
            "standoff": 15
           },
           "zerolinecolor": "white",
           "zerolinewidth": 2
          },
          "yaxis": {
           "automargin": true,
           "gridcolor": "white",
           "linecolor": "white",
           "ticks": "",
           "title": {
            "standoff": 15
           },
           "zerolinecolor": "white",
           "zerolinewidth": 2
          }
         }
        },
        "title": {
         "text": "C vs. Recall"
        },
        "xaxis": {
         "anchor": "y",
         "domain": [
          0,
          1
         ],
         "title": {
          "text": "param_logisticregression__C"
         }
        },
        "yaxis": {
         "anchor": "x",
         "domain": [
          0,
          1
         ],
         "title": {
          "text": "mean_test_score"
         }
        }
       }
      }
     },
     "metadata": {},
     "output_type": "display_data"
    }
   ],
   "source": [
    "px.scatter(\n",
    "    df_regression_search_cv,\n",
    "    x=\"param_logisticregression__C\",\n",
    "    y=\"mean_test_score\",\n",
    "    title=\"C vs. Recall\",\n",
    ")"
   ]
  },
  {
   "cell_type": "code",
   "execution_count": 23,
   "metadata": {},
   "outputs": [
    {
     "data": {
      "application/vnd.plotly.v1+json": {
       "config": {
        "plotlyServerURL": "https://plot.ly"
       },
       "data": [
        {
         "hovertemplate": "param_logisticregression__solver=%{x}<br>mean_test_score=%{y}<extra></extra>",
         "legendgroup": "",
         "marker": {
          "color": "#636efa",
          "symbol": "circle"
         },
         "mode": "markers",
         "name": "",
         "orientation": "v",
         "showlegend": false,
         "type": "scatter",
         "x": [
          "newton-cg",
          "lbfgs",
          "newton-cg",
          "lbfgs",
          "newton-cg",
          "lbfgs",
          "newton-cg",
          "lbfgs",
          "newton-cg",
          "lbfgs",
          "newton-cg",
          "lbfgs",
          "newton-cg",
          "lbfgs",
          "newton-cg",
          "lbfgs",
          "newton-cg",
          "lbfgs",
          "newton-cg",
          "lbfgs",
          "newton-cg",
          "lbfgs",
          "newton-cg",
          "lbfgs",
          "newton-cg",
          "lbfgs",
          "newton-cg",
          "lbfgs",
          "newton-cg",
          "lbfgs",
          "newton-cg",
          "lbfgs",
          "newton-cg",
          "lbfgs",
          "newton-cg",
          "lbfgs",
          "newton-cg",
          "lbfgs",
          "newton-cg",
          "lbfgs",
          "newton-cg",
          "lbfgs",
          "newton-cg",
          "lbfgs",
          "newton-cg",
          "lbfgs",
          "newton-cg",
          "lbfgs",
          "newton-cg",
          "lbfgs",
          "liblinear",
          "liblinear",
          "liblinear",
          "liblinear",
          "liblinear",
          "liblinear",
          "liblinear",
          "liblinear",
          "liblinear",
          "liblinear",
          "liblinear",
          "liblinear",
          "liblinear",
          "liblinear",
          "liblinear",
          "liblinear",
          "liblinear",
          "liblinear",
          "liblinear",
          "liblinear",
          "liblinear",
          "liblinear",
          "liblinear",
          "liblinear",
          "liblinear",
          "liblinear",
          "liblinear",
          "liblinear",
          "liblinear",
          "liblinear",
          "liblinear",
          "liblinear",
          "liblinear",
          "liblinear",
          "liblinear",
          "liblinear",
          "liblinear",
          "liblinear",
          "liblinear",
          "liblinear",
          "liblinear",
          "liblinear",
          "liblinear",
          "liblinear",
          "liblinear",
          "liblinear",
          "liblinear",
          "liblinear",
          "liblinear",
          "liblinear"
         ],
         "xaxis": "x",
         "y": [
          0.09873417721518987,
          0.09873417721518987,
          0.09873417721518987,
          0.09873417721518987,
          0.09873417721518987,
          0.09873417721518987,
          0.09873417721518987,
          0.09873417721518987,
          0.09873417721518987,
          0.09873417721518987,
          0.22025316455696203,
          0.22025316455696203,
          0.22025316455696203,
          0.22025316455696203,
          0.22025316455696203,
          0.22025316455696203,
          0.22025316455696203,
          0.22025316455696203,
          0.22025316455696203,
          0.22025316455696203,
          0.23639240506329115,
          0.23670886075949368,
          0.23639240506329115,
          0.23670886075949368,
          0.23639240506329115,
          0.23670886075949368,
          0.23639240506329115,
          0.23670886075949368,
          0.23639240506329115,
          0.23670886075949368,
          0.23734177215189875,
          0.23734177215189875,
          0.23734177215189875,
          0.23734177215189875,
          0.23734177215189875,
          0.23734177215189875,
          0.23734177215189875,
          0.23734177215189875,
          0.23734177215189875,
          0.23734177215189875,
          0.23734177215189875,
          0.23734177215189875,
          0.23734177215189875,
          0.23734177215189875,
          0.23734177215189875,
          0.23734177215189875,
          0.23734177215189875,
          0.23734177215189875,
          0.23734177215189875,
          0.23734177215189875,
          0,
          0.2588607594936709,
          0,
          0.2588607594936709,
          0,
          0.2588607594936709,
          0,
          0.2588607594936709,
          0,
          0.2588607594936709,
          0.2088607594936709,
          0.23924050632911395,
          0.2088607594936709,
          0.23924050632911395,
          0.2088607594936709,
          0.23924050632911395,
          0.2088607594936709,
          0.23924050632911395,
          0.2088607594936709,
          0.23924050632911395,
          0.23291139240506328,
          0.23765822784810128,
          0.23291139240506328,
          0.23765822784810128,
          0.23291139240506328,
          0.23765822784810128,
          0.23291139240506328,
          0.23765822784810128,
          0.23291139240506328,
          0.23765822784810128,
          0.23734177215189875,
          0.23734177215189875,
          0.23734177215189875,
          0.23734177215189875,
          0.23734177215189875,
          0.23734177215189875,
          0.23734177215189875,
          0.23734177215189875,
          0.23734177215189875,
          0.23734177215189875,
          0.23734177215189875,
          0.23734177215189875,
          0.23734177215189875,
          0.23734177215189875,
          0.23734177215189875,
          0.23734177215189875,
          0.23734177215189875,
          0.23734177215189875,
          0.23734177215189875,
          0.23734177215189875
         ],
         "yaxis": "y"
        }
       ],
       "layout": {
        "legend": {
         "tracegroupgap": 0
        },
        "template": {
         "data": {
          "bar": [
           {
            "error_x": {
             "color": "#2a3f5f"
            },
            "error_y": {
             "color": "#2a3f5f"
            },
            "marker": {
             "line": {
              "color": "#E5ECF6",
              "width": 0.5
             },
             "pattern": {
              "fillmode": "overlay",
              "size": 10,
              "solidity": 0.2
             }
            },
            "type": "bar"
           }
          ],
          "barpolar": [
           {
            "marker": {
             "line": {
              "color": "#E5ECF6",
              "width": 0.5
             },
             "pattern": {
              "fillmode": "overlay",
              "size": 10,
              "solidity": 0.2
             }
            },
            "type": "barpolar"
           }
          ],
          "carpet": [
           {
            "aaxis": {
             "endlinecolor": "#2a3f5f",
             "gridcolor": "white",
             "linecolor": "white",
             "minorgridcolor": "white",
             "startlinecolor": "#2a3f5f"
            },
            "baxis": {
             "endlinecolor": "#2a3f5f",
             "gridcolor": "white",
             "linecolor": "white",
             "minorgridcolor": "white",
             "startlinecolor": "#2a3f5f"
            },
            "type": "carpet"
           }
          ],
          "choropleth": [
           {
            "colorbar": {
             "outlinewidth": 0,
             "ticks": ""
            },
            "type": "choropleth"
           }
          ],
          "contour": [
           {
            "colorbar": {
             "outlinewidth": 0,
             "ticks": ""
            },
            "colorscale": [
             [
              0,
              "#0d0887"
             ],
             [
              0.1111111111111111,
              "#46039f"
             ],
             [
              0.2222222222222222,
              "#7201a8"
             ],
             [
              0.3333333333333333,
              "#9c179e"
             ],
             [
              0.4444444444444444,
              "#bd3786"
             ],
             [
              0.5555555555555556,
              "#d8576b"
             ],
             [
              0.6666666666666666,
              "#ed7953"
             ],
             [
              0.7777777777777778,
              "#fb9f3a"
             ],
             [
              0.8888888888888888,
              "#fdca26"
             ],
             [
              1,
              "#f0f921"
             ]
            ],
            "type": "contour"
           }
          ],
          "contourcarpet": [
           {
            "colorbar": {
             "outlinewidth": 0,
             "ticks": ""
            },
            "type": "contourcarpet"
           }
          ],
          "heatmap": [
           {
            "colorbar": {
             "outlinewidth": 0,
             "ticks": ""
            },
            "colorscale": [
             [
              0,
              "#0d0887"
             ],
             [
              0.1111111111111111,
              "#46039f"
             ],
             [
              0.2222222222222222,
              "#7201a8"
             ],
             [
              0.3333333333333333,
              "#9c179e"
             ],
             [
              0.4444444444444444,
              "#bd3786"
             ],
             [
              0.5555555555555556,
              "#d8576b"
             ],
             [
              0.6666666666666666,
              "#ed7953"
             ],
             [
              0.7777777777777778,
              "#fb9f3a"
             ],
             [
              0.8888888888888888,
              "#fdca26"
             ],
             [
              1,
              "#f0f921"
             ]
            ],
            "type": "heatmap"
           }
          ],
          "heatmapgl": [
           {
            "colorbar": {
             "outlinewidth": 0,
             "ticks": ""
            },
            "colorscale": [
             [
              0,
              "#0d0887"
             ],
             [
              0.1111111111111111,
              "#46039f"
             ],
             [
              0.2222222222222222,
              "#7201a8"
             ],
             [
              0.3333333333333333,
              "#9c179e"
             ],
             [
              0.4444444444444444,
              "#bd3786"
             ],
             [
              0.5555555555555556,
              "#d8576b"
             ],
             [
              0.6666666666666666,
              "#ed7953"
             ],
             [
              0.7777777777777778,
              "#fb9f3a"
             ],
             [
              0.8888888888888888,
              "#fdca26"
             ],
             [
              1,
              "#f0f921"
             ]
            ],
            "type": "heatmapgl"
           }
          ],
          "histogram": [
           {
            "marker": {
             "pattern": {
              "fillmode": "overlay",
              "size": 10,
              "solidity": 0.2
             }
            },
            "type": "histogram"
           }
          ],
          "histogram2d": [
           {
            "colorbar": {
             "outlinewidth": 0,
             "ticks": ""
            },
            "colorscale": [
             [
              0,
              "#0d0887"
             ],
             [
              0.1111111111111111,
              "#46039f"
             ],
             [
              0.2222222222222222,
              "#7201a8"
             ],
             [
              0.3333333333333333,
              "#9c179e"
             ],
             [
              0.4444444444444444,
              "#bd3786"
             ],
             [
              0.5555555555555556,
              "#d8576b"
             ],
             [
              0.6666666666666666,
              "#ed7953"
             ],
             [
              0.7777777777777778,
              "#fb9f3a"
             ],
             [
              0.8888888888888888,
              "#fdca26"
             ],
             [
              1,
              "#f0f921"
             ]
            ],
            "type": "histogram2d"
           }
          ],
          "histogram2dcontour": [
           {
            "colorbar": {
             "outlinewidth": 0,
             "ticks": ""
            },
            "colorscale": [
             [
              0,
              "#0d0887"
             ],
             [
              0.1111111111111111,
              "#46039f"
             ],
             [
              0.2222222222222222,
              "#7201a8"
             ],
             [
              0.3333333333333333,
              "#9c179e"
             ],
             [
              0.4444444444444444,
              "#bd3786"
             ],
             [
              0.5555555555555556,
              "#d8576b"
             ],
             [
              0.6666666666666666,
              "#ed7953"
             ],
             [
              0.7777777777777778,
              "#fb9f3a"
             ],
             [
              0.8888888888888888,
              "#fdca26"
             ],
             [
              1,
              "#f0f921"
             ]
            ],
            "type": "histogram2dcontour"
           }
          ],
          "mesh3d": [
           {
            "colorbar": {
             "outlinewidth": 0,
             "ticks": ""
            },
            "type": "mesh3d"
           }
          ],
          "parcoords": [
           {
            "line": {
             "colorbar": {
              "outlinewidth": 0,
              "ticks": ""
             }
            },
            "type": "parcoords"
           }
          ],
          "pie": [
           {
            "automargin": true,
            "type": "pie"
           }
          ],
          "scatter": [
           {
            "fillpattern": {
             "fillmode": "overlay",
             "size": 10,
             "solidity": 0.2
            },
            "type": "scatter"
           }
          ],
          "scatter3d": [
           {
            "line": {
             "colorbar": {
              "outlinewidth": 0,
              "ticks": ""
             }
            },
            "marker": {
             "colorbar": {
              "outlinewidth": 0,
              "ticks": ""
             }
            },
            "type": "scatter3d"
           }
          ],
          "scattercarpet": [
           {
            "marker": {
             "colorbar": {
              "outlinewidth": 0,
              "ticks": ""
             }
            },
            "type": "scattercarpet"
           }
          ],
          "scattergeo": [
           {
            "marker": {
             "colorbar": {
              "outlinewidth": 0,
              "ticks": ""
             }
            },
            "type": "scattergeo"
           }
          ],
          "scattergl": [
           {
            "marker": {
             "colorbar": {
              "outlinewidth": 0,
              "ticks": ""
             }
            },
            "type": "scattergl"
           }
          ],
          "scattermapbox": [
           {
            "marker": {
             "colorbar": {
              "outlinewidth": 0,
              "ticks": ""
             }
            },
            "type": "scattermapbox"
           }
          ],
          "scatterpolar": [
           {
            "marker": {
             "colorbar": {
              "outlinewidth": 0,
              "ticks": ""
             }
            },
            "type": "scatterpolar"
           }
          ],
          "scatterpolargl": [
           {
            "marker": {
             "colorbar": {
              "outlinewidth": 0,
              "ticks": ""
             }
            },
            "type": "scatterpolargl"
           }
          ],
          "scatterternary": [
           {
            "marker": {
             "colorbar": {
              "outlinewidth": 0,
              "ticks": ""
             }
            },
            "type": "scatterternary"
           }
          ],
          "surface": [
           {
            "colorbar": {
             "outlinewidth": 0,
             "ticks": ""
            },
            "colorscale": [
             [
              0,
              "#0d0887"
             ],
             [
              0.1111111111111111,
              "#46039f"
             ],
             [
              0.2222222222222222,
              "#7201a8"
             ],
             [
              0.3333333333333333,
              "#9c179e"
             ],
             [
              0.4444444444444444,
              "#bd3786"
             ],
             [
              0.5555555555555556,
              "#d8576b"
             ],
             [
              0.6666666666666666,
              "#ed7953"
             ],
             [
              0.7777777777777778,
              "#fb9f3a"
             ],
             [
              0.8888888888888888,
              "#fdca26"
             ],
             [
              1,
              "#f0f921"
             ]
            ],
            "type": "surface"
           }
          ],
          "table": [
           {
            "cells": {
             "fill": {
              "color": "#EBF0F8"
             },
             "line": {
              "color": "white"
             }
            },
            "header": {
             "fill": {
              "color": "#C8D4E3"
             },
             "line": {
              "color": "white"
             }
            },
            "type": "table"
           }
          ]
         },
         "layout": {
          "annotationdefaults": {
           "arrowcolor": "#2a3f5f",
           "arrowhead": 0,
           "arrowwidth": 1
          },
          "autotypenumbers": "strict",
          "coloraxis": {
           "colorbar": {
            "outlinewidth": 0,
            "ticks": ""
           }
          },
          "colorscale": {
           "diverging": [
            [
             0,
             "#8e0152"
            ],
            [
             0.1,
             "#c51b7d"
            ],
            [
             0.2,
             "#de77ae"
            ],
            [
             0.3,
             "#f1b6da"
            ],
            [
             0.4,
             "#fde0ef"
            ],
            [
             0.5,
             "#f7f7f7"
            ],
            [
             0.6,
             "#e6f5d0"
            ],
            [
             0.7,
             "#b8e186"
            ],
            [
             0.8,
             "#7fbc41"
            ],
            [
             0.9,
             "#4d9221"
            ],
            [
             1,
             "#276419"
            ]
           ],
           "sequential": [
            [
             0,
             "#0d0887"
            ],
            [
             0.1111111111111111,
             "#46039f"
            ],
            [
             0.2222222222222222,
             "#7201a8"
            ],
            [
             0.3333333333333333,
             "#9c179e"
            ],
            [
             0.4444444444444444,
             "#bd3786"
            ],
            [
             0.5555555555555556,
             "#d8576b"
            ],
            [
             0.6666666666666666,
             "#ed7953"
            ],
            [
             0.7777777777777778,
             "#fb9f3a"
            ],
            [
             0.8888888888888888,
             "#fdca26"
            ],
            [
             1,
             "#f0f921"
            ]
           ],
           "sequentialminus": [
            [
             0,
             "#0d0887"
            ],
            [
             0.1111111111111111,
             "#46039f"
            ],
            [
             0.2222222222222222,
             "#7201a8"
            ],
            [
             0.3333333333333333,
             "#9c179e"
            ],
            [
             0.4444444444444444,
             "#bd3786"
            ],
            [
             0.5555555555555556,
             "#d8576b"
            ],
            [
             0.6666666666666666,
             "#ed7953"
            ],
            [
             0.7777777777777778,
             "#fb9f3a"
            ],
            [
             0.8888888888888888,
             "#fdca26"
            ],
            [
             1,
             "#f0f921"
            ]
           ]
          },
          "colorway": [
           "#636efa",
           "#EF553B",
           "#00cc96",
           "#ab63fa",
           "#FFA15A",
           "#19d3f3",
           "#FF6692",
           "#B6E880",
           "#FF97FF",
           "#FECB52"
          ],
          "font": {
           "color": "#2a3f5f"
          },
          "geo": {
           "bgcolor": "white",
           "lakecolor": "white",
           "landcolor": "#E5ECF6",
           "showlakes": true,
           "showland": true,
           "subunitcolor": "white"
          },
          "hoverlabel": {
           "align": "left"
          },
          "hovermode": "closest",
          "mapbox": {
           "style": "light"
          },
          "paper_bgcolor": "white",
          "plot_bgcolor": "#E5ECF6",
          "polar": {
           "angularaxis": {
            "gridcolor": "white",
            "linecolor": "white",
            "ticks": ""
           },
           "bgcolor": "#E5ECF6",
           "radialaxis": {
            "gridcolor": "white",
            "linecolor": "white",
            "ticks": ""
           }
          },
          "scene": {
           "xaxis": {
            "backgroundcolor": "#E5ECF6",
            "gridcolor": "white",
            "gridwidth": 2,
            "linecolor": "white",
            "showbackground": true,
            "ticks": "",
            "zerolinecolor": "white"
           },
           "yaxis": {
            "backgroundcolor": "#E5ECF6",
            "gridcolor": "white",
            "gridwidth": 2,
            "linecolor": "white",
            "showbackground": true,
            "ticks": "",
            "zerolinecolor": "white"
           },
           "zaxis": {
            "backgroundcolor": "#E5ECF6",
            "gridcolor": "white",
            "gridwidth": 2,
            "linecolor": "white",
            "showbackground": true,
            "ticks": "",
            "zerolinecolor": "white"
           }
          },
          "shapedefaults": {
           "line": {
            "color": "#2a3f5f"
           }
          },
          "ternary": {
           "aaxis": {
            "gridcolor": "white",
            "linecolor": "white",
            "ticks": ""
           },
           "baxis": {
            "gridcolor": "white",
            "linecolor": "white",
            "ticks": ""
           },
           "bgcolor": "#E5ECF6",
           "caxis": {
            "gridcolor": "white",
            "linecolor": "white",
            "ticks": ""
           }
          },
          "title": {
           "x": 0.05
          },
          "xaxis": {
           "automargin": true,
           "gridcolor": "white",
           "linecolor": "white",
           "ticks": "",
           "title": {
            "standoff": 15
           },
           "zerolinecolor": "white",
           "zerolinewidth": 2
          },
          "yaxis": {
           "automargin": true,
           "gridcolor": "white",
           "linecolor": "white",
           "ticks": "",
           "title": {
            "standoff": 15
           },
           "zerolinecolor": "white",
           "zerolinewidth": 2
          }
         }
        },
        "title": {
         "text": "Solver vs. Recall"
        },
        "xaxis": {
         "anchor": "y",
         "domain": [
          0,
          1
         ],
         "title": {
          "text": "param_logisticregression__solver"
         }
        },
        "yaxis": {
         "anchor": "x",
         "domain": [
          0,
          1
         ],
         "title": {
          "text": "mean_test_score"
         }
        }
       }
      }
     },
     "metadata": {},
     "output_type": "display_data"
    }
   ],
   "source": [
    "px.scatter(\n",
    "    df_regression_search_cv,\n",
    "    x=\"param_logisticregression__solver\",\n",
    "    y=\"mean_test_score\",\n",
    "    title=\"Solver vs. Recall\",\n",
    ")"
   ]
  },
  {
   "cell_type": "code",
   "execution_count": 24,
   "metadata": {},
   "outputs": [
    {
     "data": {
      "application/vnd.plotly.v1+json": {
       "config": {
        "plotlyServerURL": "https://plot.ly"
       },
       "data": [
        {
         "hovertemplate": "param_logisticregression__penalty=%{x}<br>mean_test_score=%{y}<extra></extra>",
         "legendgroup": "",
         "marker": {
          "color": "#636efa",
          "symbol": "circle"
         },
         "mode": "markers",
         "name": "",
         "orientation": "v",
         "showlegend": false,
         "type": "scatter",
         "x": [
          "l2",
          "l2",
          "l2",
          "l2",
          "l2",
          "l2",
          "l2",
          "l2",
          "l2",
          "l2",
          "l2",
          "l2",
          "l2",
          "l2",
          "l2",
          "l2",
          "l2",
          "l2",
          "l2",
          "l2",
          "l2",
          "l2",
          "l2",
          "l2",
          "l2",
          "l2",
          "l2",
          "l2",
          "l2",
          "l2",
          "l2",
          "l2",
          "l2",
          "l2",
          "l2",
          "l2",
          "l2",
          "l2",
          "l2",
          "l2",
          "l2",
          "l2",
          "l2",
          "l2",
          "l2",
          "l2",
          "l2",
          "l2",
          "l2",
          "l2",
          "l1",
          "l2",
          "l1",
          "l2",
          "l1",
          "l2",
          "l1",
          "l2",
          "l1",
          "l2",
          "l1",
          "l2",
          "l1",
          "l2",
          "l1",
          "l2",
          "l1",
          "l2",
          "l1",
          "l2",
          "l1",
          "l2",
          "l1",
          "l2",
          "l1",
          "l2",
          "l1",
          "l2",
          "l1",
          "l2",
          "l1",
          "l2",
          "l1",
          "l2",
          "l1",
          "l2",
          "l1",
          "l2",
          "l1",
          "l2",
          "l1",
          "l2",
          "l1",
          "l2",
          "l1",
          "l2",
          "l1",
          "l2",
          "l1",
          "l2"
         ],
         "xaxis": "x",
         "y": [
          0.09873417721518987,
          0.09873417721518987,
          0.09873417721518987,
          0.09873417721518987,
          0.09873417721518987,
          0.09873417721518987,
          0.09873417721518987,
          0.09873417721518987,
          0.09873417721518987,
          0.09873417721518987,
          0.22025316455696203,
          0.22025316455696203,
          0.22025316455696203,
          0.22025316455696203,
          0.22025316455696203,
          0.22025316455696203,
          0.22025316455696203,
          0.22025316455696203,
          0.22025316455696203,
          0.22025316455696203,
          0.23639240506329115,
          0.23670886075949368,
          0.23639240506329115,
          0.23670886075949368,
          0.23639240506329115,
          0.23670886075949368,
          0.23639240506329115,
          0.23670886075949368,
          0.23639240506329115,
          0.23670886075949368,
          0.23734177215189875,
          0.23734177215189875,
          0.23734177215189875,
          0.23734177215189875,
          0.23734177215189875,
          0.23734177215189875,
          0.23734177215189875,
          0.23734177215189875,
          0.23734177215189875,
          0.23734177215189875,
          0.23734177215189875,
          0.23734177215189875,
          0.23734177215189875,
          0.23734177215189875,
          0.23734177215189875,
          0.23734177215189875,
          0.23734177215189875,
          0.23734177215189875,
          0.23734177215189875,
          0.23734177215189875,
          0,
          0.2588607594936709,
          0,
          0.2588607594936709,
          0,
          0.2588607594936709,
          0,
          0.2588607594936709,
          0,
          0.2588607594936709,
          0.2088607594936709,
          0.23924050632911395,
          0.2088607594936709,
          0.23924050632911395,
          0.2088607594936709,
          0.23924050632911395,
          0.2088607594936709,
          0.23924050632911395,
          0.2088607594936709,
          0.23924050632911395,
          0.23291139240506328,
          0.23765822784810128,
          0.23291139240506328,
          0.23765822784810128,
          0.23291139240506328,
          0.23765822784810128,
          0.23291139240506328,
          0.23765822784810128,
          0.23291139240506328,
          0.23765822784810128,
          0.23734177215189875,
          0.23734177215189875,
          0.23734177215189875,
          0.23734177215189875,
          0.23734177215189875,
          0.23734177215189875,
          0.23734177215189875,
          0.23734177215189875,
          0.23734177215189875,
          0.23734177215189875,
          0.23734177215189875,
          0.23734177215189875,
          0.23734177215189875,
          0.23734177215189875,
          0.23734177215189875,
          0.23734177215189875,
          0.23734177215189875,
          0.23734177215189875,
          0.23734177215189875,
          0.23734177215189875
         ],
         "yaxis": "y"
        }
       ],
       "layout": {
        "legend": {
         "tracegroupgap": 0
        },
        "template": {
         "data": {
          "bar": [
           {
            "error_x": {
             "color": "#2a3f5f"
            },
            "error_y": {
             "color": "#2a3f5f"
            },
            "marker": {
             "line": {
              "color": "#E5ECF6",
              "width": 0.5
             },
             "pattern": {
              "fillmode": "overlay",
              "size": 10,
              "solidity": 0.2
             }
            },
            "type": "bar"
           }
          ],
          "barpolar": [
           {
            "marker": {
             "line": {
              "color": "#E5ECF6",
              "width": 0.5
             },
             "pattern": {
              "fillmode": "overlay",
              "size": 10,
              "solidity": 0.2
             }
            },
            "type": "barpolar"
           }
          ],
          "carpet": [
           {
            "aaxis": {
             "endlinecolor": "#2a3f5f",
             "gridcolor": "white",
             "linecolor": "white",
             "minorgridcolor": "white",
             "startlinecolor": "#2a3f5f"
            },
            "baxis": {
             "endlinecolor": "#2a3f5f",
             "gridcolor": "white",
             "linecolor": "white",
             "minorgridcolor": "white",
             "startlinecolor": "#2a3f5f"
            },
            "type": "carpet"
           }
          ],
          "choropleth": [
           {
            "colorbar": {
             "outlinewidth": 0,
             "ticks": ""
            },
            "type": "choropleth"
           }
          ],
          "contour": [
           {
            "colorbar": {
             "outlinewidth": 0,
             "ticks": ""
            },
            "colorscale": [
             [
              0,
              "#0d0887"
             ],
             [
              0.1111111111111111,
              "#46039f"
             ],
             [
              0.2222222222222222,
              "#7201a8"
             ],
             [
              0.3333333333333333,
              "#9c179e"
             ],
             [
              0.4444444444444444,
              "#bd3786"
             ],
             [
              0.5555555555555556,
              "#d8576b"
             ],
             [
              0.6666666666666666,
              "#ed7953"
             ],
             [
              0.7777777777777778,
              "#fb9f3a"
             ],
             [
              0.8888888888888888,
              "#fdca26"
             ],
             [
              1,
              "#f0f921"
             ]
            ],
            "type": "contour"
           }
          ],
          "contourcarpet": [
           {
            "colorbar": {
             "outlinewidth": 0,
             "ticks": ""
            },
            "type": "contourcarpet"
           }
          ],
          "heatmap": [
           {
            "colorbar": {
             "outlinewidth": 0,
             "ticks": ""
            },
            "colorscale": [
             [
              0,
              "#0d0887"
             ],
             [
              0.1111111111111111,
              "#46039f"
             ],
             [
              0.2222222222222222,
              "#7201a8"
             ],
             [
              0.3333333333333333,
              "#9c179e"
             ],
             [
              0.4444444444444444,
              "#bd3786"
             ],
             [
              0.5555555555555556,
              "#d8576b"
             ],
             [
              0.6666666666666666,
              "#ed7953"
             ],
             [
              0.7777777777777778,
              "#fb9f3a"
             ],
             [
              0.8888888888888888,
              "#fdca26"
             ],
             [
              1,
              "#f0f921"
             ]
            ],
            "type": "heatmap"
           }
          ],
          "heatmapgl": [
           {
            "colorbar": {
             "outlinewidth": 0,
             "ticks": ""
            },
            "colorscale": [
             [
              0,
              "#0d0887"
             ],
             [
              0.1111111111111111,
              "#46039f"
             ],
             [
              0.2222222222222222,
              "#7201a8"
             ],
             [
              0.3333333333333333,
              "#9c179e"
             ],
             [
              0.4444444444444444,
              "#bd3786"
             ],
             [
              0.5555555555555556,
              "#d8576b"
             ],
             [
              0.6666666666666666,
              "#ed7953"
             ],
             [
              0.7777777777777778,
              "#fb9f3a"
             ],
             [
              0.8888888888888888,
              "#fdca26"
             ],
             [
              1,
              "#f0f921"
             ]
            ],
            "type": "heatmapgl"
           }
          ],
          "histogram": [
           {
            "marker": {
             "pattern": {
              "fillmode": "overlay",
              "size": 10,
              "solidity": 0.2
             }
            },
            "type": "histogram"
           }
          ],
          "histogram2d": [
           {
            "colorbar": {
             "outlinewidth": 0,
             "ticks": ""
            },
            "colorscale": [
             [
              0,
              "#0d0887"
             ],
             [
              0.1111111111111111,
              "#46039f"
             ],
             [
              0.2222222222222222,
              "#7201a8"
             ],
             [
              0.3333333333333333,
              "#9c179e"
             ],
             [
              0.4444444444444444,
              "#bd3786"
             ],
             [
              0.5555555555555556,
              "#d8576b"
             ],
             [
              0.6666666666666666,
              "#ed7953"
             ],
             [
              0.7777777777777778,
              "#fb9f3a"
             ],
             [
              0.8888888888888888,
              "#fdca26"
             ],
             [
              1,
              "#f0f921"
             ]
            ],
            "type": "histogram2d"
           }
          ],
          "histogram2dcontour": [
           {
            "colorbar": {
             "outlinewidth": 0,
             "ticks": ""
            },
            "colorscale": [
             [
              0,
              "#0d0887"
             ],
             [
              0.1111111111111111,
              "#46039f"
             ],
             [
              0.2222222222222222,
              "#7201a8"
             ],
             [
              0.3333333333333333,
              "#9c179e"
             ],
             [
              0.4444444444444444,
              "#bd3786"
             ],
             [
              0.5555555555555556,
              "#d8576b"
             ],
             [
              0.6666666666666666,
              "#ed7953"
             ],
             [
              0.7777777777777778,
              "#fb9f3a"
             ],
             [
              0.8888888888888888,
              "#fdca26"
             ],
             [
              1,
              "#f0f921"
             ]
            ],
            "type": "histogram2dcontour"
           }
          ],
          "mesh3d": [
           {
            "colorbar": {
             "outlinewidth": 0,
             "ticks": ""
            },
            "type": "mesh3d"
           }
          ],
          "parcoords": [
           {
            "line": {
             "colorbar": {
              "outlinewidth": 0,
              "ticks": ""
             }
            },
            "type": "parcoords"
           }
          ],
          "pie": [
           {
            "automargin": true,
            "type": "pie"
           }
          ],
          "scatter": [
           {
            "fillpattern": {
             "fillmode": "overlay",
             "size": 10,
             "solidity": 0.2
            },
            "type": "scatter"
           }
          ],
          "scatter3d": [
           {
            "line": {
             "colorbar": {
              "outlinewidth": 0,
              "ticks": ""
             }
            },
            "marker": {
             "colorbar": {
              "outlinewidth": 0,
              "ticks": ""
             }
            },
            "type": "scatter3d"
           }
          ],
          "scattercarpet": [
           {
            "marker": {
             "colorbar": {
              "outlinewidth": 0,
              "ticks": ""
             }
            },
            "type": "scattercarpet"
           }
          ],
          "scattergeo": [
           {
            "marker": {
             "colorbar": {
              "outlinewidth": 0,
              "ticks": ""
             }
            },
            "type": "scattergeo"
           }
          ],
          "scattergl": [
           {
            "marker": {
             "colorbar": {
              "outlinewidth": 0,
              "ticks": ""
             }
            },
            "type": "scattergl"
           }
          ],
          "scattermapbox": [
           {
            "marker": {
             "colorbar": {
              "outlinewidth": 0,
              "ticks": ""
             }
            },
            "type": "scattermapbox"
           }
          ],
          "scatterpolar": [
           {
            "marker": {
             "colorbar": {
              "outlinewidth": 0,
              "ticks": ""
             }
            },
            "type": "scatterpolar"
           }
          ],
          "scatterpolargl": [
           {
            "marker": {
             "colorbar": {
              "outlinewidth": 0,
              "ticks": ""
             }
            },
            "type": "scatterpolargl"
           }
          ],
          "scatterternary": [
           {
            "marker": {
             "colorbar": {
              "outlinewidth": 0,
              "ticks": ""
             }
            },
            "type": "scatterternary"
           }
          ],
          "surface": [
           {
            "colorbar": {
             "outlinewidth": 0,
             "ticks": ""
            },
            "colorscale": [
             [
              0,
              "#0d0887"
             ],
             [
              0.1111111111111111,
              "#46039f"
             ],
             [
              0.2222222222222222,
              "#7201a8"
             ],
             [
              0.3333333333333333,
              "#9c179e"
             ],
             [
              0.4444444444444444,
              "#bd3786"
             ],
             [
              0.5555555555555556,
              "#d8576b"
             ],
             [
              0.6666666666666666,
              "#ed7953"
             ],
             [
              0.7777777777777778,
              "#fb9f3a"
             ],
             [
              0.8888888888888888,
              "#fdca26"
             ],
             [
              1,
              "#f0f921"
             ]
            ],
            "type": "surface"
           }
          ],
          "table": [
           {
            "cells": {
             "fill": {
              "color": "#EBF0F8"
             },
             "line": {
              "color": "white"
             }
            },
            "header": {
             "fill": {
              "color": "#C8D4E3"
             },
             "line": {
              "color": "white"
             }
            },
            "type": "table"
           }
          ]
         },
         "layout": {
          "annotationdefaults": {
           "arrowcolor": "#2a3f5f",
           "arrowhead": 0,
           "arrowwidth": 1
          },
          "autotypenumbers": "strict",
          "coloraxis": {
           "colorbar": {
            "outlinewidth": 0,
            "ticks": ""
           }
          },
          "colorscale": {
           "diverging": [
            [
             0,
             "#8e0152"
            ],
            [
             0.1,
             "#c51b7d"
            ],
            [
             0.2,
             "#de77ae"
            ],
            [
             0.3,
             "#f1b6da"
            ],
            [
             0.4,
             "#fde0ef"
            ],
            [
             0.5,
             "#f7f7f7"
            ],
            [
             0.6,
             "#e6f5d0"
            ],
            [
             0.7,
             "#b8e186"
            ],
            [
             0.8,
             "#7fbc41"
            ],
            [
             0.9,
             "#4d9221"
            ],
            [
             1,
             "#276419"
            ]
           ],
           "sequential": [
            [
             0,
             "#0d0887"
            ],
            [
             0.1111111111111111,
             "#46039f"
            ],
            [
             0.2222222222222222,
             "#7201a8"
            ],
            [
             0.3333333333333333,
             "#9c179e"
            ],
            [
             0.4444444444444444,
             "#bd3786"
            ],
            [
             0.5555555555555556,
             "#d8576b"
            ],
            [
             0.6666666666666666,
             "#ed7953"
            ],
            [
             0.7777777777777778,
             "#fb9f3a"
            ],
            [
             0.8888888888888888,
             "#fdca26"
            ],
            [
             1,
             "#f0f921"
            ]
           ],
           "sequentialminus": [
            [
             0,
             "#0d0887"
            ],
            [
             0.1111111111111111,
             "#46039f"
            ],
            [
             0.2222222222222222,
             "#7201a8"
            ],
            [
             0.3333333333333333,
             "#9c179e"
            ],
            [
             0.4444444444444444,
             "#bd3786"
            ],
            [
             0.5555555555555556,
             "#d8576b"
            ],
            [
             0.6666666666666666,
             "#ed7953"
            ],
            [
             0.7777777777777778,
             "#fb9f3a"
            ],
            [
             0.8888888888888888,
             "#fdca26"
            ],
            [
             1,
             "#f0f921"
            ]
           ]
          },
          "colorway": [
           "#636efa",
           "#EF553B",
           "#00cc96",
           "#ab63fa",
           "#FFA15A",
           "#19d3f3",
           "#FF6692",
           "#B6E880",
           "#FF97FF",
           "#FECB52"
          ],
          "font": {
           "color": "#2a3f5f"
          },
          "geo": {
           "bgcolor": "white",
           "lakecolor": "white",
           "landcolor": "#E5ECF6",
           "showlakes": true,
           "showland": true,
           "subunitcolor": "white"
          },
          "hoverlabel": {
           "align": "left"
          },
          "hovermode": "closest",
          "mapbox": {
           "style": "light"
          },
          "paper_bgcolor": "white",
          "plot_bgcolor": "#E5ECF6",
          "polar": {
           "angularaxis": {
            "gridcolor": "white",
            "linecolor": "white",
            "ticks": ""
           },
           "bgcolor": "#E5ECF6",
           "radialaxis": {
            "gridcolor": "white",
            "linecolor": "white",
            "ticks": ""
           }
          },
          "scene": {
           "xaxis": {
            "backgroundcolor": "#E5ECF6",
            "gridcolor": "white",
            "gridwidth": 2,
            "linecolor": "white",
            "showbackground": true,
            "ticks": "",
            "zerolinecolor": "white"
           },
           "yaxis": {
            "backgroundcolor": "#E5ECF6",
            "gridcolor": "white",
            "gridwidth": 2,
            "linecolor": "white",
            "showbackground": true,
            "ticks": "",
            "zerolinecolor": "white"
           },
           "zaxis": {
            "backgroundcolor": "#E5ECF6",
            "gridcolor": "white",
            "gridwidth": 2,
            "linecolor": "white",
            "showbackground": true,
            "ticks": "",
            "zerolinecolor": "white"
           }
          },
          "shapedefaults": {
           "line": {
            "color": "#2a3f5f"
           }
          },
          "ternary": {
           "aaxis": {
            "gridcolor": "white",
            "linecolor": "white",
            "ticks": ""
           },
           "baxis": {
            "gridcolor": "white",
            "linecolor": "white",
            "ticks": ""
           },
           "bgcolor": "#E5ECF6",
           "caxis": {
            "gridcolor": "white",
            "linecolor": "white",
            "ticks": ""
           }
          },
          "title": {
           "x": 0.05
          },
          "xaxis": {
           "automargin": true,
           "gridcolor": "white",
           "linecolor": "white",
           "ticks": "",
           "title": {
            "standoff": 15
           },
           "zerolinecolor": "white",
           "zerolinewidth": 2
          },
          "yaxis": {
           "automargin": true,
           "gridcolor": "white",
           "linecolor": "white",
           "ticks": "",
           "title": {
            "standoff": 15
           },
           "zerolinecolor": "white",
           "zerolinewidth": 2
          }
         }
        },
        "title": {
         "text": "Penalty vs. Recall"
        },
        "xaxis": {
         "anchor": "y",
         "domain": [
          0,
          1
         ],
         "title": {
          "text": "param_logisticregression__penalty"
         }
        },
        "yaxis": {
         "anchor": "x",
         "domain": [
          0,
          1
         ],
         "title": {
          "text": "mean_test_score"
         }
        }
       }
      }
     },
     "metadata": {},
     "output_type": "display_data"
    }
   ],
   "source": [
    "px.scatter(\n",
    "    df_regression_search_cv,\n",
    "    x=\"param_logisticregression__penalty\",\n",
    "    y=\"mean_test_score\",\n",
    "    title=\"Penalty vs. Recall\",\n",
    ")"
   ]
  },
  {
   "cell_type": "markdown",
   "metadata": {},
   "source": [
    "## Validação Cruzada Aninhada\n"
   ]
  },
  {
   "cell_type": "markdown",
   "metadata": {},
   "source": [
    "### Decision Tree\n"
   ]
  },
  {
   "cell_type": "code",
   "execution_count": 25,
   "metadata": {},
   "outputs": [],
   "source": [
    "from sklearn.model_selection import cross_val_score\n",
    "\n",
    "inner_cv = StratifiedKFold(shuffle=True, random_state=SEED)\n",
    "outer_cv = StratifiedKFold(n_splits=3, shuffle=True, random_state=SEED)\n",
    "decision_tree = DecisionTreeClassifier(max_depth=3, random_state=SEED)\n",
    "\n",
    "tree_nested_cv = GridSearchCV(\n",
    "    decision_tree, param_grid=param_grid_dt, cv=inner_cv, scoring=\"recall\", n_jobs=-1\n",
    ")\n",
    "\n",
    "tree_nested_cv_results = cross_val_score(\n",
    "    tree_nested_cv, x_treino, y_treino, cv=outer_cv\n",
    ")"
   ]
  },
  {
   "cell_type": "code",
   "execution_count": 26,
   "metadata": {},
   "outputs": [
    {
     "name": "stdout",
     "output_type": "stream",
     "text": [
      "Média do Recall: 0.24713643077547778\n"
     ]
    }
   ],
   "source": [
    "print(f\"Média do Recall: {tree_nested_cv_results.mean()}\")"
   ]
  },
  {
   "cell_type": "markdown",
   "metadata": {},
   "source": [
    "### Logistic Regression\n"
   ]
  },
  {
   "cell_type": "code",
   "execution_count": 27,
   "metadata": {},
   "outputs": [
    {
     "name": "stdout",
     "output_type": "stream",
     "text": [
      "Média do Recall: 0.2632900907199874\n"
     ]
    }
   ],
   "source": [
    "inner_cv = StratifiedKFold(shuffle=True, random_state=SEED)\n",
    "outer_cv = StratifiedKFold(n_splits=3, shuffle=True, random_state=SEED)\n",
    "regression_pipeline = make_pipeline(StandardScaler(), LogisticRegression())\n",
    "\n",
    "regression_nested_cv = GridSearchCV(\n",
    "    regression_pipeline,\n",
    "    param_grid=param_grid_regression,\n",
    "    cv=inner_cv,\n",
    "    scoring=\"recall\",\n",
    "    n_jobs=-1,\n",
    ")\n",
    "\n",
    "regression_nested_cv_results = cross_val_score(\n",
    "    regression_nested_cv, x_treino, y_treino, cv=outer_cv\n",
    ")\n",
    "\n",
    "print(f\"Média do Recall: {regression_nested_cv_results.mean()}\")"
   ]
  },
  {
   "cell_type": "markdown",
   "metadata": {},
   "source": [
    "## RandomizedSearchCV Aninhado\n"
   ]
  },
  {
   "cell_type": "markdown",
   "metadata": {},
   "source": [
    "### Decision Tree\n"
   ]
  },
  {
   "cell_type": "code",
   "execution_count": 28,
   "metadata": {},
   "outputs": [
    {
     "name": "stdout",
     "output_type": "stream",
     "text": [
      "Média do Recall: 0.2797269690586157\n"
     ]
    }
   ],
   "source": [
    "from sklearn.model_selection import RandomizedSearchCV\n",
    "\n",
    "tree_nested_rcv = RandomizedSearchCV(\n",
    "    decision_tree,\n",
    "    n_iter=100,\n",
    "    param_distributions=param_grid_dt,\n",
    "    cv=inner_cv,\n",
    "    scoring=\"recall\",\n",
    "    n_jobs=-1,\n",
    "    random_state=SEED,\n",
    ")\n",
    "\n",
    "tree_nested_rcv_results = cross_val_score(\n",
    "    tree_nested_rcv, x_treino, y_treino, cv=outer_cv\n",
    ")\n",
    "print(f\"Média do Recall: {tree_nested_rcv_results.mean()}\")"
   ]
  },
  {
   "cell_type": "code",
   "execution_count": 29,
   "metadata": {},
   "outputs": [
    {
     "data": {
      "text/plain": [
       "{'splitter': 'best',\n",
       " 'min_samples_split': 5,\n",
       " 'min_samples_leaf': 15,\n",
       " 'max_features': 'sqrt',\n",
       " 'max_depth': 12,\n",
       " 'criterion': 'gini'}"
      ]
     },
     "execution_count": 29,
     "metadata": {},
     "output_type": "execute_result"
    }
   ],
   "source": [
    "tree_nested_rcv.fit(x_treino, y_treino)\n",
    "tree_nested_rcv.best_params_"
   ]
  },
  {
   "cell_type": "markdown",
   "metadata": {},
   "source": [
    "### Logistic Regression\n"
   ]
  },
  {
   "cell_type": "code",
   "execution_count": 30,
   "metadata": {},
   "outputs": [
    {
     "name": "stdout",
     "output_type": "stream",
     "text": [
      "Média do Recall: 0.2797269690586157\n"
     ]
    }
   ],
   "source": [
    "regression_nested_rcv = RandomizedSearchCV(\n",
    "    regression_pipeline,\n",
    "    n_iter=50,\n",
    "    param_distributions=param_grid_regression,\n",
    "    cv=inner_cv,\n",
    "    scoring=\"recall\",\n",
    "    n_jobs=-1,\n",
    "    random_state=SEED,\n",
    ")\n",
    "\n",
    "regression_nested_rcv_results = cross_val_score(\n",
    "    regression_nested_rcv, x_treino, y_treino, cv=outer_cv\n",
    ")\n",
    "print(f\"Média do Recall: {tree_nested_rcv_results.mean()}\")"
   ]
  },
  {
   "cell_type": "code",
   "execution_count": 31,
   "metadata": {},
   "outputs": [
    {
     "data": {
      "text/plain": [
       "{'logisticregression__solver': 'liblinear',\n",
       " 'logisticregression__penalty': 'l2',\n",
       " 'logisticregression__max_iter': 150,\n",
       " 'logisticregression__C': 0.001}"
      ]
     },
     "execution_count": 31,
     "metadata": {},
     "output_type": "execute_result"
    }
   ],
   "source": [
    "regression_nested_rcv.fit(x_treino, y_treino)\n",
    "regression_nested_rcv.best_params_"
   ]
  },
  {
   "cell_type": "markdown",
   "metadata": {},
   "source": [
    "## Otimização Bayesiana"
   ]
  },
  {
   "cell_type": "code",
   "execution_count": 32,
   "metadata": {},
   "outputs": [
    {
     "name": "stderr",
     "output_type": "stream",
     "text": [
      "/Users/leandrosouza/workspace/machine-learning-otimizacao/.venv/lib/python3.12/site-packages/skopt/optimizer/optimizer.py:517: UserWarning:\n",
      "\n",
      "The objective has been evaluated at point ['entropy', 12, 'log2', 5, 5, 'best'] before, using random point ['gini', 10, 'log2', 17, 18, 'best']\n",
      "\n",
      "/Users/leandrosouza/workspace/machine-learning-otimizacao/.venv/lib/python3.12/site-packages/skopt/optimizer/optimizer.py:517: UserWarning:\n",
      "\n",
      "The objective has been evaluated at point ['gini', 12, 'log2', 5, 5, 'best'] before, using random point ['entropy', 7, 'log2', 12, 9, 'best']\n",
      "\n",
      "/Users/leandrosouza/workspace/machine-learning-otimizacao/.venv/lib/python3.12/site-packages/skopt/optimizer/optimizer.py:517: UserWarning:\n",
      "\n",
      "The objective has been evaluated at point ['gini', 12, 'log2', 5, 5, 'best'] before, using random point ['gini', 8, 'log2', 10, 11, 'random']\n",
      "\n",
      "/Users/leandrosouza/workspace/machine-learning-otimizacao/.venv/lib/python3.12/site-packages/skopt/optimizer/optimizer.py:517: UserWarning:\n",
      "\n",
      "The objective has been evaluated at point ['gini', 12, 'sqrt', 5, 5, 'best'] before, using random point ['gini', 10, 'sqrt', 17, 16, 'random']\n",
      "\n"
     ]
    },
    {
     "name": "stdout",
     "output_type": "stream",
     "text": [
      "Média do Recall: 0.25505182926646136\n"
     ]
    }
   ],
   "source": [
    "from skopt.space import Real, Integer, Categorical\n",
    "from skopt import BayesSearchCV\n",
    "\n",
    "space_dt = {\n",
    "    'criterion': Categorical(['gini', 'entropy']),\n",
    "    'max_depth': Integer(6, 12),\n",
    "    'min_samples_split': Integer(5, 20),\n",
    "    'min_samples_leaf': Integer(5, 20),\n",
    "    'max_features': Categorical(['sqrt', 'log2']),\n",
    "    'splitter': Categorical(['best', 'random'])\n",
    "}\n",
    "\n",
    "tree_nested_bcv = BayesSearchCV(\n",
    "    decision_tree,\n",
    "    n_iter=50,\n",
    "    search_spaces=space_dt,\n",
    "    cv=inner_cv,\n",
    "    scoring=\"recall\",\n",
    "    n_jobs=-1,\n",
    "    random_state=SEED,\n",
    ")\n",
    "\n",
    "tree_nested_bcv_results = cross_val_score(\n",
    "    tree_nested_bcv, x_treino, y_treino, cv=outer_cv\n",
    ")\n",
    "print(f\"Média do Recall: {tree_nested_bcv_results.mean()}\")"
   ]
  },
  {
   "cell_type": "code",
   "execution_count": 33,
   "metadata": {},
   "outputs": [
    {
     "data": {
      "text/plain": [
       "OrderedDict([('criterion', 'gini'),\n",
       "             ('max_depth', 12),\n",
       "             ('max_features', 'sqrt'),\n",
       "             ('min_samples_leaf', 15),\n",
       "             ('min_samples_split', 6),\n",
       "             ('splitter', 'best')])"
      ]
     },
     "execution_count": 33,
     "metadata": {},
     "output_type": "execute_result"
    }
   ],
   "source": [
    "tree_nested_bcv.fit(x_treino, y_treino)\n",
    "tree_nested_bcv.best_params_"
   ]
  },
  {
   "cell_type": "markdown",
   "metadata": {},
   "source": [
    "### Logistic Regression"
   ]
  },
  {
   "cell_type": "code",
   "execution_count": 36,
   "metadata": {},
   "outputs": [
    {
     "name": "stderr",
     "output_type": "stream",
     "text": [
      "/Users/leandrosouza/workspace/machine-learning-otimizacao/.venv/lib/python3.12/site-packages/skopt/optimizer/optimizer.py:517: UserWarning:\n",
      "\n",
      "The objective has been evaluated at point [0.1, 248, 'l2', 'liblinear'] before, using random point [0.001, 183, 'l1', 'liblinear']\n",
      "\n",
      "/Users/leandrosouza/workspace/machine-learning-otimizacao/.venv/lib/python3.12/site-packages/skopt/optimizer/optimizer.py:517: UserWarning:\n",
      "\n",
      "The objective has been evaluated at point [0.001, 100, 'l2', 'liblinear'] before, using random point [0.01, 146, 'l1', 'liblinear']\n",
      "\n",
      "/Users/leandrosouza/workspace/machine-learning-otimizacao/.venv/lib/python3.12/site-packages/skopt/optimizer/optimizer.py:517: UserWarning:\n",
      "\n",
      "The objective has been evaluated at point [0.001, 100, 'l2', 'liblinear'] before, using random point [0.1, 168, 'l2', 'liblinear']\n",
      "\n",
      "/Users/leandrosouza/workspace/machine-learning-otimizacao/.venv/lib/python3.12/site-packages/skopt/optimizer/optimizer.py:517: UserWarning:\n",
      "\n",
      "The objective has been evaluated at point [0.001, 100, 'l2', 'liblinear'] before, using random point [1, 137, 'l1', 'liblinear']\n",
      "\n",
      "/Users/leandrosouza/workspace/machine-learning-otimizacao/.venv/lib/python3.12/site-packages/skopt/optimizer/optimizer.py:517: UserWarning:\n",
      "\n",
      "The objective has been evaluated at point [0.001, 100, 'l2', 'liblinear'] before, using random point [10, 100, 'l1', 'liblinear']\n",
      "\n",
      "/Users/leandrosouza/workspace/machine-learning-otimizacao/.venv/lib/python3.12/site-packages/skopt/optimizer/optimizer.py:517: UserWarning:\n",
      "\n",
      "The objective has been evaluated at point [0.001, 300, 'l2', 'liblinear'] before, using random point [0.01, 264, 'l1', 'liblinear']\n",
      "\n",
      "/Users/leandrosouza/workspace/machine-learning-otimizacao/.venv/lib/python3.12/site-packages/skopt/optimizer/optimizer.py:517: UserWarning:\n",
      "\n",
      "The objective has been evaluated at point [0.001, 300, 'l2', 'liblinear'] before, using random point [10, 116, 'l2', 'liblinear']\n",
      "\n",
      "/Users/leandrosouza/workspace/machine-learning-otimizacao/.venv/lib/python3.12/site-packages/skopt/optimizer/optimizer.py:517: UserWarning:\n",
      "\n",
      "The objective has been evaluated at point [0.001, 100, 'l2', 'liblinear'] before, using random point [0.001, 240, 'l2', 'liblinear']\n",
      "\n",
      "/Users/leandrosouza/workspace/machine-learning-otimizacao/.venv/lib/python3.12/site-packages/skopt/optimizer/optimizer.py:517: UserWarning:\n",
      "\n",
      "The objective has been evaluated at point [0.1, 300, 'l2', 'liblinear'] before, using random point [0.001, 287, 'l2', 'liblinear']\n",
      "\n",
      "/Users/leandrosouza/workspace/machine-learning-otimizacao/.venv/lib/python3.12/site-packages/skopt/optimizer/optimizer.py:517: UserWarning:\n",
      "\n",
      "The objective has been evaluated at point [0.1, 300, 'l2', 'liblinear'] before, using random point [0.001, 183, 'l1', 'liblinear']\n",
      "\n",
      "/Users/leandrosouza/workspace/machine-learning-otimizacao/.venv/lib/python3.12/site-packages/skopt/optimizer/optimizer.py:517: UserWarning:\n",
      "\n",
      "The objective has been evaluated at point [0.001, 100, 'l2', 'liblinear'] before, using random point [0.1, 168, 'l2', 'liblinear']\n",
      "\n",
      "/Users/leandrosouza/workspace/machine-learning-otimizacao/.venv/lib/python3.12/site-packages/skopt/optimizer/optimizer.py:517: UserWarning:\n",
      "\n",
      "The objective has been evaluated at point [0.01, 300, 'l2', 'liblinear'] before, using random point [0.001, 287, 'l2', 'liblinear']\n",
      "\n"
     ]
    }
   ],
   "source": [
    "max_iter = Integer(100, 300)\n",
    "c = Categorical([0.001, 0.01, 0.1, 1, 10])\n",
    "\n",
    "space_lr = [\n",
    "    {\n",
    "        'logisticregression__solver': Categorical(['newton-cg', 'lbfgs']),\n",
    "        'logisticregression__penalty': Categorical(['l2']),\n",
    "        'logisticregression__max_iter': max_iter,\n",
    "        'logisticregression__C': c\n",
    "    },\n",
    "    {\n",
    "        'logisticregression__solver': Categorical(['liblinear']),\n",
    "        'logisticregression__penalty': Categorical(['l1', 'l2']),\n",
    "        'logisticregression__max_iter': max_iter,\n",
    "        'logisticregression__C': c\n",
    "    },\n",
    "]\n",
    "\n",
    "regression_nested_bcv = BayesSearchCV(\n",
    "    make_pipeline(StandardScaler(), LogisticRegression()),\n",
    "    n_iter=25,\n",
    "    search_spaces=space_lr,\n",
    "    cv=inner_cv,\n",
    "    scoring=\"recall\",\n",
    "    n_jobs=-1,\n",
    "    random_state=SEED\n",
    ")\n",
    "\n",
    "regression_nested_bcv_results = cross_val_score(\n",
    "    regression_nested_bcv, x_treino, y_treino, cv=outer_cv\n",
    ")"
   ]
  },
  {
   "cell_type": "code",
   "execution_count": 37,
   "metadata": {},
   "outputs": [
    {
     "name": "stdout",
     "output_type": "stream",
     "text": [
      "Média do Recall: 0.2632900907199874\n"
     ]
    }
   ],
   "source": [
    "print(f\"Média do Recall: {regression_nested_bcv_results.mean()}\")"
   ]
  },
  {
   "cell_type": "code",
   "execution_count": 38,
   "metadata": {},
   "outputs": [
    {
     "data": {
      "text/plain": [
       "OrderedDict([('logisticregression__C', 0.001),\n",
       "             ('logisticregression__max_iter', 100),\n",
       "             ('logisticregression__penalty', 'l2'),\n",
       "             ('logisticregression__solver', 'liblinear')])"
      ]
     },
     "execution_count": 38,
     "metadata": {},
     "output_type": "execute_result"
    }
   ],
   "source": [
    "regression_nested_bcv.fit(x_treino, y_treino)\n",
    "regression_nested_bcv.best_params_"
   ]
  },
  {
   "cell_type": "code",
   "execution_count": null,
   "metadata": {},
   "outputs": [],
   "source": []
  }
 ],
 "metadata": {
  "kernelspec": {
   "display_name": ".venv",
   "language": "python",
   "name": "python3"
  },
  "language_info": {
   "codemirror_mode": {
    "name": "ipython",
    "version": 3
   },
   "file_extension": ".py",
   "mimetype": "text/x-python",
   "name": "python",
   "nbconvert_exporter": "python",
   "pygments_lexer": "ipython3",
   "version": "3.12.3"
  }
 },
 "nbformat": 4,
 "nbformat_minor": 2
}
